{
 "cells": [
  {
   "cell_type": "code",
   "execution_count": null,
   "id": "58ce4986",
   "metadata": {},
   "outputs": [],
   "source": [
    "def Unknown_func(number):\n",
    "    if number == 0:\n",
    "        return 0\n",
    "    else:\n",
    "        return number*number + Unknown_func(number-1)\n",
    "\n",
    "Unknown_func(4)"
   ]
  },
  {
   "cell_type": "code",
   "execution_count": null,
   "id": "09d4c988",
   "metadata": {},
   "outputs": [],
   "source": [
    "def Unknown_func(number):\n",
    "    if(number == 1):\n",
    "        return (0)\n",
    "    else:\n",
    "        return (1 + Unknown_func(number//2))"
   ]
  },
  {
   "cell_type": "code",
   "execution_count": null,
   "id": "8cb2ce55",
   "metadata": {},
   "outputs": [],
   "source": [
    "def Unknown_func(n):\n",
    "    if n <= 1:\n",
    "        return(n)\n",
    "    else:\n",
    "        return (Unknown_func(n-1) + Unknown_func(n-2))\n",
    "\n",
    "print(Unknown_func(6))"
   ]
  },
  {
   "cell_type": "code",
   "execution_count": null,
   "id": "80f18f66",
   "metadata": {},
   "outputs": [],
   "source": [
    "#take input on your own\n",
    "string1=input()\n",
    "string2=input()\n",
    "\n",
    "\n",
    "#write code to find the extra character here\n",
    "\n",
    "#we will iterate over longer string\n",
    "#first we find longer string\n",
    "if len(string2)>len(string1):\n",
    "    longer=string2\n",
    "else:\n",
    "    longer=string1\n",
    "#we then iterate over longer string checking count\n",
    "#of that character in both strings\n",
    "\n",
    "for i in longer:\n",
    "    if string1.count(i)!=string2.count(i):\n",
    "        print(i)\n",
    "        break\n",
    "    "
   ]
  },
  {
   "cell_type": "code",
   "execution_count": null,
   "id": "250ca412",
   "metadata": {},
   "outputs": [],
   "source": [
    "a = input()\n",
    "try:\n",
    "    a = int(a)\n",
    "    print(\"INT\")\n",
    "except:\n",
    "    print(\"STR\")\n"
   ]
  },
  {
   "cell_type": "code",
   "execution_count": null,
   "id": "2a98c58d",
   "metadata": {},
   "outputs": [],
   "source": [
    "in_str=input()\n",
    "if( in_str.isnumeric()):\n",
    "    print(\"INT\")\n",
    "else:\n",
    "    print(\"STR\")"
   ]
  },
  {
   "cell_type": "code",
   "execution_count": null,
   "id": "6f2787ae",
   "metadata": {},
   "outputs": [],
   "source": [
    "value=list(input())\n",
    "for i in value:\n",
    "    if(i == \",\"):\n",
    "        value.remove(\",\")\n",
    "a = \"\"\n",
    "for i in value:\n",
    "    a+=i\n",
    "print(a)"
   ]
  },
  {
   "cell_type": "code",
   "execution_count": 19,
   "id": "6d7327af",
   "metadata": {},
   "outputs": [
    {
     "name": "stdout",
     "output_type": "stream",
     "text": [
      "banana 7\n",
      "utgtgt\n"
     ]
    }
   ],
   "source": [
    "c= list(input())\n",
    "a=\"\"\n",
    "b=\"\"\n",
    "for i in c:\n",
    "    if(i.isalpha()):\n",
    "        a+=i\n",
    "    elif(i == '[' or i == ']' or i=='\\'' or i==',' ):\n",
    "        c.remove(i)\n",
    "    elif(i.isnumeric):\n",
    "        b+=i\n",
    "b= int(b)\n",
    "\n",
    "d=\"\" \n",
    "for i in a:\n",
    "\n",
    "    if(str(i).islower() and 96> ord(i)-b):\n",
    "        \n",
    "        g = 97-ord(i)+b \n",
    "        k = 122-g+1\n",
    "        k=chr(k)\n",
    "    elif(str(i).isupper() and 64 > ord(i)-b):\n",
    "        g = 65-ord(i)+b \n",
    "        k = 90-g+1\n",
    "        k=chr(k)\n",
    "    else:\n",
    "        k = ord(i) - b\n",
    "        k=chr(k)\n",
    "    d+=k\n",
    "  \n",
    "\n",
    "print(d)"
   ]
  },
  {
   "cell_type": "code",
   "execution_count": 6,
   "id": "8a2a1588",
   "metadata": {},
   "outputs": [
    {
     "data": {
      "text/plain": [
       "90"
      ]
     },
     "execution_count": 6,
     "metadata": {},
     "output_type": "execute_result"
    }
   ],
   "source": [
    "ord('Z')\n"
   ]
  },
  {
   "cell_type": "code",
   "execution_count": null,
   "id": "1aaa05c8",
   "metadata": {},
   "outputs": [],
   "source": []
  }
 ],
 "metadata": {
  "kernelspec": {
   "display_name": "Python 3 (ipykernel)",
   "language": "python",
   "name": "python3"
  },
  "language_info": {
   "codemirror_mode": {
    "name": "ipython",
    "version": 3
   },
   "file_extension": ".py",
   "mimetype": "text/x-python",
   "name": "python",
   "nbconvert_exporter": "python",
   "pygments_lexer": "ipython3",
   "version": "3.9.12"
  }
 },
 "nbformat": 4,
 "nbformat_minor": 5
}
