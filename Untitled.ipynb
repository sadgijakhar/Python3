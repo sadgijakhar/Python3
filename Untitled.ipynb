{
 "cells": [
  {
   "cell_type": "code",
   "execution_count": 1,
   "id": "09ee4004",
   "metadata": {},
   "outputs": [],
   "source": [
    "import numpy as np"
   ]
  },
  {
   "cell_type": "code",
   "execution_count": 57,
   "id": "4124ebeb",
   "metadata": {},
   "outputs": [
    {
     "name": "stdout",
     "output_type": "stream",
     "text": [
      "3\n"
     ]
    },
    {
     "data": {
      "text/plain": [
       "[[1, 1, 1], [1, 1, 1], [1, 1, 1]]"
      ]
     },
     "execution_count": 57,
     "metadata": {},
     "output_type": "execute_result"
    }
   ],
   "source": [
    "n = int(input())\n",
    "l=[]\n",
    "for i in range(0,n):\n",
    "    a=[]\n",
    "    for j in range(0,n):\n",
    "        a.append(1)\n",
    "    l.append(a)\n",
    "l"
   ]
  },
  {
   "cell_type": "code",
   "execution_count": 58,
   "id": "26387cb0",
   "metadata": {},
   "outputs": [],
   "source": [
    "x = np.array(l)"
   ]
  },
  {
   "cell_type": "code",
   "execution_count": 59,
   "id": "4ade52e8",
   "metadata": {},
   "outputs": [
    {
     "data": {
      "text/plain": [
       "array([[1, 1, 1],\n",
       "       [1, 1, 1],\n",
       "       [1, 1, 1]])"
      ]
     },
     "execution_count": 59,
     "metadata": {},
     "output_type": "execute_result"
    }
   ],
   "source": [
    "x"
   ]
  },
  {
   "cell_type": "code",
   "execution_count": 60,
   "id": "207287d1",
   "metadata": {},
   "outputs": [],
   "source": [
    "x[0:n:2,0:n:2]= 0\n",
    "x[1:n:2,1:n:2]=0"
   ]
  },
  {
   "cell_type": "code",
   "execution_count": 61,
   "id": "8adc86f4",
   "metadata": {},
   "outputs": [
    {
     "data": {
      "text/plain": [
       "array([[0, 1, 0],\n",
       "       [1, 0, 1],\n",
       "       [0, 1, 0]])"
      ]
     },
     "execution_count": 61,
     "metadata": {},
     "output_type": "execute_result"
    }
   ],
   "source": [
    "x"
   ]
  },
  {
   "cell_type": "code",
   "execution_count": 52,
   "id": "d2dc09e1",
   "metadata": {},
   "outputs": [
    {
     "name": "stdout",
     "output_type": "stream",
     "text": [
      "3\n",
      "[[0 1]\n",
      " [1 0]]\n"
     ]
    }
   ],
   "source": [
    "n = int(input())\n",
    "\n",
    "import numpy as np\n",
    "\n",
    "# Create the smallest unit of a checkerboard matrix\n",
    "y = np.array([[0, 1], [1, 0]])\n",
    "\n",
    "# Create a checkerboard matrix of size n*n using the tile() function. We use n//2 \n",
    "# since the smallest unit of a checkerboard matrix is already of size 2*2. So, for \n",
    "# creating a larger matrix, say, of size 8, we need to replicate it using the tile()\n",
    "# function 4 times as it will then give a matrix of size 8*8.\n",
    "check = np.tile(y, (n//2, n//2))\n",
    "\n",
    "# Print the created matrix\n",
    "print(check)"
   ]
  },
  {
   "cell_type": "code",
   "execution_count": 62,
   "id": "2578052a",
   "metadata": {},
   "outputs": [],
   "source": [
    "g = np.tile(x,(n//2,n//2))"
   ]
  },
  {
   "cell_type": "code",
   "execution_count": 63,
   "id": "8d72ead8",
   "metadata": {},
   "outputs": [
    {
     "data": {
      "text/plain": [
       "array([[0, 1, 0],\n",
       "       [1, 0, 1],\n",
       "       [0, 1, 0]])"
      ]
     },
     "execution_count": 63,
     "metadata": {},
     "output_type": "execute_result"
    }
   ],
   "source": [
    "g"
   ]
  },
  {
   "cell_type": "code",
   "execution_count": 77,
   "id": "95f207c1",
   "metadata": {},
   "outputs": [
    {
     "data": {
      "text/plain": [
       "array([[1, 2, 3],\n",
       "       [1, 2, 3]])"
      ]
     },
     "execution_count": 77,
     "metadata": {},
     "output_type": "execute_result"
    }
   ],
   "source": [
    "a = np.array([1,2,3])\n",
    "b = np.array([1,2,3])\n",
    "c = np.vstack((a,b))\n",
    "c"
   ]
  },
  {
   "cell_type": "code",
   "execution_count": 79,
   "id": "f1003354",
   "metadata": {},
   "outputs": [
    {
     "data": {
      "text/plain": [
       "1"
      ]
     },
     "execution_count": 79,
     "metadata": {},
     "output_type": "execute_result"
    }
   ],
   "source": [
    "d = np.hstack((a,b))\n",
    "d.ndim"
   ]
  },
  {
   "cell_type": "code",
   "execution_count": 78,
   "id": "b49fb4b9",
   "metadata": {},
   "outputs": [
    {
     "data": {
      "text/plain": [
       "array([1, 2, 3, 1, 2, 3])"
      ]
     },
     "execution_count": 78,
     "metadata": {},
     "output_type": "execute_result"
    }
   ],
   "source": [
    "d"
   ]
  },
  {
   "cell_type": "code",
   "execution_count": 80,
   "id": "de87878a",
   "metadata": {},
   "outputs": [
    {
     "data": {
      "text/plain": [
       "(2, 3)"
      ]
     },
     "execution_count": 80,
     "metadata": {},
     "output_type": "execute_result"
    }
   ],
   "source": [
    "c.shape\n"
   ]
  },
  {
   "cell_type": "code",
   "execution_count": 81,
   "id": "1712ccca",
   "metadata": {},
   "outputs": [
    {
     "data": {
      "text/plain": [
       "(6,)"
      ]
     },
     "execution_count": 81,
     "metadata": {},
     "output_type": "execute_result"
    }
   ],
   "source": [
    "d.shape\n"
   ]
  },
  {
   "cell_type": "code",
   "execution_count": 82,
   "id": "b2a09235",
   "metadata": {},
   "outputs": [
    {
     "data": {
      "text/plain": [
       "array([[1, 2],\n",
       "       [3, 1],\n",
       "       [2, 3]])"
      ]
     },
     "execution_count": 82,
     "metadata": {},
     "output_type": "execute_result"
    }
   ],
   "source": [
    "c.reshape(3,2)"
   ]
  },
  {
   "cell_type": "code",
   "execution_count": 88,
   "id": "0b7bdbf7",
   "metadata": {},
   "outputs": [
    {
     "data": {
      "text/plain": [
       "(2, 3)"
      ]
     },
     "execution_count": 88,
     "metadata": {},
     "output_type": "execute_result"
    }
   ],
   "source": [
    "c.shape\n"
   ]
  },
  {
   "cell_type": "code",
   "execution_count": 87,
   "id": "0fb14b0a",
   "metadata": {},
   "outputs": [
    {
     "data": {
      "text/plain": [
       "array([[20, 21, 22, 23],\n",
       "       [24, 25, 26, 27],\n",
       "       [28, 29, 30, 31],\n",
       "       [32, 33, 34, 35],\n",
       "       [36, 37, 38, 39]])"
      ]
     },
     "execution_count": 87,
     "metadata": {},
     "output_type": "execute_result"
    }
   ],
   "source": [
    "arr6 = np.arange(20,40).reshape(5,4)\n",
    "arr6"
   ]
  },
  {
   "cell_type": "code",
   "execution_count": 93,
   "id": "a5797904",
   "metadata": {},
   "outputs": [
    {
     "data": {
      "text/plain": [
       "array([[20, 21, 22, 23],\n",
       "       [24, 25, 26, 27],\n",
       "       [28, 29, 30, 31],\n",
       "       [32, 33, 34, 35],\n",
       "       [36, 37, 38, 39]])"
      ]
     },
     "execution_count": 93,
     "metadata": {},
     "output_type": "execute_result"
    }
   ],
   "source": [
    "np.vstack(arr6)"
   ]
  },
  {
   "cell_type": "code",
   "execution_count": 10,
   "id": "c27d623c",
   "metadata": {},
   "outputs": [],
   "source": [
    "arr6 = np.arange(20,40).reshape(4,5)"
   ]
  },
  {
   "cell_type": "code",
   "execution_count": 11,
   "id": "0ef1f4c4",
   "metadata": {},
   "outputs": [
    {
     "data": {
      "text/plain": [
       "array([[20, 21, 22, 23, 24],\n",
       "       [25, 26, 27, 28, 29],\n",
       "       [30, 31, 32, 33, 34],\n",
       "       [35, 36, 37, 38, 39]])"
      ]
     },
     "execution_count": 11,
     "metadata": {},
     "output_type": "execute_result"
    }
   ],
   "source": [
    "arr6"
   ]
  },
  {
   "cell_type": "code",
   "execution_count": 20,
   "id": "5cc5df3a",
   "metadata": {},
   "outputs": [
    {
     "ename": "IndexError",
     "evalue": "boolean index did not match indexed array along dimension 0; dimension is 5 but corresponding boolean dimension is 4",
     "output_type": "error",
     "traceback": [
      "\u001b[0;31m---------------------------------------------------------------------------\u001b[0m",
      "\u001b[0;31mIndexError\u001b[0m                                Traceback (most recent call last)",
      "Input \u001b[0;32mIn [20]\u001b[0m, in \u001b[0;36m<cell line: 1>\u001b[0;34m()\u001b[0m\n\u001b[0;32m----> 1\u001b[0m arr6\u001b[38;5;241m=\u001b[39m\u001b[43marr6\u001b[49m\u001b[38;5;241;43m.\u001b[39;49m\u001b[43mreshape\u001b[49m\u001b[43m(\u001b[49m\u001b[38;5;241;43m5\u001b[39;49m\u001b[43m,\u001b[49m\u001b[43m \u001b[49m\u001b[38;5;241;43m4\u001b[39;49m\u001b[43m)\u001b[49m\u001b[43m[\u001b[49m\u001b[43marr6\u001b[49m\u001b[43m \u001b[49m\u001b[38;5;241;43m%\u001b[39;49m\u001b[38;5;241;43m2\u001b[39;49m\u001b[43m \u001b[49m\u001b[38;5;241;43m!=\u001b[39;49m\u001b[43m \u001b[49m\u001b[38;5;241;43m0\u001b[39;49m\u001b[43m]\u001b[49m\n\u001b[1;32m      2\u001b[0m arr6\n",
      "\u001b[0;31mIndexError\u001b[0m: boolean index did not match indexed array along dimension 0; dimension is 5 but corresponding boolean dimension is 4"
     ]
    }
   ],
   "source": [
    "\n",
    "arr6=arr6.reshape(5, 4)[arr6 %2 != 0]\n",
    "arr6"
   ]
  },
  {
   "cell_type": "code",
   "execution_count": 14,
   "id": "cafe8017",
   "metadata": {},
   "outputs": [],
   "source": [
    "a= np.array([[7, 13, 14],\n",
    "\n",
    "[18, 10, 17],\n",
    "\n",
    "[11, 12, 19]])"
   ]
  },
  {
   "cell_type": "code",
   "execution_count": 15,
   "id": "f38f2be4",
   "metadata": {},
   "outputs": [
    {
     "data": {
      "text/plain": [
       "(3, 3)"
      ]
     },
     "execution_count": 15,
     "metadata": {},
     "output_type": "execute_result"
    }
   ],
   "source": [
    "a.shape\n"
   ]
  },
  {
   "cell_type": "code",
   "execution_count": 16,
   "id": "710dbabe",
   "metadata": {},
   "outputs": [],
   "source": [
    "b = np.array([16, 6, 1])\n"
   ]
  },
  {
   "cell_type": "code",
   "execution_count": 17,
   "id": "1df0864f",
   "metadata": {},
   "outputs": [
    {
     "data": {
      "text/plain": [
       "(3,)"
      ]
     },
     "execution_count": 17,
     "metadata": {},
     "output_type": "execute_result"
    }
   ],
   "source": [
    "b.shape\n"
   ]
  },
  {
   "cell_type": "code",
   "execution_count": 18,
   "id": "8dcdbdc0",
   "metadata": {},
   "outputs": [
    {
     "ename": "TypeError",
     "evalue": "only integer scalar arrays can be converted to a scalar index",
     "output_type": "error",
     "traceback": [
      "\u001b[0;31m---------------------------------------------------------------------------\u001b[0m",
      "\u001b[0;31mTypeError\u001b[0m                                 Traceback (most recent call last)",
      "Input \u001b[0;32mIn [18]\u001b[0m, in \u001b[0;36m<cell line: 1>\u001b[0;34m()\u001b[0m\n\u001b[0;32m----> 1\u001b[0m \u001b[43mnp\u001b[49m\u001b[38;5;241;43m.\u001b[39;49m\u001b[43mconcatenate\u001b[49m\u001b[43m(\u001b[49m\u001b[43ma\u001b[49m\u001b[43m,\u001b[49m\u001b[43m \u001b[49m\u001b[43mb\u001b[49m\u001b[43m)\u001b[49m\n",
      "File \u001b[0;32m<__array_function__ internals>:5\u001b[0m, in \u001b[0;36mconcatenate\u001b[0;34m(*args, **kwargs)\u001b[0m\n",
      "\u001b[0;31mTypeError\u001b[0m: only integer scalar arrays can be converted to a scalar index"
     ]
    }
   ],
   "source": [
    "np.concatenate(a, b)\n"
   ]
  },
  {
   "cell_type": "code",
   "execution_count": 19,
   "id": "44c8f0f5",
   "metadata": {},
   "outputs": [],
   "source": [
    "a = np.array([[1, 5],\n",
    " [3, 7],\n",
    " [4, 9]])\n"
   ]
  },
  {
   "cell_type": "code",
   "execution_count": 5,
   "id": "a04e6021",
   "metadata": {},
   "outputs": [
    {
     "data": {
      "text/plain": [
       "array([1, 5, 3, 7, 4, 9])"
      ]
     },
     "execution_count": 5,
     "metadata": {},
     "output_type": "execute_result"
    }
   ],
   "source": [
    "np.reshape(a, -1)"
   ]
  },
  {
   "cell_type": "code",
   "execution_count": 2,
   "id": "976ea36f",
   "metadata": {},
   "outputs": [],
   "source": [
    "a = np.array([[1,2,3],[4,5,6],[7,8,9]])"
   ]
  },
  {
   "cell_type": "code",
   "execution_count": 3,
   "id": "6f30d5be",
   "metadata": {},
   "outputs": [
    {
     "data": {
      "text/plain": [
       "array([[1, 2, 3],\n",
       "       [4, 5, 6],\n",
       "       [7, 8, 9]])"
      ]
     },
     "execution_count": 3,
     "metadata": {},
     "output_type": "execute_result"
    }
   ],
   "source": [
    "a"
   ]
  },
  {
   "cell_type": "code",
   "execution_count": 4,
   "id": "3e5974c0",
   "metadata": {},
   "outputs": [
    {
     "data": {
      "text/plain": [
       "2"
      ]
     },
     "execution_count": 4,
     "metadata": {},
     "output_type": "execute_result"
    }
   ],
   "source": [
    "a.ndim"
   ]
  },
  {
   "cell_type": "code",
   "execution_count": 5,
   "id": "aa9cae7c",
   "metadata": {},
   "outputs": [],
   "source": [
    "b = np.array([16,6,1])"
   ]
  },
  {
   "cell_type": "code",
   "execution_count": 6,
   "id": "cbf6f1da",
   "metadata": {},
   "outputs": [
    {
     "data": {
      "text/plain": [
       "array([16,  6,  1])"
      ]
     },
     "execution_count": 6,
     "metadata": {},
     "output_type": "execute_result"
    }
   ],
   "source": [
    "b"
   ]
  },
  {
   "cell_type": "code",
   "execution_count": 23,
   "id": "c8208d45",
   "metadata": {},
   "outputs": [],
   "source": [
    "c = np.append(a, [b], axis=0)"
   ]
  },
  {
   "cell_type": "code",
   "execution_count": 24,
   "id": "ba13841c",
   "metadata": {},
   "outputs": [
    {
     "data": {
      "text/plain": [
       "array([[ 1,  2,  3],\n",
       "       [ 4,  5,  6],\n",
       "       [ 7,  8,  9],\n",
       "       [16,  6,  1]])"
      ]
     },
     "execution_count": 24,
     "metadata": {},
     "output_type": "execute_result"
    }
   ],
   "source": [
    "c"
   ]
  },
  {
   "cell_type": "code",
   "execution_count": 32,
   "id": "cbd8c30d",
   "metadata": {},
   "outputs": [],
   "source": [
    "d = np.array([[5, 8, 4, 3])"
   ]
  },
  {
   "cell_type": "code",
   "execution_count": 29,
   "id": "6e2d15d5",
   "metadata": {},
   "outputs": [],
   "source": [
    "c = c.transpose()"
   ]
  },
  {
   "cell_type": "code",
   "execution_count": 30,
   "id": "ec8a6522",
   "metadata": {},
   "outputs": [
    {
     "data": {
      "text/plain": [
       "array([[ 1,  4,  7, 16],\n",
       "       [ 2,  5,  8,  6],\n",
       "       [ 3,  6,  9,  1]])"
      ]
     },
     "execution_count": 30,
     "metadata": {},
     "output_type": "execute_result"
    }
   ],
   "source": [
    "c"
   ]
  },
  {
   "cell_type": "code",
   "execution_count": 45,
   "id": "bbba0800",
   "metadata": {},
   "outputs": [],
   "source": [
    "c = np.append(c,[d],axis=0)"
   ]
  },
  {
   "cell_type": "code",
   "execution_count": 46,
   "id": "4695133c",
   "metadata": {},
   "outputs": [
    {
     "data": {
      "text/plain": [
       "array([[ 1,  4,  7, 16],\n",
       "       [ 2,  5,  8,  6],\n",
       "       [ 3,  6,  9,  1],\n",
       "       [ 5,  8,  4,  3],\n",
       "       [ 5,  8,  4,  3],\n",
       "       [ 5,  8,  4,  3],\n",
       "       [ 5,  8,  4,  3],\n",
       "       [ 5,  8,  4,  3]])"
      ]
     },
     "execution_count": 46,
     "metadata": {},
     "output_type": "execute_result"
    }
   ],
   "source": [
    "a"
   ]
  },
  {
   "cell_type": "code",
   "execution_count": 47,
   "id": "331a2dd3",
   "metadata": {},
   "outputs": [
    {
     "data": {
      "text/plain": [
       "array([[ 1,  2,  3,  5,  5,  5,  5,  5],\n",
       "       [ 4,  5,  6,  8,  8,  8,  8,  8],\n",
       "       [ 7,  8,  9,  4,  4,  4,  4,  4],\n",
       "       [16,  6,  1,  3,  3,  3,  3,  3]])"
      ]
     },
     "execution_count": 47,
     "metadata": {},
     "output_type": "execute_result"
    }
   ],
   "source": [
    "c.transpose()"
   ]
  },
  {
   "cell_type": "code",
   "execution_count": 1,
   "id": "8da78bf9",
   "metadata": {},
   "outputs": [
    {
     "ename": "NameError",
     "evalue": "name 'np' is not defined",
     "output_type": "error",
     "traceback": [
      "\u001b[0;31m---------------------------------------------------------------------------\u001b[0m",
      "\u001b[0;31mNameError\u001b[0m                                 Traceback (most recent call last)",
      "Input \u001b[0;32mIn [1]\u001b[0m, in \u001b[0;36m<cell line: 1>\u001b[0;34m()\u001b[0m\n\u001b[0;32m----> 1\u001b[0m c \u001b[38;5;241m=\u001b[39m \u001b[43mnp\u001b[49m\u001b[38;5;241m.\u001b[39mconcatenate(c,d,axis\u001b[38;5;241m=\u001b[39m\u001b[38;5;241m0\u001b[39m)\n",
      "\u001b[0;31mNameError\u001b[0m: name 'np' is not defined"
     ]
    }
   ],
   "source": [
    "c = np.concatenate(c,d,axis=0)"
   ]
  },
  {
   "cell_type": "code",
   "execution_count": 12,
   "id": "e3eb392b",
   "metadata": {},
   "outputs": [
    {
     "name": "stdout",
     "output_type": "stream",
     "text": [
      "tushar is barking\n"
     ]
    }
   ],
   "source": [
    "class animal:\n",
    "    num_of_animal = 0\n",
    "    \n",
    "    def __init__(self, type1, colour ):\n",
    "        self.type1 = type1\n",
    "        self.colour = colour\n",
    "        animal.num_of_animal += 1\n",
    "        \n",
    "    def speak(self):\n",
    "        print(\"tushar is barking\")\n",
    "        \n",
    "    def walk(self):\n",
    "        print(\"walking\")\n",
    "        \n",
    "    def sleep(self):\n",
    "        print(\"sleeping\")\n",
    "    \n",
    "if __name__ == \"__main__\":\n",
    "    m1 = animal(\"cat\", \"black\")\n",
    "    m1.speak()"
   ]
  },
  {
   "cell_type": "code",
   "execution_count": null,
   "id": "504a060a",
   "metadata": {},
   "outputs": [],
   "source": []
  },
  {
   "cell_type": "code",
   "execution_count": null,
   "id": "1ebe8c06",
   "metadata": {},
   "outputs": [],
   "source": []
  }
 ],
 "metadata": {
  "kernelspec": {
   "display_name": "Python 3 (ipykernel)",
   "language": "python",
   "name": "python3"
  },
  "language_info": {
   "codemirror_mode": {
    "name": "ipython",
    "version": 3
   },
   "file_extension": ".py",
   "mimetype": "text/x-python",
   "name": "python",
   "nbconvert_exporter": "python",
   "pygments_lexer": "ipython3",
   "version": "3.9.12"
  }
 },
 "nbformat": 4,
 "nbformat_minor": 5
}
