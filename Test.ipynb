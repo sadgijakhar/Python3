{
 "cells": [
  {
   "cell_type": "code",
   "execution_count": null,
   "id": "a516d9b0",
   "metadata": {},
   "outputs": [],
   "source": [
    "print(\"Once upon a book\")\n",
    "\n",
    "my_First_Book_Name = \"E.balaguswami c++\"\n",
    "my_First_Book_Price = 350.0\n",
    "my_Second_Book_Name = \"OCA OCP Java\"\n",
    "my_Second_Book_Price = 250.75\n",
    "my_Third_Book_Name = \"Play with Python Sunita Arora\"\n",
    "my_Third_Book_Price = 450.29\n",
    "my_Fourth_Book_Name = \"The invisible Man\"\n",
    "my_Fourth_Book_Price = 150.07\n",
    "my_Fifth_Book_Name = \"Alchemist\"\n",
    "my_Fifth_Book_Price = 850.20\n",
    "\n",
    "tax = 0.18\n",
    "# menu = '''All Books\n",
    "# First Book ''' + my_'First_Book_Name+''''''\n",
    "menu = \"all Book \\n \"+\"Press 1 for First book\"+\"first book \"+ my_First_Book_Name\n",
    "+\" Price: \"+str(my_First_Book_Price) +\" /n Press 2 for Second book\"+\"/nsecond Book: \"\n",
    "+my_Second_Book_Name + \" Price :\" + str(my_Second_Book_Price) \n",
    "+\" /n Press 3 for Third book\"+ \"\\n Third Book Name\"+  my_Third_Book_Name+\" Price: \"\n",
    "+str(my_Third_Book_Price) +\" /n Press 4 for Fourth book\"+\"\\n Fourth Book: \"+my_Fourth_Book_Name +\n",
    "\" Price :\" + str(my_Fourth_Book_Price) +\" /n Press 5 for Fifth book\"+\n",
    "\" \\n Fifth Book: \"+my_Fifth_Book_Name + \n",
    "\" Price :\" + str(my_Fifth_Book_Price)+\"\\n Press 6 to Checkout\"\n",
    "\n",
    "customer_Name = input(\"Enter user Name:\")\n",
    "\n",
    "books_amount = 0; \n",
    "\n",
    "books_selected = \"\"\n",
    "\n",
    "while(true):\n",
    "    print(menu)\n",
    "    choice = int(input(\"Enter the choice\"))\n",
    "    if choice == 1:\n",
    "        book_amount += my_First_Book_Price\n",
    "        books_selected += my_First_Book_Name+\"price: \"+str(my_First_Book_Price)+\"\\n\"\n",
    "\n",
    "    elif choice == 2:\n",
    "        book_amount += my_Second_Book_Name\n",
    "        books_selected += my_Second_Book_Name+\"price: \"+str(my_Second_Book_Price)+\"\\n\"\n",
    "\n",
    "    elif choice == 3:\n",
    "        book_amount += my_Third_Book_Name\n",
    "        books_selected += my_Third_Book_Name+\"price: \"+str(my_Third_Book_Price)+\"\\n\"\n",
    "\n",
    "    elif choice == 4 :\n",
    "        book_amount += my_Fourth_Book_Name\n",
    "        books_selected += my_Fourth_Book_Name+\"price: \"+str(my_Fourth_Book_Price)+\"\\n\"\n",
    "\n",
    "    elif choice == 5:\n",
    "        book_amount += my_Fifth_Book_Name\n",
    "        books_selected += my_Fifth_Book_Name+\"price: \"+str(my_Fifth_Book_Price)+\"\\n\"\n",
    "    elif choice == 6:\n",
    "        break\n",
    "    else:\n",
    "        print(\"Select the correct Choice\")\n",
    "        \n",
    "bill = \"Love for Books \\n Customer Name: \"+customer_Name+\"\\n\"+books_selected+\"\\n Books Total: \"+str(books_amount)+\"\\n Total Amount: \"+str((books_Amount*tax)+books_amount)\n",
    "print(bill)\n"
   ]
  },
  {
   "cell_type": "code",
   "execution_count": null,
   "id": "1cb650f8",
   "metadata": {},
   "outputs": [],
   "source": []
  },
  {
   "cell_type": "code",
   "execution_count": null,
   "id": "15379aaa",
   "metadata": {},
   "outputs": [],
   "source": []
  },
  {
   "cell_type": "code",
   "execution_count": null,
   "id": "51248763",
   "metadata": {},
   "outputs": [],
   "source": [
    "print(5*\"aman\")"
   ]
  },
  {
   "cell_type": "code",
   "execution_count": null,
   "id": "45f0835b",
   "metadata": {},
   "outputs": [],
   "source": [
    "print(\"a\"*5)"
   ]
  },
  {
   "cell_type": "code",
   "execution_count": null,
   "id": "039b2df8",
   "metadata": {},
   "outputs": [],
   "source": [
    "print()"
   ]
  },
  {
   "cell_type": "code",
   "execution_count": null,
   "id": "7984b8f0",
   "metadata": {},
   "outputs": [],
   "source": [
    "l =[]\n",
    "l.append(2)\n",
    "l.append(1)\n",
    "l.pop()\n",
    "l.remove(2)\n",
    "l.append(1)\n",
    "l[0] = 3\n",
    "l.append(2)\n",
    "l.append(1)\n",
    "l.append(2)\n",
    "l.append(1)\n",
    "l.append(2)\n",
    "l.append(1)\n",
    "print(l[::-1])\n",
    "print (l)\n"
   ]
  },
  {
   "cell_type": "code",
   "execution_count": null,
   "id": "12fb1e31",
   "metadata": {},
   "outputs": [],
   "source": [
    "dict = {}\n",
    "age = [19 ,70 ,20]\n",
    "min_requirment = [3,1,2]\n",
    "salary = [50000 ,100000 ,4000]\n",
    "print(salary)\n",
    "apple = 10\n",
    "if (apple > 0): \n",
    "    for i in range (0,3):\n",
    "        if (product[i] > min_requirment[i]):\n",
    "            dict[product[i]] = min_requirment[i];\n",
    "            apple -= min_requirment[i]\n",
    "\n",
    "if (apple > 0):    \n",
    "    for key, value in dict.items():\n",
    "        dict[key] =value+1;\n",
    "        apple -= 1\n",
    "\n",
    "print(dict)\n",
    "    \n",
    "    \n",
    "    "
   ]
  },
  {
   "cell_type": "code",
   "execution_count": null,
   "id": "b29a126f",
   "metadata": {},
   "outputs": [],
   "source": [
    "n = int(input())\n",
    "for i in range(1,n+1):\n",
    "    for j in range (n-i):\n",
    "        print(\" \",end =\"\")\n",
    "    for k in range (i-1):\n",
    "        print(\"*_\",end=\"\")\n",
    "    print(\"*\")\n",
    "    \n",
    "        "
   ]
  },
  {
   "cell_type": "code",
   "execution_count": null,
   "id": "55a59fcb",
   "metadata": {},
   "outputs": [],
   "source": [
    "n = int(input())\n",
    "for i in range(n*2-1,0,-1):\n",
    "#     print(i)\n",
    "    for j in range( i-1,0,-1 ):\n",
    "#         print (j)\n",
    "        if(i%2!=0):\n",
    "            print(\"-\",end =\"\")\n",
    "        else:\n",
    "            print(\"\",end=\"\")\n",
    "    for k in range(n,i-n,-1):\n",
    "#         print(k)\n",
    "            print(chr(96+k),end=\"-\")  \n",
    "\n",
    "    print()\n",
    "    \n"
   ]
  },
  {
   "cell_type": "markdown",
   "id": "cef8158e",
   "metadata": {},
   "source": []
  },
  {
   "cell_type": "code",
   "execution_count": 8,
   "id": "605acb04",
   "metadata": {},
   "outputs": [
    {
     "name": "stdout",
     "output_type": "stream",
     "text": [
      "5\n",
      "--------e-\n",
      "------e-d-\n",
      "----e-d-c-\n",
      "--e-d-c-b-\n",
      "e-d-c-b-a-\n",
      "\n",
      "\n",
      "\n",
      "\n"
     ]
    }
   ],
   "source": [
    "n = int(input())\n",
    "for i in range(n*2-1,0,-1):\n",
    "\n",
    "    a = (i-n)*2\n",
    "    print(a*\"-\",end =\"\")\n",
    "    \n",
    "    if(i-n >= 0): \n",
    "        for k in range(n,i-n,-1):\n",
    "            print(chr(96+k),end=\"-\")  \n",
    "        \n",
    " \n",
    "    print()"
   ]
  },
  {
   "cell_type": "code",
   "execution_count": 8,
   "id": "8a993e39",
   "metadata": {},
   "outputs": [
    {
     "name": "stdout",
     "output_type": "stream",
     "text": [
      "3\n",
      "29\n",
      "31\n",
      "23\n",
      "26\n",
      "24\n",
      "25\n",
      "[[29, 31], [23, 26], [24, 25]]\n",
      "24\n",
      "2\n"
     ]
    }
   ],
   "source": [
    "n = int(input())\n",
    "l=[]\n",
    "for i in range(0,n):\n",
    "    a = int(input())\n",
    "    b = int(input())\n",
    "    l.append([a,b])\n",
    "print(l)\n",
    "\n",
    "date = int(input())\n",
    "\n",
    "overlap = 0\n",
    "for event in l:\n",
    "    if event[0] <= date and event[1] >=date:\n",
    "        overlap = overlap + 1 \n",
    "print(overlap)\n",
    "    "
   ]
  },
  {
   "cell_type": "markdown",
   "id": "28bcc7bd",
   "metadata": {},
   "source": [
    "## "
   ]
  },
  {
   "cell_type": "code",
   "execution_count": 17,
   "id": "ab1155eb",
   "metadata": {},
   "outputs": [
    {
     "name": "stdout",
     "output_type": "stream",
     "text": [
      "4\n",
      "5\n",
      "1 10 0\n",
      "0 0\n",
      "0 0\n",
      "0 0\n",
      "0 0\n",
      "0 0\n",
      "0 0\n",
      "0 0\n",
      "0 0\n",
      "0 0\n",
      "0 0\n",
      "0 0\n",
      "0 0\n"
     ]
    }
   ],
   "source": [
    "n = int(input())\n",
    "m = int(input())\n",
    "for i in range (0,n):\n",
    "    for j in range (i,m):\n",
    "        if(j==0 and i == 0) or (i==n-1 and j==m-1):\n",
    "            i = 1\n",
    "            j=1\n",
    "            print(i,j,end=\"\")\n",
    "        else:\n",
    "            i=0\n",
    "            j=0\n",
    "            print(i,j)"
   ]
  },
  {
   "cell_type": "code",
   "execution_count": 44,
   "id": "b1ac39c1",
   "metadata": {
    "scrolled": true
   },
   "outputs": [
    {
     "name": "stdout",
     "output_type": "stream",
     "text": [
      "4,5\n",
      "[1, 1, 1, 1, 1]\n",
      "[1, 0, 0, 0, 1]\n",
      "[1, 0, 0, 0, 1]\n",
      "[1, 1, 1, 1, 1]\n"
     ]
    }
   ],
   "source": [
    "l =input()\n",
    "l =l.split(',')\n",
    "m=int(l[0])\n",
    "n=int(l[1])\n",
    "\n",
    "List=[0]*n\n",
    "\n",
    "List=[list(List) for i in range(m)]\n",
    "\n",
    "for i in range(m):\n",
    "    for j in range(n):\n",
    "        if i==0 or j==0 or i==m-1 or j==n-1:\n",
    "            List[i][j]=1\n",
    "            \n",
    "for i in List:\n",
    "    print(i)"
   ]
  },
  {
   "cell_type": "markdown",
   "id": "4996cffd",
   "metadata": {},
   "source": [
    "##### "
   ]
  },
  {
   "cell_type": "code",
   "execution_count": 55,
   "id": "97800815",
   "metadata": {},
   "outputs": [
    {
     "name": "stdout",
     "output_type": "stream",
     "text": [
      "6\n",
      "5\n",
      "4\n",
      "2\n",
      "1\n",
      "4\n",
      "5\n",
      "[5, 4, 2, 1, 4, 5]\n",
      "Possible\n"
     ]
    }
   ],
   "source": [
    "n = int(input())\n",
    "l=[]\n",
    "for i in range(0,n):\n",
    "    a = int(input())\n",
    "    l.append(a)\n",
    "print(l)\n",
    "newList=[]\n",
    "    \n",
    "i = 0\n",
    "flag = True\n",
    "while(i < n):\n",
    "    if l[i] >= l[n-1]:\n",
    "        newList.append(l[i])\n",
    "        i = i+1\n",
    "    else:\n",
    "        newList.append(l[n-1])\n",
    "        n = n - 1\n",
    "\n",
    "i = 1\n",
    "while i < len(newList): \n",
    "    if(newList[i] > newList[i - 1]): \n",
    "        flag = False\n",
    "        break;\n",
    "    i += 1\n",
    "      \n",
    "\n",
    "if (flag) : \n",
    "    print (\"Possible\") \n",
    "else : \n",
    "    print (\"Impossible\") "
   ]
  },
  {
   "cell_type": "markdown",
   "id": "54dea45e",
   "metadata": {},
   "source": [
    "5//2\n"
   ]
  },
  {
   "cell_type": "code",
   "execution_count": 47,
   "id": "9f33c787",
   "metadata": {},
   "outputs": [
    {
     "data": {
      "text/plain": [
       "2"
      ]
     },
     "execution_count": 47,
     "metadata": {},
     "output_type": "execute_result"
    }
   ],
   "source": [
    "5//2"
   ]
  },
  {
   "cell_type": "code",
   "execution_count": 56,
   "id": "d9bb3be7",
   "metadata": {},
   "outputs": [
    {
     "name": "stdout",
     "output_type": "stream",
     "text": [
      "enter:5,4,2,1,4,5\n",
      "Possible\n"
     ]
    }
   ],
   "source": [
    "final_tower = input(\"enter:\").split(\",\")\n",
    "elements =[]\n",
    "for i in final_tower:\n",
    "    elements.append(int(i))\n",
    "final_tower = 999\n",
    "flag = True\n",
    "while elements:\n",
    "    if elements[0] >= elements[-1]:\n",
    "        if(final_tower >= elements[0]):\n",
    "            final_tower= elements[0]\n",
    "            elements.pop(0)\n",
    "        else:\n",
    "            flag = False\n",
    "            break\n",
    "        \n",
    "        \n",
    "    else:\n",
    "        if(final_tower >= elements[-1]):\n",
    "            final_tower= elements[-1]\n",
    "            elements.pop(-1)\n",
    "        else:\n",
    "            flag = False\n",
    "            break\n",
    "\n",
    "if(flag):\n",
    "    print(\"Possible\")\n",
    "else:\n",
    "    print(\"Impossible\")\n",
    "    "
   ]
  },
  {
   "cell_type": "code",
   "execution_count": 25,
   "id": "29cce74d",
   "metadata": {},
   "outputs": [
    {
     "name": "stdout",
     "output_type": "stream",
     "text": [
      "sadgi jakhar\n",
      "Sadgi_Jakhar\n"
     ]
    }
   ],
   "source": [
    "s=input()\n",
    "\n",
    "s =s.title()\n",
    "a = list(s)\n",
    "\n",
    "for i in range(0,len(a)):\n",
    "    if(a[i] == \" \"):\n",
    "        a[i] = \"_\"\n",
    "\n",
    "c = \"\"\n",
    "for i in range (0,len(a)):\n",
    "    c += a[i]\n",
    "print(c)\n",
    "    "
   ]
  },
  {
   "cell_type": "code",
   "execution_count": 1,
   "id": "3db1732d",
   "metadata": {},
   "outputs": [
    {
     "name": "stdout",
     "output_type": "stream",
     "text": [
      "0\n"
     ]
    }
   ],
   "source": [
    "L=[2, 3, 4, 2, 1, 2, 3]\n",
    "print(L.index(2))"
   ]
  },
  {
   "cell_type": "code",
   "execution_count": 2,
   "id": "f419403b",
   "metadata": {},
   "outputs": [],
   "source": [
    "L = [2, 1, 2, 4, 5, 3, 6]\n",
    "K = 4 in L"
   ]
  },
  {
   "cell_type": "code",
   "execution_count": 3,
   "id": "65302cf4",
   "metadata": {},
   "outputs": [
    {
     "name": "stdout",
     "output_type": "stream",
     "text": [
      "True\n"
     ]
    }
   ],
   "source": [
    "print(K)"
   ]
  },
  {
   "cell_type": "code",
   "execution_count": 4,
   "id": "4d1542d1",
   "metadata": {},
   "outputs": [
    {
     "data": {
      "text/plain": [
       "[20, 40, 60, 80]"
      ]
     },
     "execution_count": 4,
     "metadata": {},
     "output_type": "execute_result"
    }
   ],
   "source": [
    "L=[10,20,30,40,50,60,70,80,90,100]\n",
    "\n",
    "L[1:-1:2]\n"
   ]
  },
  {
   "cell_type": "code",
   "execution_count": 5,
   "id": "45de493c",
   "metadata": {},
   "outputs": [
    {
     "ename": "TypeError",
     "evalue": "list indices must be integers or slices, not list",
     "output_type": "error",
     "traceback": [
      "\u001b[0;31m---------------------------------------------------------------------------\u001b[0m",
      "\u001b[0;31mTypeError\u001b[0m                                 Traceback (most recent call last)",
      "Input \u001b[0;32mIn [5]\u001b[0m, in \u001b[0;36m<cell line: 1>\u001b[0;34m()\u001b[0m\n\u001b[0;32m----> 1\u001b[0m \u001b[43mL\u001b[49m\u001b[43m[\u001b[49m\u001b[43m[\u001b[49m\u001b[38;5;241;43m1\u001b[39;49m\u001b[43m,\u001b[49m\u001b[43m \u001b[49m\u001b[38;5;241;43m3\u001b[39;49m\u001b[43m,\u001b[49m\u001b[43m \u001b[49m\u001b[38;5;241;43m5\u001b[39;49m\u001b[43m,\u001b[49m\u001b[43m \u001b[49m\u001b[38;5;241;43m7\u001b[39;49m\u001b[43m]\u001b[49m\u001b[43m]\u001b[49m\n",
      "\u001b[0;31mTypeError\u001b[0m: list indices must be integers or slices, not list"
     ]
    }
   ],
   "source": [
    "L[[1, 3, 5, 7]]"
   ]
  },
  {
   "cell_type": "code",
   "execution_count": 6,
   "id": "4a5cb75a",
   "metadata": {},
   "outputs": [
    {
     "ename": "TypeError",
     "evalue": "list indices must be integers or slices, not tuple",
     "output_type": "error",
     "traceback": [
      "\u001b[0;31m---------------------------------------------------------------------------\u001b[0m",
      "\u001b[0;31mTypeError\u001b[0m                                 Traceback (most recent call last)",
      "Input \u001b[0;32mIn [6]\u001b[0m, in \u001b[0;36m<cell line: 1>\u001b[0;34m()\u001b[0m\n\u001b[0;32m----> 1\u001b[0m \u001b[43mL\u001b[49m\u001b[43m[\u001b[49m\u001b[38;5;241;43m1\u001b[39;49m\u001b[43m,\u001b[49m\u001b[43m \u001b[49m\u001b[38;5;241;43m3\u001b[39;49m\u001b[43m,\u001b[49m\u001b[43m \u001b[49m\u001b[38;5;241;43m5\u001b[39;49m\u001b[43m,\u001b[49m\u001b[43m \u001b[49m\u001b[38;5;241;43m7\u001b[39;49m\u001b[43m]\u001b[49m\n",
      "\u001b[0;31mTypeError\u001b[0m: list indices must be integers or slices, not tuple"
     ]
    }
   ],
   "source": [
    "\n",
    "L[1, 3, 5, 7]"
   ]
  },
  {
   "cell_type": "code",
   "execution_count": 7,
   "id": "9b86952a",
   "metadata": {},
   "outputs": [
    {
     "data": {
      "text/plain": [
       "[20, 40, 60, 80, 100]"
      ]
     },
     "execution_count": 7,
     "metadata": {},
     "output_type": "execute_result"
    }
   ],
   "source": [
    "L[1::2]"
   ]
  },
  {
   "cell_type": "code",
   "execution_count": 8,
   "id": "468b3532",
   "metadata": {},
   "outputs": [
    {
     "data": {
      "text/plain": [
       "[20, 40, 60, 80]"
      ]
     },
     "execution_count": 8,
     "metadata": {},
     "output_type": "execute_result"
    }
   ],
   "source": [
    "[L[i] for i in range(1,9,2)]"
   ]
  },
  {
   "cell_type": "code",
   "execution_count": 9,
   "id": "1a02ea39",
   "metadata": {},
   "outputs": [
    {
     "name": "stdout",
     "output_type": "stream",
     "text": [
      "3\n",
      "3\n",
      "120\n"
     ]
    }
   ],
   "source": [
    "n=int(input())\n",
    "x = int(input())\n",
    "sum =0 ;\n",
    "for i in range(0,n):\n",
    "    sum += x + (10**i)\n",
    "    \n",
    "print(sum)"
   ]
  },
  {
   "cell_type": "code",
   "execution_count": 12,
   "id": "79d919f5",
   "metadata": {},
   "outputs": [
    {
     "name": "stdout",
     "output_type": "stream",
     "text": [
      "3\n",
      "369\n"
     ]
    }
   ],
   "source": [
    "n = input()\n",
    "s = 0\n",
    "for i in range (1 , int(n)+1):\n",
    "    s+=int(n*i)\n",
    "print(s)\n"
   ]
  },
  {
   "cell_type": "code",
   "execution_count": 16,
   "id": "5f2d4c04",
   "metadata": {},
   "outputs": [
    {
     "name": "stdout",
     "output_type": "stream",
     "text": [
      "zzgzgz\n"
     ]
    }
   ],
   "source": [
    "a = ['banana',7]\n",
    "s1 = a[0].lower()\n",
    "result = ''\n",
    "diff = a[1]\n",
    "for i in s1:\n",
    "    val = ord(i)\n",
    "    if val-diff < 97:\n",
    "        x = 97 - val\n",
    "        y = 122-x\n",
    "        result += chr(x+y)\n",
    "    else:\n",
    "        result += chr(val-diff)\n",
    "\n",
    "final_result = ''\n",
    "for i in range(len(a[0])):\n",
    "    if(a[0][i].isupper()):\n",
    "        final_result += result[i].upper()\n",
    "    else:\n",
    "        final_result += result[i]\n",
    "\n",
    "print(final_result)"
   ]
  },
  {
   "cell_type": "code",
   "execution_count": 18,
   "id": "700c1b47",
   "metadata": {},
   "outputs": [
    {
     "name": "stdout",
     "output_type": "stream",
     "text": [
      "['ytKveh', 4]\n",
      "upGrad\n"
     ]
    }
   ],
   "source": [
    "c= list(input())\n",
    "a=\"\"\n",
    "b=\"\"\n",
    "for i in c:\n",
    "    if(i.isalpha()):\n",
    "        a+=i\n",
    "    elif(i == '[' or i == ']' or i=='\\'' or i==',' ):\n",
    "        c.remove(i)\n",
    "    elif(i.isnumeric):\n",
    "        b+=i\n",
    "b= int(b)\n",
    "\n",
    "d=\"\" \n",
    "for i in a:\n",
    "    k = ord(i) - b \n",
    "    k=chr(k)\n",
    "    d+=k\n",
    "  \n",
    "\n",
    "print(d)\n"
   ]
  },
  {
   "cell_type": "code",
   "execution_count": null,
   "id": "3861fb33",
   "metadata": {},
   "outputs": [],
   "source": []
  }
 ],
 "metadata": {
  "kernelspec": {
   "display_name": "Python 3 (ipykernel)",
   "language": "python",
   "name": "python3"
  },
  "language_info": {
   "codemirror_mode": {
    "name": "ipython",
    "version": 3
   },
   "file_extension": ".py",
   "mimetype": "text/x-python",
   "name": "python",
   "nbconvert_exporter": "python",
   "pygments_lexer": "ipython3",
   "version": "3.9.12"
  }
 },
 "nbformat": 4,
 "nbformat_minor": 5
}
