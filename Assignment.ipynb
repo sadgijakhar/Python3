{
 "cells": [
  {
   "cell_type": "code",
   "execution_count": 1,
   "id": "bc9d1636",
   "metadata": {},
   "outputs": [],
   "source": [
    "import numpy as np"
   ]
  },
  {
   "cell_type": "markdown",
   "id": "57d8d36f",
   "metadata": {},
   "source": [
    "Q1.) Get all 2D diagonals of a 3D NumPy array\n"
   ]
  },
  {
   "cell_type": "code",
   "execution_count": 9,
   "id": "2b83449e",
   "metadata": {},
   "outputs": [
    {
     "name": "stdout",
     "output_type": "stream",
     "text": [
      "[[[ 0  1  2  3]\n",
      "  [ 4  5  6  7]\n",
      "  [ 8  9 10 11]\n",
      "  [12 13 14 15]]\n",
      "\n",
      " [[16 17 18 19]\n",
      "  [20 21 22 23]\n",
      "  [24 25 26 27]\n",
      "  [28 29 30 31]]\n",
      "\n",
      " [[32 33 34 35]\n",
      "  [36 37 38 39]\n",
      "  [40 41 42 43]\n",
      "  [44 45 46 47]]]\n",
      "2D array:\n",
      "[[ 0  5 10 15]\n",
      " [16 21 26 31]\n",
      " [32 37 42 47]]\n"
     ]
    }
   ],
   "source": [
    "arr_3D = np.arange(3 * 4 * 4).reshape(3, 4, 4)\n",
    "arr = np.diagonal(arr_3D, axis1 = 1,axis2 = 2)\n",
    "print(arr_3D)\n",
    "print(\"2D array:\")\n",
    "print(arr)"
   ]
  },
  {
   "cell_type": "markdown",
   "id": "4ccd5018",
   "metadata": {},
   "source": [
    "Q2) Calculate the mean across dimension in a 2D NumPy array\n",
    "\n",
    "Input:\n",
    "     [[1, 2, 3], [4, 5, 6], [7, 8, 9]]\n",
    "     \n",
    "Output:\n",
    "\n",
    "     Mean of Row 1 is 2.0\n",
    "     Mean of Row 2 is 5.0\n",
    "     Mean of Row 3 is 8.0\n",
    "     Mean of column 1 is 4.0\n",
    "     Mean of column 2 is 5.0\n",
    "     Mean of column 3 is 6.0"
   ]
  },
  {
   "cell_type": "code",
   "execution_count": 34,
   "id": "13233757",
   "metadata": {},
   "outputs": [
    {
     "name": "stdout",
     "output_type": "stream",
     "text": [
      "Mean of Row 1 is 2.0\n",
      "Mean of Row 2 is 5.0\n",
      "Mean of Row 3 is 8.0\n",
      "Mean of column 1 is 4.0\n",
      "Mean of column 2 is 5.0\n",
      "Mean of column 3 is 6.0\n"
     ]
    }
   ],
   "source": [
    "arr = np.arange(1,10).reshape(3,3)\n",
    "\n",
    "row_mean = np.mean(arr, axis=1)\n",
    "  \n",
    "row1_mean = row_mean[0]\n",
    "print(\"Mean of Row 1 is\", row1_mean)\n",
    "  \n",
    "row2_mean = row_mean[1]\n",
    "print(\"Mean of Row 2 is\", row2_mean)\n",
    "  \n",
    "row3_mean = row_mean[2]\n",
    "print(\"Mean of Row 3 is\", row3_mean)\n",
    "  \n",
    "column_mean = np.mean(arr, axis=0)\n",
    "  \n",
    "column1_mean = column_mean[0]\n",
    "print(\"Mean of column 1 is\", column1_mean)\n",
    "  \n",
    "column2_mean = column_mean[1]\n",
    "print(\"Mean of column 2 is\", column2_mean)\n",
    "  \n",
    "column3_mean = column_mean[2]\n",
    "print(\"Mean of column 3 is\", column3_mean)"
   ]
  },
  {
   "cell_type": "markdown",
   "id": "df34420d",
   "metadata": {},
   "source": [
    "Q3)Construct a DataFrame in Pandas using string data\n",
    "\n",
    "Input:\n",
    "\n",
    "“””Date;Event;Cost\n",
    "10/2/2011;Music;10000\n",
    "11/2/2011;Poetry;12000\n",
    "12/2/2011;Theatre;5000\n",
    "13/2/2011;Comedy;8000\n",
    "“””"
   ]
  },
  {
   "cell_type": "code",
   "execution_count": 35,
   "id": "8905b6da",
   "metadata": {},
   "outputs": [],
   "source": [
    "import pandas as pd"
   ]
  },
  {
   "cell_type": "code",
   "execution_count": 39,
   "id": "164214bc",
   "metadata": {},
   "outputs": [
    {
     "data": {
      "text/html": [
       "<div>\n",
       "<style scoped>\n",
       "    .dataframe tbody tr th:only-of-type {\n",
       "        vertical-align: middle;\n",
       "    }\n",
       "\n",
       "    .dataframe tbody tr th {\n",
       "        vertical-align: top;\n",
       "    }\n",
       "\n",
       "    .dataframe thead th {\n",
       "        text-align: right;\n",
       "    }\n",
       "</style>\n",
       "<table border=\"1\" class=\"dataframe\">\n",
       "  <thead>\n",
       "    <tr style=\"text-align: right;\">\n",
       "      <th></th>\n",
       "      <th>Date</th>\n",
       "      <th>Event</th>\n",
       "      <th>Cost</th>\n",
       "    </tr>\n",
       "  </thead>\n",
       "  <tbody>\n",
       "    <tr>\n",
       "      <th>0</th>\n",
       "      <td>10/2/2011</td>\n",
       "      <td>Music</td>\n",
       "      <td>10000</td>\n",
       "    </tr>\n",
       "    <tr>\n",
       "      <th>1</th>\n",
       "      <td>11/2/2011</td>\n",
       "      <td>Poetry</td>\n",
       "      <td>12000</td>\n",
       "    </tr>\n",
       "    <tr>\n",
       "      <th>2</th>\n",
       "      <td>12/2/2011</td>\n",
       "      <td>Theatre</td>\n",
       "      <td>5000</td>\n",
       "    </tr>\n",
       "    <tr>\n",
       "      <th>3</th>\n",
       "      <td>13/2/2011</td>\n",
       "      <td>Comedy</td>\n",
       "      <td>8000</td>\n",
       "    </tr>\n",
       "  </tbody>\n",
       "</table>\n",
       "</div>"
      ],
      "text/plain": [
       "        Date    Event   Cost\n",
       "0  10/2/2011    Music  10000\n",
       "1  11/2/2011   Poetry  12000\n",
       "2  12/2/2011  Theatre   5000\n",
       "3  13/2/2011   Comedy   8000"
      ]
     },
     "execution_count": 39,
     "metadata": {},
     "output_type": "execute_result"
    }
   ],
   "source": [
    "dict = {\"Date\":[\"10/2/2011\",\"11/2/2011\",\"12/2/2011\",\"13/2/2011\"],\"Event\":[\"Music\",\"Poetry\",\"Theatre\",\"Comedy\"],\"Cost\":[10000,12000,5000,8000]}\n",
    "df = pd.DataFrame(dict)\n",
    "df"
   ]
  },
  {
   "cell_type": "markdown",
   "id": "4deb4ec5",
   "metadata": {},
   "source": [
    "Q4) Provide different ways to iterate over rows in Pandas Dataframe"
   ]
  },
  {
   "cell_type": "code",
   "execution_count": 40,
   "id": "a21b1721",
   "metadata": {},
   "outputs": [
    {
     "name": "stdout",
     "output_type": "stream",
     "text": [
      "0 Date     10/2/2011\n",
      "Event        Music\n",
      "Cost         10000\n",
      "Name: 0, dtype: object\n",
      "\n",
      "1 Date     11/2/2011\n",
      "Event       Poetry\n",
      "Cost         12000\n",
      "Name: 1, dtype: object\n",
      "\n",
      "2 Date     12/2/2011\n",
      "Event      Theatre\n",
      "Cost          5000\n",
      "Name: 2, dtype: object\n",
      "\n",
      "3 Date     13/2/2011\n",
      "Event       Comedy\n",
      "Cost          8000\n",
      "Name: 3, dtype: object\n",
      "\n"
     ]
    }
   ],
   "source": [
    "for i, j in df.iterrows():\n",
    "    print(i, j)\n",
    "    print()"
   ]
  },
  {
   "cell_type": "code",
   "execution_count": 41,
   "id": "16c1b8ad",
   "metadata": {},
   "outputs": [
    {
     "name": "stdout",
     "output_type": "stream",
     "text": [
      "Date 0    10/2/2011\n",
      "1    11/2/2011\n",
      "2    12/2/2011\n",
      "3    13/2/2011\n",
      "Name: Date, dtype: object\n",
      "\n",
      "Event 0      Music\n",
      "1     Poetry\n",
      "2    Theatre\n",
      "3     Comedy\n",
      "Name: Event, dtype: object\n",
      "\n",
      "Cost 0    10000\n",
      "1    12000\n",
      "2     5000\n",
      "3     8000\n",
      "Name: Cost, dtype: int64\n",
      "\n"
     ]
    }
   ],
   "source": [
    "for key, value in df.iteritems():\n",
    "    print(key, value)\n",
    "    print()"
   ]
  },
  {
   "cell_type": "code",
   "execution_count": 43,
   "id": "6c8c7209",
   "metadata": {},
   "outputs": [
    {
     "name": "stdout",
     "output_type": "stream",
     "text": [
      "Pandas(Index=0, Date='10/2/2011', Event='Music', Cost=10000)\n",
      "Pandas(Index=1, Date='11/2/2011', Event='Poetry', Cost=12000)\n",
      "Pandas(Index=2, Date='12/2/2011', Event='Theatre', Cost=5000)\n",
      "Pandas(Index=3, Date='13/2/2011', Event='Comedy', Cost=8000)\n"
     ]
    }
   ],
   "source": [
    "for i in df.itertuples():\n",
    "    print(i)"
   ]
  },
  {
   "cell_type": "markdown",
   "id": "caec671e",
   "metadata": {},
   "source": [
    "Q5) Write Python Program to Find closest number in array\n",
    "\n",
    "Input : arr[] = {1, 2, 4, 5, 6, 6, 8, 9}\n",
    "Target number = 11\n",
    "Output : 9\n",
    "\n",
    "9 is closest to 11 in given array\n",
    "\n",
    "Input :arr[] = {2, 5, 6, 7, 8, 8, 9};\n",
    "Target number = 4\n",
    "Output : 5"
   ]
  },
  {
   "cell_type": "code",
   "execution_count": 58,
   "id": "7aec9b8f",
   "metadata": {},
   "outputs": [
    {
     "name": "stdout",
     "output_type": "stream",
     "text": [
      "Enter the size of array7\n",
      "2\n",
      "5\n",
      "6\n",
      "7\n",
      "8\n",
      "8\n",
      "9\n",
      "Enter The target Element: 4\n",
      "5\n"
     ]
    }
   ],
   "source": [
    "l = []\n",
    "n = int(input(\"Enter the size of array\"))\n",
    "for i in range (n):\n",
    "    a = int(input())\n",
    "    l.append(a)\n",
    "\n",
    "arr = np.array(l)\n",
    "\n",
    "target = int(input(\"Enter The target Element: \"))\n",
    "\n",
    "def findElement(arr , target):\n",
    "    if target in arr:\n",
    "        return target\n",
    "    else:\n",
    "        if(arr[n-1] < target):\n",
    "            return arr[n-1]\n",
    "        elif ( arr[0] > target):\n",
    "            return arr[0]\n",
    "        else:\n",
    "            for i in range(1,n):\n",
    "                if(arr[i]>target):\n",
    "                    return arr[i]\n",
    "    \n",
    "\n",
    "print(findElement(arr,target))        "
   ]
  },
  {
   "cell_type": "markdown",
   "id": "e959a6c6",
   "metadata": {},
   "source": []
  }
 ],
 "metadata": {
  "kernelspec": {
   "display_name": "Python 3 (ipykernel)",
   "language": "python",
   "name": "python3"
  },
  "language_info": {
   "codemirror_mode": {
    "name": "ipython",
    "version": 3
   },
   "file_extension": ".py",
   "mimetype": "text/x-python",
   "name": "python",
   "nbconvert_exporter": "python",
   "pygments_lexer": "ipython3",
   "version": "3.9.12"
  }
 },
 "nbformat": 4,
 "nbformat_minor": 5
}
