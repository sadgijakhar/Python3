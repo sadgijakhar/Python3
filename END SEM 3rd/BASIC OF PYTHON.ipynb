{
 "cells": [
  {
   "cell_type": "code",
   "execution_count": 1,
   "id": "cfe28245",
   "metadata": {},
   "outputs": [
    {
     "name": "stdout",
     "output_type": "stream",
     "text": [
      "What is your name? Sadgi Jakhar\n",
      "Sadgi Jakhar\n"
     ]
    }
   ],
   "source": [
    "name = input(\"What is your name? \")\n",
    "print(name)"
   ]
  },
  {
   "cell_type": "code",
   "execution_count": 2,
   "id": "c5cca1d1",
   "metadata": {},
   "outputs": [
    {
     "name": "stdout",
     "output_type": "stream",
     "text": [
      "Enter your Old age: 18\n",
      "20\n"
     ]
    }
   ],
   "source": [
    "old_age = int(input(\"Enter your Old age: \"))\n",
    "new_age = old_age + 2\n",
    "print(new_age)"
   ]
  },
  {
   "cell_type": "code",
   "execution_count": 3,
   "id": "a48cdf30",
   "metadata": {},
   "outputs": [
    {
     "data": {
      "text/plain": [
       "18.0"
      ]
     },
     "execution_count": 3,
     "metadata": {},
     "output_type": "execute_result"
    }
   ],
   "source": [
    "float()\n",
    "\n",
    "float(18)"
   ]
  },
  {
   "cell_type": "code",
   "execution_count": 4,
   "id": "38a162a5",
   "metadata": {},
   "outputs": [
    {
     "data": {
      "text/plain": [
       "'12'"
      ]
     },
     "execution_count": 4,
     "metadata": {},
     "output_type": "execute_result"
    }
   ],
   "source": [
    "str()\n",
    "\n",
    "str(12)"
   ]
  },
  {
   "cell_type": "code",
   "execution_count": 5,
   "id": "7a646513",
   "metadata": {},
   "outputs": [
    {
     "data": {
      "text/plain": [
       "False"
      ]
     },
     "execution_count": 5,
     "metadata": {},
     "output_type": "execute_result"
    }
   ],
   "source": [
    "bool()\n",
    "bool(0)"
   ]
  },
  {
   "cell_type": "code",
   "execution_count": 6,
   "id": "21c129e6",
   "metadata": {},
   "outputs": [
    {
     "name": "stdout",
     "output_type": "stream",
     "text": [
      "enter first number: 3\n",
      "enter second number: 2\n",
      "The sum is 5\n"
     ]
    }
   ],
   "source": [
    "first = input(\"enter first number: \")\n",
    "second = input(\"enter second number: \")\n",
    "sum = int(first) + int(second)\n",
    "print(\"The sum is\",sum)"
   ]
  },
  {
   "cell_type": "code",
   "execution_count": 7,
   "id": "91af0f3e",
   "metadata": {},
   "outputs": [
    {
     "data": {
      "text/plain": [
       "'TONY STARK'"
      ]
     },
     "execution_count": 7,
     "metadata": {},
     "output_type": "execute_result"
    }
   ],
   "source": [
    "name = \"Tony Stark\"\n",
    "name.upper()"
   ]
  },
  {
   "cell_type": "code",
   "execution_count": 8,
   "id": "0840a024",
   "metadata": {},
   "outputs": [
    {
     "data": {
      "text/plain": [
       "'tony stark'"
      ]
     },
     "execution_count": 8,
     "metadata": {},
     "output_type": "execute_result"
    }
   ],
   "source": [
    "name.lower()"
   ]
  },
  {
   "cell_type": "code",
   "execution_count": 9,
   "id": "02052d0f",
   "metadata": {},
   "outputs": [
    {
     "data": {
      "text/plain": [
       "'Tony Stark'"
      ]
     },
     "execution_count": 9,
     "metadata": {},
     "output_type": "execute_result"
    }
   ],
   "source": [
    "name.title()"
   ]
  },
  {
   "cell_type": "code",
   "execution_count": 12,
   "id": "392ca5f9",
   "metadata": {
    "scrolled": true
   },
   "outputs": [
    {
     "data": {
      "text/plain": [
       "'Tony stark'"
      ]
     },
     "execution_count": 12,
     "metadata": {},
     "output_type": "execute_result"
    }
   ],
   "source": [
    "name.capitalize()   #captial\n",
    "\n",
    "# help(str)"
   ]
  },
  {
   "cell_type": "code",
   "execution_count": 13,
   "id": "e6db93c7",
   "metadata": {},
   "outputs": [
    {
     "name": "stdout",
     "output_type": "stream",
     "text": [
      "5\n",
      "-1\n"
     ]
    }
   ],
   "source": [
    "print(name.find(('S')))\n",
    "print(name.find('stark'))"
   ]
  },
  {
   "cell_type": "code",
   "execution_count": 14,
   "id": "4c00ef30",
   "metadata": {},
   "outputs": [],
   "source": [
    "name = name.replace(\"Tony Stark\",\"Sadgi Jakhar\")"
   ]
  },
  {
   "cell_type": "code",
   "execution_count": 15,
   "id": "11b143b7",
   "metadata": {},
   "outputs": [
    {
     "data": {
      "text/plain": [
       "'Sadgi Jakhar'"
      ]
     },
     "execution_count": 15,
     "metadata": {},
     "output_type": "execute_result"
    }
   ],
   "source": [
    "name"
   ]
  },
  {
   "cell_type": "code",
   "execution_count": 16,
   "id": "cf174615",
   "metadata": {},
   "outputs": [
    {
     "data": {
      "text/plain": [
       "'Sadgi Ahlawat'"
      ]
     },
     "execution_count": 16,
     "metadata": {},
     "output_type": "execute_result"
    }
   ],
   "source": [
    "name.replace(\"Jakhar\",\"Ahlawat\")"
   ]
  },
  {
   "cell_type": "code",
   "execution_count": 17,
   "id": "4a5766cb",
   "metadata": {},
   "outputs": [
    {
     "data": {
      "text/plain": [
       "'Sadgi Jakhar'"
      ]
     },
     "execution_count": 17,
     "metadata": {},
     "output_type": "execute_result"
    }
   ],
   "source": [
    "name"
   ]
  },
  {
   "cell_type": "code",
   "execution_count": 18,
   "id": "3bdbb0e4",
   "metadata": {},
   "outputs": [
    {
     "data": {
      "text/plain": [
       "True"
      ]
     },
     "execution_count": 18,
     "metadata": {},
     "output_type": "execute_result"
    }
   ],
   "source": [
    "'S' in name"
   ]
  },
  {
   "cell_type": "code",
   "execution_count": 19,
   "id": "bd95eb4c",
   "metadata": {},
   "outputs": [
    {
     "data": {
      "text/plain": [
       "False"
      ]
     },
     "execution_count": 19,
     "metadata": {},
     "output_type": "execute_result"
    }
   ],
   "source": [
    "'s' in \"name\""
   ]
  },
  {
   "cell_type": "markdown",
   "id": "3cabf5c4",
   "metadata": {},
   "source": [
    "Operators\n",
    "\n",
    "1) Arthmetic Operator\n",
    "    +, -, /, *, %, //\n",
    "    \n",
    "2) logical Operator\n",
    "    OR, AND, NOT\n",
    "    \n",
    "3) Comparision Operator\n",
    "    ==, < , >, <=, >=\n",
    "    \n",
    "4) Membership Opertor\n",
    "    in, not in\n",
    "    \n",
    "5) Assignment Operator\n",
    "    =\n",
    "    \n",
    "6) Identity Operator\n",
    "    is, is not\n",
    "    \n",
    "7) Shift Operator\n",
    "    >>, <<"
   ]
  },
  {
   "cell_type": "code",
   "execution_count": 23,
   "id": "1b98aedf",
   "metadata": {},
   "outputs": [
    {
     "name": "stdout",
     "output_type": "stream",
     "text": [
      "Exactly Same\n"
     ]
    }
   ],
   "source": [
    "# IF ELSE Condition\n",
    "\n",
    "age = 19\n",
    "if age > 19:\n",
    "    print(\"Bigger than Exception\")\n",
    "elif age < 19:\n",
    "    print(\"Smaller Than Exception\")\n",
    "else:\n",
    "    print(\"Exactly Same\")"
   ]
  },
  {
   "cell_type": "code",
   "execution_count": 25,
   "id": "44302150",
   "metadata": {},
   "outputs": [
    {
     "name": "stdout",
     "output_type": "stream",
     "text": [
      "Enter the number: 4\n",
      "choose one + - / ^ * %: *\n",
      "Enter the number: 4\n",
      "16\n"
     ]
    }
   ],
   "source": [
    "first = int(input(\"Enter the number: \"))\n",
    "o = input(\"choose one + - / ^ * %: \")\n",
    "second = int(input(\"Enter the number: \"))\n",
    "if o == '+':\n",
    "    print(first + second)\n",
    "if o == '-':\n",
    "    print(first - second)\n",
    "if o == '*':\n",
    "    print(first * second)\n",
    "if o == '/':\n",
    "    print(first / second)\n",
    "if o == '%':\n",
    "    print(first % second)\n",
    "if o == '^':\n",
    "    print(first ** second)"
   ]
  },
  {
   "cell_type": "code",
   "execution_count": 27,
   "id": "0a367ecd",
   "metadata": {},
   "outputs": [
    {
     "name": "stdout",
     "output_type": "stream",
     "text": [
      "range(0, 5)\n"
     ]
    }
   ],
   "source": [
    "# range\n",
    "numbers = range(5)\n",
    "print(numbers)"
   ]
  },
  {
   "cell_type": "code",
   "execution_count": 31,
   "id": "fc10cb56",
   "metadata": {},
   "outputs": [
    {
     "name": "stdout",
     "output_type": "stream",
     "text": [
      "0\n",
      "10\n",
      "20\n",
      "30\n",
      "40\n",
      "50\n",
      "60\n",
      "70\n",
      "80\n",
      "90\n",
      "100\n"
     ]
    }
   ],
   "source": [
    "for i in range(0,101,10):\n",
    "    print(i)"
   ]
  },
  {
   "cell_type": "code",
   "execution_count": 37,
   "id": "2645bd49",
   "metadata": {},
   "outputs": [
    {
     "name": "stdout",
     "output_type": "stream",
     "text": [
      "\n",
      "*\n",
      "**\n",
      "***\n",
      "****\n",
      "*****\n",
      "******\n",
      "*******\n",
      "********\n",
      "*********\n",
      "**********\n",
      "***********\n",
      "************\n",
      "*************\n",
      "**************\n",
      "***************\n",
      "****************\n",
      "*****************\n",
      "******************\n",
      "*******************\n",
      "********************\n",
      "*********************\n",
      "**********************\n",
      "***********************\n",
      "************************\n",
      "*************************\n",
      "**************************\n",
      "***************************\n",
      "****************************\n",
      "*****************************\n",
      "******************************\n",
      "*******************************\n",
      "********************************\n",
      "*********************************\n",
      "**********************************\n",
      "***********************************\n",
      "************************************\n",
      "*************************************\n",
      "**************************************\n",
      "***************************************\n",
      "****************************************\n",
      "*****************************************\n",
      "******************************************\n",
      "*******************************************\n",
      "********************************************\n",
      "*********************************************\n",
      "**********************************************\n",
      "***********************************************\n",
      "************************************************\n",
      "*************************************************\n",
      "**************************************************\n",
      "*************************************************\n",
      "************************************************\n",
      "***********************************************\n",
      "**********************************************\n",
      "*********************************************\n",
      "********************************************\n",
      "*******************************************\n",
      "******************************************\n",
      "*****************************************\n",
      "****************************************\n",
      "***************************************\n",
      "**************************************\n",
      "*************************************\n",
      "************************************\n",
      "***********************************\n",
      "**********************************\n",
      "*********************************\n",
      "********************************\n",
      "*******************************\n",
      "******************************\n",
      "*****************************\n",
      "****************************\n",
      "***************************\n",
      "**************************\n",
      "*************************\n",
      "************************\n",
      "***********************\n",
      "**********************\n",
      "*********************\n",
      "********************\n",
      "*******************\n",
      "******************\n",
      "*****************\n",
      "****************\n",
      "***************\n",
      "**************\n",
      "*************\n",
      "************\n",
      "***********\n",
      "**********\n",
      "*********\n",
      "********\n",
      "*******\n",
      "******\n",
      "*****\n",
      "****\n",
      "***\n",
      "**\n",
      "*\n",
      "\n"
     ]
    }
   ],
   "source": [
    "i = 0\n",
    "while (i < 50):\n",
    "    print(i*\"*\")\n",
    "    i+=1\n",
    "while(i>=0):\n",
    "    print(i*\"*\")\n",
    "    i-=1"
   ]
  },
  {
   "cell_type": "markdown",
   "id": "12f728b7",
   "metadata": {},
   "source": [
    "# List \n",
    "-> It is the collection of data type which store value of every datatype separated by comma inclosed in square bracket.\n",
    "\n",
    "1) append -> list.append(x)\n",
    "\n",
    "2) insert -> list.insert(index,value)\n",
    "\n",
    "3) extend -> list.extend([value , ....])\n",
    "\n",
    "4) clear -> list.clear()\n",
    "\n",
    "5) remove -> list.\n",
    "\n",
    "6) delete -> list.\n"
   ]
  },
  {
   "cell_type": "code",
   "execution_count": 1,
   "id": "ad369fc1",
   "metadata": {},
   "outputs": [
    {
     "name": "stdout",
     "output_type": "stream",
     "text": [
      "ram\n",
      "shyam\n",
      "kishan\n"
     ]
    }
   ],
   "source": [
    "# BREAK AND CONTINUE\n",
    "\n",
    "students = [\"ram\",\"shyam\",\"kishan\",\"radha\",\"radhika\"]\n",
    "for i in students:\n",
    "    if i == \"radha\":\n",
    "        break;\n",
    "    else:\n",
    "        print(i)"
   ]
  },
  {
   "cell_type": "code",
   "execution_count": 2,
   "id": "14f4c6e9",
   "metadata": {},
   "outputs": [
    {
     "name": "stdout",
     "output_type": "stream",
     "text": [
      "ram\n",
      "shyam\n",
      "kishan\n",
      "radhika\n"
     ]
    }
   ],
   "source": [
    "for i in students:\n",
    "    if i == \"radha\":\n",
    "        continue;\n",
    "    else:\n",
    "        print(i)"
   ]
  },
  {
   "cell_type": "markdown",
   "id": "96d2e210",
   "metadata": {},
   "source": [
    "# Tuple -> \n",
    "Tuple is immutable type data structure which use to store data in between paranthesis separted by comma.\n",
    "\n",
    "1) tuple.count(value)\n",
    "\n",
    "2) tuple.index(value)\n",
    "\n",
    "3) len(marks)"
   ]
  },
  {
   "cell_type": "code",
   "execution_count": 5,
   "id": "4e3f25d1",
   "metadata": {},
   "outputs": [
    {
     "data": {
      "text/plain": [
       "0"
      ]
     },
     "execution_count": 5,
     "metadata": {},
     "output_type": "execute_result"
    }
   ],
   "source": [
    "marks = (95,97,97)\n",
    "marks.count(94)"
   ]
  },
  {
   "cell_type": "code",
   "execution_count": 7,
   "id": "ffb78101",
   "metadata": {},
   "outputs": [
    {
     "data": {
      "text/plain": [
       "3"
      ]
     },
     "execution_count": 7,
     "metadata": {},
     "output_type": "execute_result"
    }
   ],
   "source": [
    "len(marks)"
   ]
  },
  {
   "cell_type": "markdown",
   "id": "d9c7e39b",
   "metadata": {},
   "source": [
    "# SET "
   ]
  },
  {
   "cell_type": "code",
   "execution_count": 9,
   "id": "42bad388",
   "metadata": {},
   "outputs": [
    {
     "data": {
      "text/plain": [
       "{95, 96, 97, 98}"
      ]
     },
     "execution_count": 9,
     "metadata": {},
     "output_type": "execute_result"
    }
   ],
   "source": [
    "marks = {95,96,97,98,98}\n",
    "marks"
   ]
  },
  {
   "cell_type": "markdown",
   "id": "fa7acfdb",
   "metadata": {},
   "source": [
    "# DICTIONARY\n",
    "\n",
    "1) VAlue stored in form of key and value"
   ]
  },
  {
   "cell_type": "code",
   "execution_count": 11,
   "id": "bab68973",
   "metadata": {},
   "outputs": [
    {
     "name": "stdout",
     "output_type": "stream",
     "text": [
      "98\n"
     ]
    }
   ],
   "source": [
    "dict = {\"english\": 95, \"chemistry\": 98}\n",
    "print(dict[\"chemistry\"])"
   ]
  },
  {
   "cell_type": "code",
   "execution_count": 12,
   "id": "bdbb018e",
   "metadata": {},
   "outputs": [
    {
     "data": {
      "text/plain": [
       "{'english': 95, 'chemistry': 98, 'Maths': 100}"
      ]
     },
     "execution_count": 12,
     "metadata": {},
     "output_type": "execute_result"
    }
   ],
   "source": [
    "dict[\"Maths\"] = 100\n",
    "dict"
   ]
  },
  {
   "cell_type": "code",
   "execution_count": 13,
   "id": "fed958d6",
   "metadata": {},
   "outputs": [],
   "source": [
    "dict[\"english\"] = 93"
   ]
  },
  {
   "cell_type": "code",
   "execution_count": 14,
   "id": "d320325d",
   "metadata": {},
   "outputs": [
    {
     "data": {
      "text/plain": [
       "{'english': 93, 'chemistry': 98, 'Maths': 100}"
      ]
     },
     "execution_count": 14,
     "metadata": {},
     "output_type": "execute_result"
    }
   ],
   "source": [
    "dict"
   ]
  },
  {
   "cell_type": "markdown",
   "id": "bd05c814",
   "metadata": {},
   "source": [
    "# FUNCTIONS\n",
    "\n",
    "1) IN- Build Function\n",
    "\n",
    "2) Module Function\n",
    "\n",
    "3) User-Defined Function\n",
    "\n",
    "def function_name(parameters):\n",
    "  #do something"
   ]
  },
  {
   "cell_type": "code",
   "execution_count": 20,
   "id": "c780adef",
   "metadata": {},
   "outputs": [
    {
     "name": "stdout",
     "output_type": "stream",
     "text": [
      "9\n"
     ]
    }
   ],
   "source": [
    "def print_sum(a,b=4):\n",
    "    return a+b\n",
    "\n",
    "a = 5\n",
    "b = 2\n",
    "print(print_sum(a))"
   ]
  },
  {
   "cell_type": "code",
   "execution_count": null,
   "id": "dc567613",
   "metadata": {},
   "outputs": [],
   "source": []
  }
 ],
 "metadata": {
  "kernelspec": {
   "display_name": "Python 3 (ipykernel)",
   "language": "python",
   "name": "python3"
  },
  "language_info": {
   "codemirror_mode": {
    "name": "ipython",
    "version": 3
   },
   "file_extension": ".py",
   "mimetype": "text/x-python",
   "name": "python",
   "nbconvert_exporter": "python",
   "pygments_lexer": "ipython3",
   "version": "3.9.12"
  }
 },
 "nbformat": 4,
 "nbformat_minor": 5
}
