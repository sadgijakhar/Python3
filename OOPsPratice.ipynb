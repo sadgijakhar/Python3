{
 "cells": [
  {
   "cell_type": "code",
   "execution_count": 22,
   "id": "45435e61",
   "metadata": {},
   "outputs": [
    {
     "name": "stdout",
     "output_type": "stream",
     "text": [
      "Rockey Sleeping\n",
      "Eating\n",
      "Dancing\n",
      "2\n"
     ]
    }
   ],
   "source": [
    "class animal:\n",
    "    \n",
    "    No_Of_Animals = 0\n",
    "    \n",
    "    def __init__(self,breed, age , sound ):\n",
    "        self.age = age\n",
    "        self.breed = breed\n",
    "        self.sound = sound\n",
    "        animal.No_Of_Animals += 1\n",
    "    \n",
    "    def sleep(self):\n",
    "        print(\"Sleeping\")\n",
    "        \n",
    "    def eat(self):\n",
    "        print(\"Eating\")\n",
    "        \n",
    "    def walk(self):\n",
    "        print(\"Walking\")\n",
    "        \n",
    "class dog(animal):\n",
    "    def __init__(self , name,breed,age ,sound):\n",
    "        super().__init__(breed , age , sound)\n",
    "        self.name = name\n",
    "        \n",
    "    @classmethod \n",
    "    def dancing(cls):\n",
    "        print(\"Dancing\")\n",
    "        \n",
    "    def sleep(self):\n",
    "        print(self.name + \" Sleeping\")\n",
    "        \n",
    "    \n",
    "if __name__ == \"__main__\":\n",
    "#     zoo = animal()\n",
    "#     zoo.sleep()\n",
    "    k = dog(\"Rockey\",\"doberman\" , 2 , \"bark\")\n",
    "    v = dog(\"Rockey\",\"doberman\" , 2 , \"bark\")\n",
    "    k.sleep()\n",
    "    k.eat()\n",
    "    dog.dancing()\n",
    "    print(animal.No_Of_Animals)"
   ]
  },
  {
   "cell_type": "code",
   "execution_count": null,
   "id": "39e479e9",
   "metadata": {},
   "outputs": [],
   "source": []
  }
 ],
 "metadata": {
  "kernelspec": {
   "display_name": "Python 3 (ipykernel)",
   "language": "python",
   "name": "python3"
  },
  "language_info": {
   "codemirror_mode": {
    "name": "ipython",
    "version": 3
   },
   "file_extension": ".py",
   "mimetype": "text/x-python",
   "name": "python",
   "nbconvert_exporter": "python",
   "pygments_lexer": "ipython3",
   "version": "3.9.12"
  }
 },
 "nbformat": 4,
 "nbformat_minor": 5
}
