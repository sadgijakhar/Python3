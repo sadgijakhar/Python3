{
 "cells": [
  {
   "cell_type": "code",
   "execution_count": 9,
   "id": "b47e48f6",
   "metadata": {},
   "outputs": [
    {
     "name": "stdout",
     "output_type": "stream",
     "text": [
      "15 , 16gb , 1TB\n",
      "15 , 16gb , 1TB\n",
      "15 , 16gb , 1TB\n",
      "15 , 16gb , 1TB\n"
     ]
    }
   ],
   "source": [
    "class computer:\n",
    "    \n",
    "    def config(self):\n",
    "        print(\"15, 16gb, 1TB\")\n",
    "        \n",
    "\n",
    "\n",
    "compl = computer()\n",
    "com2 = computer()\n",
    "\n",
    "computer.config(compl)\n",
    "computer.config(com2)\n",
    "\n",
    "compl.config()\n",
    "com2.config()"
   ]
  },
  {
   "cell_type": "code",
   "execution_count": 11,
   "id": "a7b71047",
   "metadata": {},
   "outputs": [
    {
     "name": "stdout",
     "output_type": "stream",
     "text": [
      "in init\n",
      "in init\n",
      "15, 16gb, 1TB\n",
      "15, 16gb, 1TB\n"
     ]
    }
   ],
   "source": [
    "#    __init__ function\n",
    "\n",
    "class computer1:\n",
    "    \n",
    "    def __init__(self):#constructor\n",
    "        print(\"in init\")\n",
    "        \n",
    "    def config(self):\n",
    "        print(\"15, 16gb, 1TB\")\n",
    "        \n",
    "compl = computer1()\n",
    "com2 = computer1()\n",
    "\n",
    "computer1.config(compl)\n",
    "computer1.config(com2)\n",
    "    \n",
    "# special variable __name__"
   ]
  },
  {
   "cell_type": "code",
   "execution_count": 14,
   "id": "d593f509",
   "metadata": {},
   "outputs": [
    {
     "name": "stdout",
     "output_type": "stream",
     "text": [
      "15, 16gb, 1TB Rzyen 3 8\n",
      "15, 16gb, 1TB i5 16\n"
     ]
    }
   ],
   "source": [
    "class computer2:\n",
    "    \n",
    "    def __init__(self,cpu,ram):#constructor\n",
    "        self.cpu =cpu\n",
    "        self.ram = ram\n",
    "        \n",
    "    def config(self):\n",
    "        print(\"15, 16gb, 1TB\",self.cpu, self.ram)\n",
    "        \n",
    "compl = computer2('Rzyen 3',8)\n",
    "com2 = computer2('i5',16)\n",
    "\n",
    "compl.config()\n",
    "com2.config()"
   ]
  },
  {
   "cell_type": "markdown",
   "id": "395f6fc7",
   "metadata": {},
   "source": [
    "# Constructor, Self"
   ]
  },
  {
   "cell_type": "code",
   "execution_count": null,
   "id": "eebc96e8",
   "metadata": {},
   "outputs": [],
   "source": []
  },
  {
   "cell_type": "code",
   "execution_count": null,
   "id": "7aebabdb",
   "metadata": {},
   "outputs": [],
   "source": []
  }
 ],
 "metadata": {
  "kernelspec": {
   "display_name": "Python 3 (ipykernel)",
   "language": "python",
   "name": "python3"
  },
  "language_info": {
   "codemirror_mode": {
    "name": "ipython",
    "version": 3
   },
   "file_extension": ".py",
   "mimetype": "text/x-python",
   "name": "python",
   "nbconvert_exporter": "python",
   "pygments_lexer": "ipython3",
   "version": "3.9.12"
  }
 },
 "nbformat": 4,
 "nbformat_minor": 5
}
