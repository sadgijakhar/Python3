{
 "cells": [
  {
   "cell_type": "markdown",
   "id": "f2a80108",
   "metadata": {},
   "source": [
    "# Swapping\n",
    "Description\n",
    "You are given two integer variables, x and y. You have to swap the values stored in x and y.\n",
    "\n",
    "----------------------------------------------------------------------\n",
    "Input:\n",
    "Two numbers x and y are separated by a comma.\n",
    "\n",
    "Output:\n",
    "Print 5 lines. The first two lines will have values of variables shown before swapping, and the last two lines will have values of variables shown after swapping. The third line will be blank.\n",
    "\n",
    "----------------------------------------------------------------------\n",
    "Sample input:\n",
    "20, 50\n",
    "\n",
    "Sample output:\n",
    "x before swapping: 20\n",
    "y before swapping: 50\n",
    "\n",
    "x after swapping: 50\n",
    "y after swapping: 20\n"
   ]
  },
  {
   "cell_type": "code",
   "execution_count": null,
   "id": "19c77bb8",
   "metadata": {},
   "outputs": [],
   "source": [
    "a = int(input(\"Enter first number: \"))\n",
    "b = int(input(\"Enter second number: \"))\n",
    "print(\"a before swapping:\",a)\n",
    "print(\"b before swapping:\",b)\n",
    "a = a+b\n",
    "b = a-b\n",
    "print()\n",
    "print(\"a after swapping:\",a)\n",
    "print(\"b after swapping:\",b)"
   ]
  },
  {
   "cell_type": "code",
   "execution_count": null,
   "id": "56d3d832",
   "metadata": {},
   "outputs": [],
   "source": [
    "x, y = input(\"Enter the values = \").split(\",\")\n",
    "print(f\"Before Swapping x = {x}, y = {y}\")\n",
    "x,y = y,x\n",
    "print(f\"After Swapping x = {x}, y = {y}\")"
   ]
  },
  {
   "cell_type": "markdown",
   "id": "c026bb25",
   "metadata": {},
   "source": [
    "# Alarm Clock\n",
    "Description\n",
    "You're trying to automate your alarm clock by writing a function for it. You're given a day of the week encoded as 1=Mon, 2=Tue, ... 6=Sat, 7=Sun, and whether you are on vacation as a boolean value (A Boolean object is either True or False). Based on the day and whether you're on vacation, write a function that returns a time in the form of a string indicating when the alarm clock should ring. \n",
    " \n",
    "When not on vacation, on weekdays, the alarm should ring at '7:00' and on the weekends (Saturday and Sunday), it should ring at '10:00'.\n",
    " \n",
    "While on vacation, it should ring at '10:00' on weekdays. On vacation, it should not ring on weekends; that is, it should return 'off'.\n",
    " \n",
    "----------------------------------------------------------------------\n",
    "Input:\n",
    "The input will be a list of two elements. The first element will be an integer from 1 to 7, and the second element will be a boolean value.\n",
    "Output:\n",
    "The output will be a string denoting the time alarm will ring or 'off'.\n",
    "----------------------------------------------------------------------\n",
    "Sample input:\n",
    "[7, True]\n",
    " \n",
    "Sample output:\n",
    "off\n",
    "----------------------------------------------------------------------\n",
    "Sample input:\n",
    "[3, True]\n",
    " \n",
    "Sample output:\n",
    "10:00\n"
   ]
  },
  {
   "cell_type": "code",
   "execution_count": null,
   "id": "17aec416",
   "metadata": {},
   "outputs": [],
   "source": [
    "weekday , vacation = input(\" Enter day and status of vaction: \").split(\",\")\n",
    "weekday = int(weekday)\n",
    "if vacation:\n",
    "    if weekday in [6 ,7]:\n",
    "        print( \"off\")\n",
    "    else:\n",
    "        print(\"10:00\")\n",
    "else:\n",
    "    if weekday in [6,7]:\n",
    "        print(\"10:00\")\n",
    "    else:\n",
    "        print(\"7:00\")\n",
    "        \n",
    "        "
   ]
  },
  {
   "cell_type": "markdown",
   "id": "c3628140",
   "metadata": {},
   "source": [
    "Factorial\n",
    "Description\n",
    "Factorial is a mathematical function denoted by '!'. It is defined as\n",
    " \n",
    "n factorial = n!= 1*2*3...*(n-1)*n\n",
    " \n",
    "In this question, you have to make a function that will take an integer as input and return the factorial of that integer if that integer is greater than or equal to zero and return -1 if the number is less than zero or negative.\n",
    " \n",
    "Note: the function doesn't print the factorial but returns it.\n",
    "----------------------------------------------------------------------\n",
    "Input:\n",
    "An integer n\n",
    " \n",
    "Output:\n",
    "The function returns n! if n is greater than or equal to 0.\n",
    "0! = 1\n",
    "and the function returns -1 if the number is less than 0.\n",
    " \n",
    "----------------------------------------------------------------------\n",
    "Sample input: 3\n",
    " \n",
    "Sample output: 6\n"
   ]
  },
  {
   "cell_type": "code",
   "execution_count": 1,
   "id": "483cee92",
   "metadata": {},
   "outputs": [
    {
     "name": "stdout",
     "output_type": "stream",
     "text": [
      "Enter a number: 5\n",
      "120\n"
     ]
    }
   ],
   "source": [
    "def fact(n):\n",
    "    if(n <= 1):\n",
    "        return 1 \n",
    "    else:\n",
    "        product = 1\n",
    "        for i in range(1,n+1):\n",
    "            product = product * i\n",
    "        return product\n",
    "\n",
    "num = int(input(\"Enter a number: \"))\n",
    "print(fact(num))"
   ]
  },
  {
   "cell_type": "code",
   "execution_count": 1,
   "id": "053f0177",
   "metadata": {},
   "outputs": [
    {
     "name": "stdout",
     "output_type": "stream",
     "text": [
      "5\n",
      "120\n"
     ]
    }
   ],
   "source": [
    "def factorial(n):\n",
    "    fact = 1\n",
    "    if(n <= 1):\n",
    "        return fact\n",
    "    else:\n",
    "        return (n*factorial(n-1))\n",
    "    \n",
    "num = int(input())\n",
    "print(factorial(num))"
   ]
  },
  {
   "cell_type": "markdown",
   "id": "3b80fe59",
   "metadata": {},
   "source": [
    "# Reverse the Digits\n",
    "Description\n",
    "You will be given a number. You have to reverse the digits of the number and print it.\n",
    " \n",
    "----------------------------------------------------------------------\n",
    "Input:\n",
    "A positive integer is greater than zero.\n",
    " \n",
    "Output:\n",
    "The number is in reverse order. Check sample outputs for more details.\n",
    " \n",
    "----------------------------------------------------------------------\n",
    "Sample input:\n",
    "345200\n",
    " \n",
    "Sample output:\n",
    "2543\n",
    "----------------------------------------------------------------------\n",
    "Sample input:\n",
    "6752343\n",
    " \n",
    "Sample output:\n",
    "3432576\n",
    "\n"
   ]
  },
  {
   "cell_type": "code",
   "execution_count": 4,
   "id": "af6c11e3",
   "metadata": {},
   "outputs": [
    {
     "name": "stdout",
     "output_type": "stream",
     "text": [
      "6752343\n",
      "3432576\n"
     ]
    }
   ],
   "source": [
    "def reverse(n):\n",
    "      return int(n[::-1])\n",
    "    \n",
    "n = input()\n",
    "print(reverse(n))\n",
    "    "
   ]
  },
  {
   "cell_type": "markdown",
   "id": "4efa98ed",
   "metadata": {},
   "source": [
    "# Counting the Number of Chocolates.\n",
    "Description\n",
    "Sanjay loves chocolates. He goes to a shop to buy his favourite chocolate. There he notices there is an offer going on; upon bringing 3 wrappers of the same chocolate, you will get new chocolate for free if Sanjay has m Rupees. How many chocolates will he be able to eat if each chocolate costs c Rupees?\n",
    " \n",
    "----------------------------------------------------------------------\n",
    "Input:\n",
    "Two positive integers, m and c, are separated by a comma. The first integer is m, and the second integer is c \n",
    " \n",
    "Output:\n",
    "A single integer denoting the number of chocolates Sanjay could eat in total.\n",
    "----------------------------------------------------------------------\n",
    "Sample input:\n",
    "15, 2\n",
    "Sample output:\n",
    "10\n",
    "Explanation:\n",
    "First, he will get 15/2=7 chocolates. He then will return 6 wrappers for 2 chocolates. And lastly, these two wrappers and the one he previously had will get him one more chocolate, making a total of 7+2+1=10 chocolates.\n",
    " \n",
    "----------------------------------------------------------------------\n",
    "Sample input:\n",
    "3,1\n",
    "Sample output:\n",
    "4\n"
   ]
  },
  {
   "cell_type": "code",
   "execution_count": 16,
   "id": "a695d6e3",
   "metadata": {},
   "outputs": [
    {
     "name": "stdout",
     "output_type": "stream",
     "text": [
      "15,2\n",
      "10\n"
     ]
    }
   ],
   "source": [
    "m,c = map(int,input().split(\",\"))\n",
    "chocolate = 0\n",
    "if(m%c == 0):\n",
    "    chocolate = m//c\n",
    "else:\n",
    "    chocolate = m//c + m%c\n",
    "\n",
    "total = chocolate // 3\n",
    "\n",
    "print(total + chocolate)\n",
    "    "
   ]
  },
  {
   "cell_type": "code",
   "execution_count": 15,
   "id": "231b40a7",
   "metadata": {},
   "outputs": [
    {
     "name": "stdout",
     "output_type": "stream",
     "text": [
      "15,2\n"
     ]
    },
    {
     "data": {
      "text/plain": [
       "9"
      ]
     },
     "execution_count": 15,
     "metadata": {},
     "output_type": "execute_result"
    }
   ],
   "source": [
    "m,c = map(int,input().split(\",\"))\n",
    "def chocolate(m,c):\n",
    "    choc = int(m/c)\n",
    "    now = choc\n",
    "    while(now):\n",
    "        cw = int(now/3)\n",
    "        choc = choc +cw\n",
    "        now = (now - (cw *3)) + (now*3)\n",
    "        break\n",
    "    return choc\n",
    "chocolate(m,c)\n",
    "        "
   ]
  }
 ],
 "metadata": {
  "kernelspec": {
   "display_name": "Python 3 (ipykernel)",
   "language": "python",
   "name": "python3"
  },
  "language_info": {
   "codemirror_mode": {
    "name": "ipython",
    "version": 3
   },
   "file_extension": ".py",
   "mimetype": "text/x-python",
   "name": "python",
   "nbconvert_exporter": "python",
   "pygments_lexer": "ipython3",
   "version": "3.9.12"
  },
  "vscode": {
   "interpreter": {
    "hash": "aee8b7b246df8f9039afb4144a1f6fd8d2ca17a180786b69acc140d282b71a49"
   }
  }
 },
 "nbformat": 4,
 "nbformat_minor": 5
}
