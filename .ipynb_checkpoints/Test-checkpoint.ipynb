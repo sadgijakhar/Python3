{
 "cells": [
  {
   "cell_type": "code",
   "execution_count": null,
   "id": "a516d9b0",
   "metadata": {},
   "outputs": [],
   "source": [
    "print(\"Once upon a book\")\n",
    "\n",
    "my_First_Book_Name = \"E.balaguswami c++\"\n",
    "my_First_Book_Price = 350.0\n",
    "my_Second_Book_Name = \"OCA OCP Java\"\n",
    "my_Second_Book_Price = 250.75\n",
    "my_Third_Book_Name = \"Play with Python Sunita Arora\"\n",
    "my_Third_Book_Price = 450.29\n",
    "my_Fourth_Book_Name = \"The invisible Man\"\n",
    "my_Fourth_Book_Price = 150.07\n",
    "my_Fifth_Book_Name = \"Alchemist\"\n",
    "my_Fifth_Book_Price = 850.20\n",
    "\n",
    "tax = 0.18\n",
    "# menu = '''All Books\n",
    "# First Book ''' + my_'First_Book_Name+''''''\n",
    "menu = \"all Book \\n \"+\"Press 1 for First book\"+\"first book \"+ my_First_Book_Name\n",
    "+\" Price: \"+str(my_First_Book_Price) +\" /n Press 2 for Second book\"+\"/nsecond Book: \"\n",
    "+my_Second_Book_Name + \" Price :\" + str(my_Second_Book_Price) \n",
    "+\" /n Press 3 for Third book\"+ \"\\n Third Book Name\"+  my_Third_Book_Name+\" Price: \"\n",
    "+str(my_Third_Book_Price) +\" /n Press 4 for Fourth book\"+\"\\n Fourth Book: \"+my_Fourth_Book_Name +\n",
    "\" Price :\" + str(my_Fourth_Book_Price) +\" /n Press 5 for Fifth book\"+\n",
    "\" \\n Fifth Book: \"+my_Fifth_Book_Name + \n",
    "\" Price :\" + str(my_Fifth_Book_Price)\n",
    "\n",
    "customer_Name = input(\"Enter user Name:\")\n",
    "\n",
    "books_amount = 0;\n",
    "\n",
    "books_selected = \"\"\n",
    "\n",
    "while(true):\n",
    "    print(menu)\n",
    "    choice = int(input(\"Enter the choice\"))\n",
    "    if choice == 1:\n",
    "        book_amount += my_First_Book_Price\n",
    "        books_selected += my_First_Book_Name+\"price: \"+str(my_First_Book_Price)+\"\\n\"\n",
    "\n",
    "    elif choice == 2:\n",
    "        book_amount += my_Second_Book_Name\n",
    "        books_selected += my_Second_Book_Name+\"price: \"+str(my_Second_Book_Price)+\"\\n\"\n",
    "\n",
    "    elif choice == 3:\n",
    "        book_amount += my_Third_Book_Name\n",
    "        books_selected += my_Third_Book_Name+\"price: \"+str(my_Third_Book_Price)+\"\\n\"\n",
    "\n",
    "    elif choice == 4 :\n",
    "        book_amount += my_Fourth_Book_Name\n",
    "        books_selected += my_Fourth_Book_Name+\"price: \"+str(my_Fourth_Book_Price)+\"\\n\"\n",
    "\n",
    "    elif choice == 5:\n",
    "        book_amount += my_Fifth_Book_Name\n",
    "        books_selected += my_Fifth_Book_Name+\"price: \"+str(my_Fifth_Book_Price)+\"\\n\"\n",
    "    elif choice == 6:\n",
    "        break\n",
    "    else:\n",
    "        print(\"Select the correct Choice\")\n",
    "        \n",
    "bill = \"Love for Books \\n Customer Name: \"+customer_Name+\"\\n\"+books_selected+\"\\n Books Total: \"+books_amount+\"\\n Total Amount: \"+((books_Amount*tax)+books_amount)\n",
    "print(bill)\n"
   ]
  },
  {
   "cell_type": "code",
   "execution_count": null,
   "id": "15379aaa",
   "metadata": {},
   "outputs": [],
   "source": [
    "a = input()\n"
   ]
  },
  {
   "cell_type": "code",
   "execution_count": null,
   "id": "7bbac755",
   "metadata": {},
   "outputs": [],
   "source": []
  },
  {
   "cell_type": "code",
   "execution_count": null,
   "id": "46d861a8",
   "metadata": {},
   "outputs": [],
   "source": []
  },
  {
   "cell_type": "code",
   "execution_count": null,
   "id": "21425672",
   "metadata": {},
   "outputs": [],
   "source": []
  }
 ],
 "metadata": {
  "kernelspec": {
   "display_name": "Python 3 (ipykernel)",
   "language": "python",
   "name": "python3"
  },
  "language_info": {
   "codemirror_mode": {
    "name": "ipython",
    "version": 3
   },
   "file_extension": ".py",
   "mimetype": "text/x-python",
   "name": "python",
   "nbconvert_exporter": "python",
   "pygments_lexer": "ipython3",
   "version": "3.9.12"
  }
 },
 "nbformat": 4,
 "nbformat_minor": 5
}
