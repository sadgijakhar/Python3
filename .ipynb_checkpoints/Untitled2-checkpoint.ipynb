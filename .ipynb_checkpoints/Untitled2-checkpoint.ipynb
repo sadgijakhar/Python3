{
 "cells": [
  {
   "cell_type": "code",
   "execution_count": null,
   "id": "4e8a092e",
   "metadata": {},
   "outputs": [],
   "source": [
    "import numpy as np"
   ]
  },
  {
   "cell_type": "code",
   "execution_count": null,
   "id": "8e862023",
   "metadata": {},
   "outputs": [],
   "source": [
    "a = np.array([[[0,1,2,3],[4,5,6,7],[8,9,10,11],[12,13,14,15]],[[16,17,18,19],[20,21,22,23],[24,25,26,27],[28,29,30,31]],[[32,33,34,35],[36,37,38,39],[40,41,42,43],[44,45,46,47]]])\n",
    "\n",
    "print(a)\n",
    "\n",
    "b = np.diag(a[0])\n",
    "c = np.diag(a[1])\n",
    "d = np.diag(a[2])\n",
    "e = np.array([b,c,d])\n",
    "print()\n",
    "print(\"Output: \")\n",
    "print()\n",
    "print(e)"
   ]
  },
  {
   "cell_type": "code",
   "execution_count": null,
   "id": "6743d142",
   "metadata": {},
   "outputs": [],
   "source": [
    "m = np.array([[1, 2, 3], [4, 5, 6], [7, 8, 9]])\n",
    "count = 1\n",
    "for i in m:\n",
    "    print(\"Mean of Row \",count,\" is \", np.mean(i))\n",
    "    count += 1\n",
    "m = m.T\n",
    "count = 1\n",
    "for i in m:\n",
    "    print(\"Mean of column \",count,\" is \", np.mean(i))\n",
    "    count += 1"
   ]
  },
  {
   "cell_type": "code",
   "execution_count": null,
   "id": "2083b8c3",
   "metadata": {},
   "outputs": [],
   "source": [
    "l = input().split(\"_\")\n",
    "print(l[1])\n",
    "print(l[0])\n",
    "print(l[-1])"
   ]
  },
  {
   "cell_type": "code",
   "execution_count": null,
   "id": "92d077cb",
   "metadata": {},
   "outputs": [],
   "source": [
    "dic ={'Jack Dorsey' : 'Twitter' , 'Tim Cook' : 'Apple', 'Jeff Bezos' : 'Amazon' , 'Mukesh Ambani' : 'RJIO'}\n",
    "l = []\n",
    "for i,j in dic.items():\n",
    "    l.append(j)\n",
    "\n",
    "l.sort(reverse = True)\n",
    "\n",
    "dict = {}\n",
    "for j in l:\n",
    "    for  i in dic:\n",
    "        if dic[i] == j:\n",
    "            dict[i] = j\n",
    "\n",
    "print(dict)\n"
   ]
  },
  {
   "cell_type": "code",
   "execution_count": null,
   "id": "15da306c",
   "metadata": {},
   "outputs": [],
   "source": [
    "input_list=[\"wood\", \"old\",\"apple\", \"big\", \"item\", \"euphoria\"] \n",
    "vowel = [\"a\",\"e\",\"i\",\"o\",\"u\"]\n",
    "l = [i for i in input_list if i[0] not in vowel]\n",
    "print(l)"
   ]
  },
  {
   "cell_type": "code",
   "execution_count": null,
   "id": "d4530d1a",
   "metadata": {},
   "outputs": [],
   "source": [
    "from functools import reduce\n",
    "\n",
    "input_list = ['I','Love','Python']\n",
    "\n",
    "def Split():\n",
    "    st = \"\"\n",
    "    for i in input_list :\n",
    "       st += i +\" \"\n",
    "    return st\n",
    "\n",
    "lost = list(reduce(Split(), input_list))\n",
    "print(lost)"
   ]
  },
  {
   "cell_type": "code",
   "execution_count": 2,
   "id": "21e79385",
   "metadata": {},
   "outputs": [
    {
     "name": "stdout",
     "output_type": "stream",
     "text": [
      "Enter: 4,5\n",
      "[1, 1, 1, 1, 1]\n",
      "[1, 0, 0, 0, 1]\n",
      "[1, 0, 0, 0, 1]\n",
      "[1, 1, 1, 1, 1]\n"
     ]
    }
   ],
   "source": [
    "x,y = input(\"Enter: \").split(\",\")\n",
    "l =[]\n",
    "t = 0\n",
    "while(t<int(x)):\n",
    "    if(t == 0 or t== int(x)-1):\n",
    "        for i in range(0,int(y)):\n",
    "            l.append(1)\n",
    "        t += 1\n",
    "        print(l)\n",
    "        l.clear()\n",
    "    else:\n",
    "        l.append(1)\n",
    "        for i in range(1,int(y)-1):\n",
    "            l.append(0)\n",
    "        t += 1\n",
    "        l.append(1)\n",
    "        print(l)\n",
    "        l.clear()\n",
    "        "
   ]
  },
  {
   "cell_type": "code",
   "execution_count": null,
   "id": "a6b8e9d7",
   "metadata": {},
   "outputs": [],
   "source": [
    "arr = np.array([[11,12,13,14],[21,22,23,24],[31,32,33,34]])\n",
    "arr.shape"
   ]
  },
  {
   "cell_type": "code",
   "execution_count": null,
   "id": "539ce1f3",
   "metadata": {},
   "outputs": [],
   "source": [
    "l = []\n",
    "l1=[]\n",
    "for i in range(0,3):\n",
    "    l.append(arr[i][0])\n",
    "    l1.append(arr[i][3])\n",
    "print(np.array(l))\n",
    "print(arr[0])\n",
    "print(np.array(l1))\n",
    "print(arr[2])"
   ]
  },
  {
   "cell_type": "code",
   "execution_count": null,
   "id": "66e5ed0a",
   "metadata": {},
   "outputs": [],
   "source": [
    "a = np.array([[4, 3, 1] ,[5, 7, 0], [9, 9, 3],[8, 2, 4]])\n",
    "m = int(input())\n",
    "n = int(input())\n",
    "\n",
    "list2 = a[m]\n",
    "a[m],a[n] = a[n],list2\n",
    "\n",
    "\n",
    "\n",
    "\n",
    "print(a)"
   ]
  },
  {
   "cell_type": "code",
   "execution_count": null,
   "id": "b16d775a",
   "metadata": {},
   "outputs": [],
   "source": [
    "n = int(input(\"Enter the size of data: \"))\n",
    "list_1 = []\n",
    "for i in range(0,n):\n",
    "    list_1.append(int(input()))\n",
    "list1 = []\n",
    "list1.append(list_1)\n",
    "list1.append(int(input(\"Enter check\")))\n",
    "sum = 0\n",
    "\n",
    "for i in list1[0]:\n",
    "    sum+=i\n",
    "    \n",
    "average = (sum/n)\n",
    "\n",
    "if(list1[1] > average):\n",
    "    print(True)\n",
    "else:\n",
    "    print(False)"
   ]
  },
  {
   "cell_type": "code",
   "execution_count": 1,
   "id": "0e6d4254",
   "metadata": {},
   "outputs": [
    {
     "name": "stdout",
     "output_type": "stream",
     "text": [
      "Enter the total no. of old recruiters: 5\n",
      "10\n",
      "20\n",
      "30\n",
      "40\n",
      "50\n",
      "Enter the total no. of new recruiters: 4\n",
      "30\n",
      "6080\n",
      "40\n",
      "30\n",
      "30.0\n",
      "[10, 20, 30, 40, 50, 6080]\n"
     ]
    }
   ],
   "source": [
    "list1 = []\n",
    "n = int(input(\"Enter the total no. of old recruiters: \"))\n",
    "for i in range(0,n):\n",
    "    list1.append(int(input()))\n",
    "    \n",
    "list2 = []\n",
    "m = int(input(\"Enter the total no. of new recruiters: \"))\n",
    "for i in range(0,m):\n",
    "    list2.append(int(input()))\n",
    "    \n",
    "sum = 0\n",
    "for i in list1:\n",
    "    sum+=i  \n",
    "    \n",
    "average = (sum/n)\n",
    "print(average)\n",
    "for i in list2:\n",
    "    average1 = (sum+i)/(n+1)\n",
    "    if average1 > average:\n",
    "        list1.append(i)\n",
    "        average = average1\n",
    "        \n",
    "print(list1)"
   ]
  },
  {
   "cell_type": "code",
   "execution_count": null,
   "id": "393e7496",
   "metadata": {},
   "outputs": [],
   "source": [
    "average"
   ]
  },
  {
   "cell_type": "code",
   "execution_count": 4,
   "id": "ce6a97ec",
   "metadata": {},
   "outputs": [
    {
     "name": "stdout",
     "output_type": "stream",
     "text": [
      "abcd\n",
      "cedab\n",
      "e\n"
     ]
    }
   ],
   "source": [
    "str_1 = input()\n",
    "str_2 = input()\n",
    "if(len(str_1) > len(str_2)):\n",
    "    for i in str_1:\n",
    "        if i not in str_2:\n",
    "            print(i)\n",
    "            break\n",
    "else:\n",
    "    for i in str_2:\n",
    "        if i not in str_1:\n",
    "            print(i)\n",
    "            break"
   ]
  },
  {
   "cell_type": "code",
   "execution_count": null,
   "id": "1709a4d1",
   "metadata": {},
   "outputs": [
    {
     "name": "stdout",
     "output_type": "stream",
     "text": [
      "thing\n"
     ]
    }
   ],
   "source": [
    "str_1 = input().split(\"\")\n",
    "str_2 = input().split(\"\")\n",
    "print(str_1)\n",
    "print(str_2)\n"
   ]
  },
  {
   "cell_type": "code",
   "execution_count": null,
   "id": "e703ace3",
   "metadata": {},
   "outputs": [],
   "source": []
  }
 ],
 "metadata": {
  "kernelspec": {
   "display_name": "Python 3 (ipykernel)",
   "language": "python",
   "name": "python3"
  },
  "language_info": {
   "codemirror_mode": {
    "name": "ipython",
    "version": 3
   },
   "file_extension": ".py",
   "mimetype": "text/x-python",
   "name": "python",
   "nbconvert_exporter": "python",
   "pygments_lexer": "ipython3",
   "version": "3.9.12"
  }
 },
 "nbformat": 4,
 "nbformat_minor": 5
}
