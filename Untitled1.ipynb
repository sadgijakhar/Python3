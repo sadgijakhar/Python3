{
 "cells": [
  {
   "cell_type": "code",
   "execution_count": 1,
   "id": "b8069ca0",
   "metadata": {},
   "outputs": [],
   "source": [
    "import numpy as np"
   ]
  },
  {
   "cell_type": "code",
   "execution_count": 2,
   "id": "32c3fb3c",
   "metadata": {},
   "outputs": [],
   "source": [
    "a = [[1,2,3],[4,5,6],[7,8,9]]"
   ]
  },
  {
   "cell_type": "code",
   "execution_count": 3,
   "id": "a229d2e4",
   "metadata": {},
   "outputs": [],
   "source": [
    "b= [16,6,1]"
   ]
  },
  {
   "cell_type": "code",
   "execution_count": 4,
   "id": "74421f9c",
   "metadata": {},
   "outputs": [
    {
     "name": "stdout",
     "output_type": "stream",
     "text": [
      "[[1, 2, 3], [4, 5, 6], [7, 8, 9], [16, 6, 1]]\n"
     ]
    }
   ],
   "source": [
    "a.append(b)\n",
    "print(a)"
   ]
  },
  {
   "cell_type": "code",
   "execution_count": 5,
   "id": "c93bb46b",
   "metadata": {},
   "outputs": [],
   "source": [
    "c = np.array(a)"
   ]
  },
  {
   "cell_type": "code",
   "execution_count": 6,
   "id": "1d1d8470",
   "metadata": {},
   "outputs": [
    {
     "data": {
      "text/plain": [
       "array([[ 1,  2,  3],\n",
       "       [ 4,  5,  6],\n",
       "       [ 7,  8,  9],\n",
       "       [16,  6,  1]])"
      ]
     },
     "execution_count": 6,
     "metadata": {},
     "output_type": "execute_result"
    }
   ],
   "source": [
    "c"
   ]
  },
  {
   "cell_type": "code",
   "execution_count": 7,
   "id": "41894041",
   "metadata": {},
   "outputs": [],
   "source": [
    "c = np.transpose(c)"
   ]
  },
  {
   "cell_type": "code",
   "execution_count": 8,
   "id": "134051c6",
   "metadata": {},
   "outputs": [],
   "source": [
    "d = np.array([[5, 8, 4, 3]])"
   ]
  },
  {
   "cell_type": "code",
   "execution_count": 9,
   "id": "0a8949b3",
   "metadata": {},
   "outputs": [],
   "source": [
    "c = np.concatenate((c,d),axis=0)"
   ]
  },
  {
   "cell_type": "code",
   "execution_count": 10,
   "id": "3352daad",
   "metadata": {},
   "outputs": [
    {
     "data": {
      "text/plain": [
       "array([[ 1,  4,  7, 16],\n",
       "       [ 2,  5,  8,  6],\n",
       "       [ 3,  6,  9,  1],\n",
       "       [ 5,  8,  4,  3]])"
      ]
     },
     "execution_count": 10,
     "metadata": {},
     "output_type": "execute_result"
    }
   ],
   "source": [
    "c"
   ]
  },
  {
   "cell_type": "code",
   "execution_count": 11,
   "id": "2d8028f6",
   "metadata": {},
   "outputs": [],
   "source": [
    "c = np.transpose(c)"
   ]
  },
  {
   "cell_type": "code",
   "execution_count": null,
   "id": "f3ea88d5",
   "metadata": {},
   "outputs": [],
   "source": []
  },
  {
   "cell_type": "code",
   "execution_count": 12,
   "id": "213e272b",
   "metadata": {},
   "outputs": [
    {
     "data": {
      "text/plain": [
       "array([[ 1,  2,  3,  5],\n",
       "       [ 4,  5,  6,  8],\n",
       "       [ 7,  8,  9,  4],\n",
       "       [16,  6,  1,  3]])"
      ]
     },
     "execution_count": 12,
     "metadata": {},
     "output_type": "execute_result"
    }
   ],
   "source": [
    "c"
   ]
  },
  {
   "cell_type": "code",
   "execution_count": 13,
   "id": "0d03c769",
   "metadata": {},
   "outputs": [
    {
     "name": "stdout",
     "output_type": "stream",
     "text": [
      "4\n",
      "[1, 0, 0, 1]\n",
      "[1, 0, 0, 0, 1]\n"
     ]
    }
   ],
   "source": [
    "def into(a):\n",
    "    l =[]\n",
    "    for i in range (0,a+1):\n",
    "        l.append(0)\n",
    "    l[0] = 1\n",
    "    l[-1] =1\n",
    "    return l\n",
    "\n",
    "def pascal(n,l):\n",
    "#     p = len(l)\n",
    "    if(n==1):\n",
    "        return l\n",
    "    else:\n",
    "        return into(n-1)\n",
    "\n",
    "\n",
    "a = int(input())\n",
    "t = into(a)\n",
    "w = pascal(a,t)\n",
    "# s1 =0\n",
    "# for i in range(1,len(q)):\n",
    "#     s1 = q[i-1]+q[i]\n",
    "#     l[i] = s1\n",
    "print(w)\n",
    "print(t)\n"
   ]
  },
  {
   "cell_type": "code",
   "execution_count": 14,
   "id": "c805883b",
   "metadata": {},
   "outputs": [
    {
     "name": "stdout",
     "output_type": "stream",
     "text": [
      "\n",
      "\n",
      "\n",
      "\n",
      "\n"
     ]
    }
   ],
   "source": [
    "from math import factorial\n",
    " \n",
    "\n",
    "n = 5\n",
    "\n",
    "for i in range(n):\n",
    " \n",
    "    for j in range(i+1):\n",
    " \n",
    "        l=[factorial(i)//(factorial(j)*factorial(i-j))]\n",
    " \n",
    "    # for new line\n",
    "    print()"
   ]
  },
  {
   "cell_type": "code",
   "execution_count": 15,
   "id": "a4fd63d3",
   "metadata": {},
   "outputs": [
    {
     "name": "stdout",
     "output_type": "stream",
     "text": [
      "[1, 2, 1]\n"
     ]
    }
   ],
   "source": [
    "def pascal_triangle(n):\n",
    "   t = [1]\n",
    "   y = [0]\n",
    "   for x in range(max(n,0)):\n",
    "      \n",
    "      t=[l+r for l,r in zip(t+y, y+t)]\n",
    "   return t\n",
    "print(pascal_triangle(2) )\n"
   ]
  },
  {
   "cell_type": "code",
   "execution_count": 16,
   "id": "e0d1ff50",
   "metadata": {},
   "outputs": [
    {
     "name": "stdout",
     "output_type": "stream",
     "text": [
      "[1, 2]\n",
      "[3, 4]\n",
      "[5, 6]\n",
      "[7, 8]\n",
      "[9]\n"
     ]
    }
   ],
   "source": [
    "l=[1,2,3,4,5,6,7,8,9]\n",
    "p = 2\n",
    "while(True):\n",
    "    s = len(l)\n",
    "    if(s>p):\n",
    "        k=[]\n",
    "        for i in range(0,p):\n",
    "            k.append(l[i])\n",
    "        t=p\n",
    "        while(t>0):\n",
    "            l.remove(l[0])\n",
    "            t = t-1;\n",
    "        print(k)\n",
    "    else:\n",
    "        break\n",
    "    \n",
    "print(l)\n",
    "\n",
    "    "
   ]
  },
  {
   "cell_type": "code",
   "execution_count": 2,
   "id": "4516d7b9",
   "metadata": {},
   "outputs": [
    {
     "name": "stdout",
     "output_type": "stream",
     "text": [
      "3\n"
     ]
    }
   ],
   "source": [
    "l=[1,3,2,2,4,4]\n",
    "t=max(l)\n",
    "a = True\n",
    "while(a):\n",
    "    if t in l:\n",
    "        l.remove(t)\n",
    "    else:\n",
    "        a = False\n",
    "print(max(l))"
   ]
  },
  {
   "cell_type": "code",
   "execution_count": null,
   "id": "0109d98c",
   "metadata": {},
   "outputs": [],
   "source": [
    "l=[1,3,2,2,4,4]\n",
    "t=max(l)\n",
    "a = True\n",
    "while(a):\n",
    "    if t in l:\n",
    "        l.remove(t)\n",
    "        print l"
   ]
  },
  {
   "cell_type": "code",
   "execution_count": 3,
   "id": "6706ac26",
   "metadata": {},
   "outputs": [
    {
     "name": "stdout",
     "output_type": "stream",
     "text": [
      "3\n"
     ]
    }
   ],
   "source": [
    "print(chr(51))"
   ]
  },
  {
   "cell_type": "code",
   "execution_count": 7,
   "id": "d158de11",
   "metadata": {},
   "outputs": [
    {
     "data": {
      "text/plain": [
       "'{'"
      ]
     },
     "execution_count": 7,
     "metadata": {},
     "output_type": "execute_result"
    }
   ],
   "source": [
    "chr(123)"
   ]
  },
  {
   "cell_type": "code",
   "execution_count": null,
   "id": "1a1cac1d",
   "metadata": {},
   "outputs": [],
   "source": []
  },
  {
   "cell_type": "code",
   "execution_count": 13,
   "id": "74f94f9d",
   "metadata": {},
   "outputs": [
    {
     "data": {
      "text/plain": [
       "'upGrad'"
      ]
     },
     "execution_count": 13,
     "metadata": {},
     "output_type": "execute_result"
    }
   ],
   "source": [
    "\n",
    "\n",
    "s = 'upgrad'\n",
    "\n",
    "s = s[:2] + s[2].upper() + s[3:]\n",
    "s\n"
   ]
  },
  {
   "cell_type": "code",
   "execution_count": 23,
   "id": "28b64b4a",
   "metadata": {},
   "outputs": [
    {
     "name": "stdout",
     "output_type": "stream",
     "text": [
      "I love you\n"
     ]
    },
    {
     "data": {
      "text/plain": [
       "'I_love_you'"
      ]
     },
     "execution_count": 23,
     "metadata": {},
     "output_type": "execute_result"
    }
   ],
   "source": [
    "sentence=input()\n",
    "l= sentence.split(\" \")\n",
    "s ='_'.join(l)\n",
    "s"
   ]
  },
  {
   "cell_type": "code",
   "execution_count": 32,
   "id": "8199337f",
   "metadata": {},
   "outputs": [
    {
     "name": "stdout",
     "output_type": "stream",
     "text": [
      "Sadgi Jakhar\n"
     ]
    },
    {
     "data": {
      "text/plain": [
       "'aiaasdg jkhr'"
      ]
     },
     "execution_count": 32,
     "metadata": {},
     "output_type": "execute_result"
    }
   ],
   "source": [
    "s = input()\n",
    "s = s.lower()\n",
    "vowels=['a','i','e','o','u']\n",
    "c=\"\"\n",
    "o=\"\"\n",
    "for i in s:\n",
    "    if i in vowels:\n",
    "        c =c+i\n",
    "    else:\n",
    "        o = o+i\n",
    "c+o"
   ]
  },
  {
   "cell_type": "code",
   "execution_count": 37,
   "id": "a858258b",
   "metadata": {},
   "outputs": [
    {
     "name": "stdout",
     "output_type": "stream",
     "text": [
      "abshdksajd \n",
      "abshiehand\n",
      "absh\n"
     ]
    }
   ],
   "source": [
    "string1=input()\n",
    "string2=input()\n",
    "string1 = string1.lower()\n",
    "string2 = string2.lower()\n",
    "s1 = len(string1)\n",
    "s2 = len(string2)\n",
    "#start writing your code to find largest common prefix here\n",
    "c=\"\"\n",
    "if(s1>s2):\n",
    "    for i in range(0,s2-1) :\n",
    "        if(string1[i]==string2[i]):\n",
    "            c = c+string1[i]\n",
    "        else:\n",
    "            break\n",
    "else:\n",
    "    for i in range(0,s1-1) :\n",
    "        if(string1[i]==string2[i]):\n",
    "            c = c+string1[i]\n",
    "        else:\n",
    "            break\n",
    "    \n",
    "print(c)"
   ]
  },
  {
   "cell_type": "code",
   "execution_count": null,
   "id": "3e44b1be",
   "metadata": {},
   "outputs": [],
   "source": []
  },
  {
   "cell_type": "code",
   "execution_count": 42,
   "id": "f6652611",
   "metadata": {},
   "outputs": [
    {
     "data": {
      "text/plain": [
       "{'a': 1, 'b': 2}"
      ]
     },
     "execution_count": 42,
     "metadata": {},
     "output_type": "execute_result"
    }
   ],
   "source": [
    "\n",
    "d=dict(a=1, b=2)\n",
    "d"
   ]
  },
  {
   "cell_type": "code",
   "execution_count": 45,
   "id": "17956b05",
   "metadata": {},
   "outputs": [
    {
     "name": "stdout",
     "output_type": "stream",
     "text": [
      "dict_keys(['a', 'b', 'c', 'd'])\n"
     ]
    },
    {
     "data": {
      "text/plain": [
       "dict_values([64, 65, 66, 67])"
      ]
     },
     "execution_count": 45,
     "metadata": {},
     "output_type": "execute_result"
    }
   ],
   "source": [
    "d={'a':64, 'b':65, 'c':66, 'd':67}\n",
    "print(d.keys())\n",
    "d.values()"
   ]
  },
  {
   "cell_type": "code",
   "execution_count": 50,
   "id": "fd194e7d",
   "metadata": {},
   "outputs": [
    {
     "ename": "SyntaxError",
     "evalue": "invalid syntax (3210554608.py, line 2)",
     "output_type": "error",
     "traceback": [
      "\u001b[0;36m  Input \u001b[0;32mIn [50]\u001b[0;36m\u001b[0m\n\u001b[0;31m    del.dict_1['R']\u001b[0m\n\u001b[0m       ^\u001b[0m\n\u001b[0;31mSyntaxError\u001b[0m\u001b[0;31m:\u001b[0m invalid syntax\n"
     ]
    }
   ],
   "source": [
    "dict_1 = {\"Python'':40, \"R'':45}\n",
    "del.dict_1['R']"
   ]
  },
  {
   "cell_type": "code",
   "execution_count": null,
   "id": "db50cf5b",
   "metadata": {},
   "outputs": [],
   "source": []
  }
 ],
 "metadata": {
  "kernelspec": {
   "display_name": "Python 3 (ipykernel)",
   "language": "python",
   "name": "python3"
  },
  "language_info": {
   "codemirror_mode": {
    "name": "ipython",
    "version": 3
   },
   "file_extension": ".py",
   "mimetype": "text/x-python",
   "name": "python",
   "nbconvert_exporter": "python",
   "pygments_lexer": "ipython3",
   "version": "3.9.12"
  }
 },
 "nbformat": 4,
 "nbformat_minor": 5
}
