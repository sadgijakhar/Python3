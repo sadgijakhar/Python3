{
 "cells": [
  {
   "cell_type": "code",
   "execution_count": 2,
   "id": "29dfaeb6",
   "metadata": {},
   "outputs": [],
   "source": [
    "import numpy as np"
   ]
  },
  {
   "cell_type": "code",
   "execution_count": 2,
   "id": "99931e31",
   "metadata": {},
   "outputs": [
    {
     "data": {
      "text/plain": [
       "array([1, 2, 3, 4, 5])"
      ]
     },
     "execution_count": 2,
     "metadata": {},
     "output_type": "execute_result"
    }
   ],
   "source": [
    "a = np.array([1,2,3,4,5])\n",
    "a"
   ]
  },
  {
   "cell_type": "code",
   "execution_count": 7,
   "id": "3100f5b4",
   "metadata": {},
   "outputs": [
    {
     "name": "stdout",
     "output_type": "stream",
     "text": [
      "3.01 µs ± 6.56 ns per loop (mean ± std. dev. of 7 runs, 100,000 loops each)\n"
     ]
    }
   ],
   "source": [
    "%timeit [j**4 for j in range(1,9)]"
   ]
  },
  {
   "cell_type": "code",
   "execution_count": 8,
   "id": "ace46df3",
   "metadata": {},
   "outputs": [
    {
     "name": "stdout",
     "output_type": "stream",
     "text": [
      "1.91 µs ± 3.26 ns per loop (mean ± std. dev. of 7 runs, 1,000,000 loops each)\n"
     ]
    }
   ],
   "source": [
    "%timeit np.arange(1,9)**4 "
   ]
  },
  {
   "cell_type": "code",
   "execution_count": 13,
   "id": "2cc86b55",
   "metadata": {},
   "outputs": [
    {
     "name": "stdout",
     "output_type": "stream",
     "text": [
      "1\n",
      "2\n",
      "3\n",
      "4\n",
      "5\n",
      "[1 2 3 4 5]\n"
     ]
    }
   ],
   "source": [
    "l =[] \n",
    "for i in range(5):\n",
    "    l.append(int(input()))\n",
    "    \n",
    "b = np.array(l)\n",
    "print(b)\n",
    "    "
   ]
  },
  {
   "cell_type": "code",
   "execution_count": 14,
   "id": "3b6a2400",
   "metadata": {},
   "outputs": [
    {
     "data": {
      "text/plain": [
       "numpy.ndarray"
      ]
     },
     "execution_count": 14,
     "metadata": {},
     "output_type": "execute_result"
    }
   ],
   "source": [
    "type(b)"
   ]
  },
  {
   "cell_type": "code",
   "execution_count": 16,
   "id": "edd136f3",
   "metadata": {},
   "outputs": [
    {
     "data": {
      "text/plain": [
       "1"
      ]
     },
     "execution_count": 16,
     "metadata": {},
     "output_type": "execute_result"
    }
   ],
   "source": [
    "np.ndim(b)"
   ]
  },
  {
   "cell_type": "code",
   "execution_count": 18,
   "id": "33594123",
   "metadata": {},
   "outputs": [
    {
     "data": {
      "text/plain": [
       "array([[[[[[[[[[1, 2, 3, 4]]]]]]]]]])"
      ]
     },
     "execution_count": 18,
     "metadata": {},
     "output_type": "execute_result"
    }
   ],
   "source": [
    "array = np.array([1,2,3,4],ndmin = 10)\n",
    "array"
   ]
  },
  {
   "cell_type": "markdown",
   "id": "f37a699e",
   "metadata": {},
   "source": [
    "### Zeors"
   ]
  },
  {
   "cell_type": "code",
   "execution_count": 22,
   "id": "c4e56ad8",
   "metadata": {},
   "outputs": [
    {
     "data": {
      "text/plain": [
       "array([0., 0., 0., 0.])"
      ]
     },
     "execution_count": 22,
     "metadata": {},
     "output_type": "execute_result"
    }
   ],
   "source": [
    "ar_zero = np.zeros(4)\n",
    "ar_zero"
   ]
  },
  {
   "cell_type": "code",
   "execution_count": 26,
   "id": "b625f43a",
   "metadata": {},
   "outputs": [
    {
     "name": "stdout",
     "output_type": "stream",
     "text": [
      "[[0. 0. 0. 0.]\n",
      " [0. 0. 0. 0.]\n",
      " [0. 0. 0. 0.]]\n"
     ]
    }
   ],
   "source": [
    "zero1 = np.zeros((3,4))\n",
    "print(zero1)"
   ]
  },
  {
   "cell_type": "markdown",
   "id": "f3a327a0",
   "metadata": {},
   "source": [
    "# Ones"
   ]
  },
  {
   "cell_type": "code",
   "execution_count": 29,
   "id": "ffb95fc6",
   "metadata": {},
   "outputs": [
    {
     "name": "stdout",
     "output_type": "stream",
     "text": [
      "[1. 1. 1.]\n"
     ]
    }
   ],
   "source": [
    "ar_ones = np.ones(3)\n",
    "print(ar_ones)"
   ]
  },
  {
   "cell_type": "code",
   "execution_count": 30,
   "id": "bf5ddaf8",
   "metadata": {},
   "outputs": [
    {
     "name": "stdout",
     "output_type": "stream",
     "text": [
      "[[1. 1. 1. 1.]\n",
      " [1. 1. 1. 1.]\n",
      " [1. 1. 1. 1.]]\n"
     ]
    }
   ],
   "source": [
    "ar_ones1 = np.ones((3,4))\n",
    "print(ar_ones1)"
   ]
  },
  {
   "cell_type": "markdown",
   "id": "624bc49f",
   "metadata": {},
   "source": [
    "# Empty"
   ]
  },
  {
   "cell_type": "code",
   "execution_count": 8,
   "id": "35a5e5da",
   "metadata": {},
   "outputs": [
    {
     "name": "stdout",
     "output_type": "stream",
     "text": [
      "[0. 0. 0. 0.]\n"
     ]
    }
   ],
   "source": [
    "ar_empty = np.empty(4)\n",
    "print(ar_empty)"
   ]
  },
  {
   "cell_type": "code",
   "execution_count": 14,
   "id": "dda9466d",
   "metadata": {},
   "outputs": [
    {
     "name": "stdout",
     "output_type": "stream",
     "text": [
      "0.0 0.0 0.0 0.0 "
     ]
    }
   ],
   "source": [
    "for i in np.nditer(ar_empty):\n",
    "    print(i ,end = \" \")"
   ]
  },
  {
   "cell_type": "markdown",
   "id": "b40537cf",
   "metadata": {},
   "source": [
    "# RANGE"
   ]
  },
  {
   "cell_type": "code",
   "execution_count": 32,
   "id": "1e08634d",
   "metadata": {},
   "outputs": [
    {
     "name": "stdout",
     "output_type": "stream",
     "text": [
      "[1 2 3 4 5 6 7]\n"
     ]
    }
   ],
   "source": [
    "ar_range = np.arange(1,8)\n",
    "print(ar_range)"
   ]
  },
  {
   "cell_type": "markdown",
   "id": "f49617ed",
   "metadata": {},
   "source": [
    "# Diagonal"
   ]
  },
  {
   "cell_type": "code",
   "execution_count": 33,
   "id": "b747b18e",
   "metadata": {},
   "outputs": [
    {
     "name": "stdout",
     "output_type": "stream",
     "text": [
      "[[1. 0. 0.]\n",
      " [0. 1. 0.]\n",
      " [0. 0. 1.]]\n"
     ]
    }
   ],
   "source": [
    "ar_diagonal = np.eye(3)\n",
    "print(ar_diagonal)"
   ]
  },
  {
   "cell_type": "markdown",
   "id": "579d43a2",
   "metadata": {},
   "source": [
    "# Linspace"
   ]
  },
  {
   "cell_type": "code",
   "execution_count": 36,
   "id": "3cdd9a3f",
   "metadata": {},
   "outputs": [
    {
     "name": "stdout",
     "output_type": "stream",
     "text": [
      "[ 1.          1.09090909  1.18181818  1.27272727  1.36363636  1.45454545\n",
      "  1.54545455  1.63636364  1.72727273  1.81818182  1.90909091  2.\n",
      "  2.09090909  2.18181818  2.27272727  2.36363636  2.45454545  2.54545455\n",
      "  2.63636364  2.72727273  2.81818182  2.90909091  3.          3.09090909\n",
      "  3.18181818  3.27272727  3.36363636  3.45454545  3.54545455  3.63636364\n",
      "  3.72727273  3.81818182  3.90909091  4.          4.09090909  4.18181818\n",
      "  4.27272727  4.36363636  4.45454545  4.54545455  4.63636364  4.72727273\n",
      "  4.81818182  4.90909091  5.          5.09090909  5.18181818  5.27272727\n",
      "  5.36363636  5.45454545  5.54545455  5.63636364  5.72727273  5.81818182\n",
      "  5.90909091  6.          6.09090909  6.18181818  6.27272727  6.36363636\n",
      "  6.45454545  6.54545455  6.63636364  6.72727273  6.81818182  6.90909091\n",
      "  7.          7.09090909  7.18181818  7.27272727  7.36363636  7.45454545\n",
      "  7.54545455  7.63636364  7.72727273  7.81818182  7.90909091  8.\n",
      "  8.09090909  8.18181818  8.27272727  8.36363636  8.45454545  8.54545455\n",
      "  8.63636364  8.72727273  8.81818182  8.90909091  9.          9.09090909\n",
      "  9.18181818  9.27272727  9.36363636  9.45454545  9.54545455  9.63636364\n",
      "  9.72727273  9.81818182  9.90909091 10.        ]\n"
     ]
    }
   ],
   "source": [
    "ar_lin = np.linspace(1,10,num=100)\n",
    "print(ar_lin)"
   ]
  },
  {
   "cell_type": "markdown",
   "id": "249c0d7d",
   "metadata": {},
   "source": [
    "# Reshape"
   ]
  },
  {
   "cell_type": "code",
   "execution_count": 41,
   "id": "71a3e984",
   "metadata": {},
   "outputs": [
    {
     "data": {
      "text/plain": [
       "array([1, 2, 3, 4, 5, 6, 7, 8])"
      ]
     },
     "execution_count": 41,
     "metadata": {},
     "output_type": "execute_result"
    }
   ],
   "source": [
    "arr = np.arange(1,9)\n",
    "arr"
   ]
  },
  {
   "cell_type": "code",
   "execution_count": 106,
   "id": "2f3579c4",
   "metadata": {},
   "outputs": [
    {
     "name": "stdout",
     "output_type": "stream",
     "text": [
      "[[1 2 3 4]\n",
      " [5 6 7 8]]\n",
      "2\n"
     ]
    }
   ],
   "source": [
    "x = arr.reshape(2,4)\n",
    "print(x)\n",
    "print(np.ndim(x))"
   ]
  },
  {
   "cell_type": "code",
   "execution_count": 107,
   "id": "5eddd04c",
   "metadata": {},
   "outputs": [
    {
     "name": "stdout",
     "output_type": "stream",
     "text": [
      "[[[1 2]\n",
      "  [3 4]]\n",
      "\n",
      " [[5 6]\n",
      "  [7 8]]]\n"
     ]
    }
   ],
   "source": [
    "y = x.reshape(2,2,2)\n",
    "print(y)"
   ]
  },
  {
   "cell_type": "code",
   "execution_count": 108,
   "id": "68f44c65",
   "metadata": {},
   "outputs": [
    {
     "name": "stdout",
     "output_type": "stream",
     "text": [
      "[1 2 3 4 5 6 7 8]\n",
      "1\n"
     ]
    }
   ],
   "source": [
    "one = y.reshape(-1)\n",
    "print(one)\n",
    "print(one.ndim)"
   ]
  },
  {
   "cell_type": "code",
   "execution_count": 109,
   "id": "8791c943",
   "metadata": {},
   "outputs": [
    {
     "name": "stdout",
     "output_type": "stream",
     "text": [
      "[1 2 3 4 5 6 7 8]\n"
     ]
    }
   ],
   "source": [
    "one_1 = x.flatten()\n",
    "print(one_1)"
   ]
  },
  {
   "cell_type": "code",
   "execution_count": 113,
   "id": "066f3b5a",
   "metadata": {},
   "outputs": [
    {
     "name": "stdout",
     "output_type": "stream",
     "text": [
      "[1 2 3 4 5 6 7 8]\n",
      "[1, 2, 3, 4, 5, 6, 7, 8]\n"
     ]
    }
   ],
   "source": [
    "one_2 = x.ravel()\n",
    "print(one_2)\n",
    "a =list(one_2)\n",
    "print(a)"
   ]
  },
  {
   "cell_type": "markdown",
   "id": "cb928683",
   "metadata": {},
   "source": [
    "# Random"
   ]
  },
  {
   "cell_type": "markdown",
   "id": "8afe775a",
   "metadata": {},
   "source": [
    "## Rand()\n",
    "Function is use to generate a random value between 0 and 1"
   ]
  },
  {
   "cell_type": "code",
   "execution_count": 55,
   "id": "a9db0580",
   "metadata": {},
   "outputs": [
    {
     "name": "stdout",
     "output_type": "stream",
     "text": [
      "[0.16269143 0.46255577 0.51601261 0.34149331]\n"
     ]
    }
   ],
   "source": [
    "a = np.random.rand(4)\n",
    "print(a)"
   ]
  },
  {
   "cell_type": "markdown",
   "id": "b684caac",
   "metadata": {},
   "source": [
    "## Randn()\n",
    "Function is to generate a random value close to zero. This may be return postive or negative value as well."
   ]
  },
  {
   "cell_type": "code",
   "execution_count": 66,
   "id": "e4f04c76",
   "metadata": {},
   "outputs": [
    {
     "data": {
      "text/plain": [
       "array([-1.72203955, -0.5792908 ,  0.53950009, -0.12826653,  0.41052996])"
      ]
     },
     "execution_count": 66,
     "metadata": {},
     "output_type": "execute_result"
    }
   ],
   "source": [
    "b = np.random.randn(5)\n",
    "b"
   ]
  },
  {
   "cell_type": "markdown",
   "id": "4be84418",
   "metadata": {},
   "source": [
    "## Ranf()\n",
    "Function for doing random sampling in numpy. It returns an array of specified shape and fills it with random floats in the half-open intervals [0.0,1.0)"
   ]
  },
  {
   "cell_type": "code",
   "execution_count": 67,
   "id": "d4cb9867",
   "metadata": {},
   "outputs": [
    {
     "name": "stdout",
     "output_type": "stream",
     "text": [
      "[0.55331174 0.18038567 0.13360794 0.62032648 0.96807861]\n"
     ]
    }
   ],
   "source": [
    "c = np.random.ranf(5)\n",
    "print(c)"
   ]
  },
  {
   "cell_type": "markdown",
   "id": "85db47d6",
   "metadata": {},
   "source": [
    "## Randint()\n",
    "Function is uesd to generate a random number between a given range."
   ]
  },
  {
   "cell_type": "code",
   "execution_count": 71,
   "id": "b8b1a38f",
   "metadata": {},
   "outputs": [
    {
     "name": "stdout",
     "output_type": "stream",
     "text": [
      "[3 3 3 1 3 1 1 3 3 3]\n"
     ]
    }
   ],
   "source": [
    "d = np.random.randint(1,4,10)\n",
    "print(d)"
   ]
  },
  {
   "cell_type": "markdown",
   "id": "b0fdef97",
   "metadata": {},
   "source": [
    "# DATATYPE"
   ]
  },
  {
   "cell_type": "code",
   "execution_count": 75,
   "id": "0ceae9d0",
   "metadata": {},
   "outputs": [
    {
     "name": "stdout",
     "output_type": "stream",
     "text": [
      "Data type:  float64\n"
     ]
    }
   ],
   "source": [
    "print(\"Data type: \",a.dtype)"
   ]
  },
  {
   "cell_type": "code",
   "execution_count": 77,
   "id": "c3204302",
   "metadata": {},
   "outputs": [
    {
     "name": "stdout",
     "output_type": "stream",
     "text": [
      "<U1\n"
     ]
    }
   ],
   "source": [
    "e = np.array([\"S\",\"A\",\"D\",\"G\",\"I\"])\n",
    "print(e.dtype)"
   ]
  },
  {
   "cell_type": "code",
   "execution_count": 78,
   "id": "a6db2ebe",
   "metadata": {},
   "outputs": [
    {
     "name": "stdout",
     "output_type": "stream",
     "text": [
      "<U21\n"
     ]
    }
   ],
   "source": [
    "f = np.array([\"S\",\"A\",\"D\",\"G\",\"I\",2,1,0,\"B\",\"T\",\"C\",\"S\",\"E\",\"A\",\"M\",0,2,0])\n",
    "print(f.dtype)"
   ]
  },
  {
   "cell_type": "code",
   "execution_count": 84,
   "id": "6aff39d4",
   "metadata": {},
   "outputs": [
    {
     "name": "stdout",
     "output_type": "stream",
     "text": [
      "float32\n",
      "[1. 2. 3. 4.]\n"
     ]
    }
   ],
   "source": [
    "#to convert one data into another\n",
    "x = np.array([1,2,3,4], dtype = \"f\")\n",
    "print(x.dtype)\n",
    "print(x)"
   ]
  },
  {
   "cell_type": "code",
   "execution_count": 87,
   "id": "25002a26",
   "metadata": {},
   "outputs": [
    {
     "name": "stdout",
     "output_type": "stream",
     "text": [
      "int8\n",
      "[1 2 3 4]\n"
     ]
    }
   ],
   "source": [
    "# to change the datatype\n",
    "y = np.array([1,2,3,4], dtype = np.int8)\n",
    "print(y.dtype)\n",
    "print(y)"
   ]
  },
  {
   "cell_type": "markdown",
   "id": "49bb52fe",
   "metadata": {},
   "source": [
    "## Changing datatype as a function"
   ]
  },
  {
   "cell_type": "code",
   "execution_count": 91,
   "id": "2d262c1c",
   "metadata": {},
   "outputs": [
    {
     "name": "stdout",
     "output_type": "stream",
     "text": [
      "int64\n",
      "[1 2 3 4]\n",
      "\n",
      "[1. 2. 3. 4.]\n",
      "float32\n"
     ]
    }
   ],
   "source": [
    "y1 = np.array([1,2,3,4])\n",
    "\n",
    "new = np.float32(y1)\n",
    "\n",
    "print(y1.dtype)\n",
    "print(y1)\n",
    "print()\n",
    "print(new)\n",
    "print(new.dtype)"
   ]
  },
  {
   "cell_type": "markdown",
   "id": "267a7950",
   "metadata": {},
   "source": [
    "## astype()"
   ]
  },
  {
   "cell_type": "code",
   "execution_count": 97,
   "id": "df52d48a",
   "metadata": {},
   "outputs": [
    {
     "name": "stdout",
     "output_type": "stream",
     "text": [
      "[1 2 3 4]\n",
      "[1. 2. 3. 4.]\n",
      "\n",
      "int64\n",
      "float64\n"
     ]
    }
   ],
   "source": [
    "x3 = np.array([1,2,3,4])\n",
    "new_1 = x3.astype(float)\n",
    "print(x3)\n",
    "print(new_1)\n",
    "print()\n",
    "print(x3.dtype)\n",
    "print(new_1.dtype)"
   ]
  },
  {
   "cell_type": "markdown",
   "id": "527e7c9f",
   "metadata": {},
   "source": [
    "# Arithmetic Operation"
   ]
  },
  {
   "cell_type": "code",
   "execution_count": 114,
   "id": "3bec809a",
   "metadata": {},
   "outputs": [
    {
     "name": "stdout",
     "output_type": "stream",
     "text": [
      "[4 5 6 7]\n"
     ]
    }
   ],
   "source": [
    "a = np.array([1,2,3,4])\n",
    "\n",
    "add = a+3\n",
    "print(add)"
   ]
  },
  {
   "cell_type": "code",
   "execution_count": 115,
   "id": "798a041f",
   "metadata": {},
   "outputs": [
    {
     "name": "stdout",
     "output_type": "stream",
     "text": [
      "[2 4 6 8]\n"
     ]
    }
   ],
   "source": [
    "a = np.array([1,2,3,4])\n",
    "b = np.array([1,2,3,4])\n",
    "add_1 = a+b\n",
    "print(add_1)"
   ]
  },
  {
   "cell_type": "code",
   "execution_count": 116,
   "id": "a28f858d",
   "metadata": {},
   "outputs": [
    {
     "name": "stdout",
     "output_type": "stream",
     "text": [
      "[0 0 0 0]\n"
     ]
    }
   ],
   "source": [
    "a = np.array([1,2,3,4])\n",
    "b = np.array([1,2,3,4])\n",
    "sub_1 = a-b\n",
    "print(sub_1)"
   ]
  },
  {
   "cell_type": "code",
   "execution_count": 117,
   "id": "0d3c4c39",
   "metadata": {},
   "outputs": [
    {
     "name": "stdout",
     "output_type": "stream",
     "text": [
      "[ 1  4  9 16]\n"
     ]
    }
   ],
   "source": [
    "a = np.array([1,2,3,4])\n",
    "b = np.array([1,2,3,4])\n",
    "mul_1 = a*b\n",
    "print(mul_1)"
   ]
  },
  {
   "cell_type": "code",
   "execution_count": 118,
   "id": "30158edc",
   "metadata": {},
   "outputs": [
    {
     "name": "stdout",
     "output_type": "stream",
     "text": [
      "[1. 1. 1. 1.]\n"
     ]
    }
   ],
   "source": [
    "a = np.array([1,2,3,4])\n",
    "b = np.array([1,2,3,4])\n",
    "div_1 = a/b\n",
    "print(div_1)"
   ]
  },
  {
   "cell_type": "code",
   "execution_count": 121,
   "id": "3bf44f9b",
   "metadata": {},
   "outputs": [
    {
     "name": "stdout",
     "output_type": "stream",
     "text": [
      "[0 0 1 0]\n"
     ]
    }
   ],
   "source": [
    "a = np.array([1,2,13,4])\n",
    "b = np.array([1,2,4,4])\n",
    "mod_1 = a%b\n",
    "print(mod_1)"
   ]
  },
  {
   "cell_type": "code",
   "execution_count": 130,
   "id": "80a3e85d",
   "metadata": {},
   "outputs": [
    {
     "name": "stdout",
     "output_type": "stream",
     "text": [
      "Minimum:  1\n",
      "Postion of min value:  0\n",
      "\n",
      "Maximum:  13\n",
      "Postion of max value:  2\n"
     ]
    }
   ],
   "source": [
    "print(\"Minimum: \",np.min(a))\n",
    "print(\"Postion of min value: \",np.argmin(a)) #position of min value\n",
    "print()\n",
    "print(\"Maximum: \",np.max(a))\n",
    "print(\"Postion of max value: \",np.argmax(a)) #position of max value"
   ]
  },
  {
   "cell_type": "code",
   "execution_count": 128,
   "id": "ab64cd5a",
   "metadata": {},
   "outputs": [
    {
     "name": "stdout",
     "output_type": "stream",
     "text": [
      "0\n",
      "\n",
      "[1.         1.41421356 3.60555128 2.        ]\n",
      "\n",
      "[ 0.84147098  0.90929743  0.42016704 -0.7568025 ]\n"
     ]
    }
   ],
   "source": [
    "print(np.sqrt(a))\n",
    "print()\n",
    "print(np.sin(a))"
   ]
  },
  {
   "cell_type": "code",
   "execution_count": 142,
   "id": "f3bac76a",
   "metadata": {},
   "outputs": [
    {
     "name": "stdout",
     "output_type": "stream",
     "text": [
      "Row-wise\n",
      "\n",
      "Maximum:  [3 9]\n",
      "Postion of max value:  [2 0]\n",
      "\n",
      "Maximum:  [1 5]\n",
      "Postion of min value:  [1 1]\n",
      "\n",
      "Columnwise\n",
      "\n",
      "Maximum:  [9 5 6]\n",
      "Postion of max value:  [1 1 1]\n",
      "\n",
      "Maximum:  [2 1 3]\n",
      "Postion of max value:  [0 0 0]\n"
     ]
    }
   ],
   "source": [
    "var1 = np.array([[2,1,3],[9,5,6]])\n",
    "print(\"Row-wise\")\n",
    "print()\n",
    "print(\"Maximum: \",np.max(var1,axis =1 ))\n",
    "print(\"Postion of max value: \",np.argmax(var1 ,axis =1))\n",
    "print()\n",
    "print(\"Maximum: \",np.min(var1,axis =1 ))\n",
    "print(\"Postion of min value: \",np.argmin(var1 ,axis =1))\n",
    "print()\n",
    "print(\"Columnwise\")\n",
    "print()\n",
    "print(\"Maximum: \",np.max(var1,axis =0 ))\n",
    "print(\"Postion of max value: \",np.argmax(var1 ,axis =0))\n",
    "print()\n",
    "print(\"Maximum: \",np.min(var1,axis =0))\n",
    "print(\"Postion of max value: \",np.argmin(var1 ,axis =0))\n"
   ]
  },
  {
   "cell_type": "code",
   "execution_count": 143,
   "id": "25c25d81",
   "metadata": {},
   "outputs": [
    {
     "name": "stdout",
     "output_type": "stream",
     "text": [
      "[ 2  3  6 15 20 26]\n"
     ]
    }
   ],
   "source": [
    "print(np.cumsum(var1))"
   ]
  },
  {
   "cell_type": "markdown",
   "id": "93f5ea74",
   "metadata": {},
   "source": [
    "# Broadcasting error\n"
   ]
  },
  {
   "cell_type": "markdown",
   "id": "ded8dfc1",
   "metadata": {},
   "source": [
    "# indexing\n"
   ]
  },
  {
   "cell_type": "code",
   "execution_count": 144,
   "id": "c329d0c4",
   "metadata": {},
   "outputs": [
    {
     "name": "stdout",
     "output_type": "stream",
     "text": [
      "9 6\n"
     ]
    }
   ],
   "source": [
    "var = np.array([9,8,7,6])\n",
    "print(var[0],var[-1])"
   ]
  },
  {
   "cell_type": "code",
   "execution_count": 149,
   "id": "0225189d",
   "metadata": {},
   "outputs": [
    {
     "name": "stdout",
     "output_type": "stream",
     "text": [
      "4\n",
      "3\n"
     ]
    }
   ],
   "source": [
    "var_2 = np.array([[9,8,7,4],[0,1,3,4]])\n",
    "print(var_2[0][-1])\n",
    "print(var_2[1][-2])"
   ]
  },
  {
   "cell_type": "code",
   "execution_count": 152,
   "id": "71add30a",
   "metadata": {},
   "outputs": [
    {
     "name": "stdout",
     "output_type": "stream",
     "text": [
      "4\n"
     ]
    }
   ],
   "source": [
    "var_3 = np.array([[[1,2,3],[3,4,5]],[[1,3,2],[0,3,1]]])\n",
    "print(var_3[0][1][1])"
   ]
  },
  {
   "cell_type": "markdown",
   "id": "b493974a",
   "metadata": {},
   "source": [
    "# Slicing Numpy Arrays"
   ]
  },
  {
   "cell_type": "code",
   "execution_count": 153,
   "id": "cc3f8673",
   "metadata": {},
   "outputs": [
    {
     "name": "stdout",
     "output_type": "stream",
     "text": [
      "[1 2 3 4 5 6 7]\n",
      "\n",
      "[2 3 4 5]\n"
     ]
    }
   ],
   "source": [
    "var = np.array([1,2,3,4,5,6,7])\n",
    "print(var)\n",
    "print()\n",
    "print(var[1:5])"
   ]
  },
  {
   "cell_type": "code",
   "execution_count": 156,
   "id": "297223d2",
   "metadata": {},
   "outputs": [
    {
     "name": "stdout",
     "output_type": "stream",
     "text": [
      "[1 3 5]\n"
     ]
    }
   ],
   "source": [
    "print(var[:5:2])"
   ]
  },
  {
   "cell_type": "code",
   "execution_count": 157,
   "id": "7e55e927",
   "metadata": {},
   "outputs": [
    {
     "name": "stdout",
     "output_type": "stream",
     "text": [
      "[7 4]\n"
     ]
    }
   ],
   "source": [
    "var_2 = np.array([[9,8,7,4],[0,1,3,4]])\n",
    "print(var_2[0,2:])"
   ]
  },
  {
   "cell_type": "code",
   "execution_count": 158,
   "id": "2542d01c",
   "metadata": {},
   "outputs": [
    {
     "name": "stdout",
     "output_type": "stream",
     "text": [
      "[4 5]\n"
     ]
    }
   ],
   "source": [
    "var_3 = np.array([[[1,2,3],[3,4,5]],[[1,3,2],[0,3,1]]])\n",
    "print(var_3[0,1,1:])"
   ]
  },
  {
   "cell_type": "markdown",
   "id": "593d4519",
   "metadata": {},
   "source": [
    "# Iteration"
   ]
  },
  {
   "cell_type": "code",
   "execution_count": 12,
   "id": "69b49b03",
   "metadata": {},
   "outputs": [
    {
     "name": "stdout",
     "output_type": "stream",
     "text": [
      "[9 8 7 6 5 4]\n",
      "\n",
      "9 8 7 6 5 4 "
     ]
    }
   ],
   "source": [
    "var = np.array([9,8,7,6,5,4])\n",
    "print(var)\n",
    "print()\n",
    "for i in var:\n",
    "    print(i,end =\" \")"
   ]
  },
  {
   "cell_type": "code",
   "execution_count": 167,
   "id": "0081413a",
   "metadata": {},
   "outputs": [
    {
     "name": "stdout",
     "output_type": "stream",
     "text": [
      "[[1 2 3 4]\n",
      " [1 2 3 4]]\n",
      "\n",
      "[1 2 3 4] [1 2 3 4] \n",
      "\n",
      "1 2 3 4 1 2 3 4 "
     ]
    }
   ],
   "source": [
    "var_1 = np.array([[1,2,3,4],[1,2,3,4]])\n",
    "print(var_1)\n",
    "print()\n",
    "\n",
    "for j in var_1:\n",
    "    print(j,end=\" \")\n",
    "    \n",
    "print()\n",
    "print()\n",
    "\n",
    "for k in var_1:\n",
    "    for l in k:\n",
    "        print(l,end = \" \")"
   ]
  },
  {
   "cell_type": "code",
   "execution_count": 13,
   "id": "531cce76",
   "metadata": {},
   "outputs": [
    {
     "name": "stdout",
     "output_type": "stream",
     "text": [
      "[[[1 2 3 4]\n",
      "  [5 6 7 8]]]\n",
      "(1, 2, 4)\n",
      "\n",
      "1 2 3 4 5 6 7 8 "
     ]
    }
   ],
   "source": [
    "var_3 = np.array([[[1,2,3,4],[5,6,7,8]]])\n",
    "print(var_3)\n",
    "print(var_3.shape)\n",
    "print()\n",
    "\n",
    "for i in var_3:\n",
    "    for j in i:\n",
    "        for k in j :\n",
    "            print(k, end= \" \")"
   ]
  },
  {
   "cell_type": "markdown",
   "id": "4e65bed0",
   "metadata": {},
   "source": [
    "# nditer()"
   ]
  },
  {
   "cell_type": "code",
   "execution_count": 16,
   "id": "79ec06f7",
   "metadata": {},
   "outputs": [
    {
     "name": "stdout",
     "output_type": "stream",
     "text": [
      "1 2 3 4 5 6 7 8 "
     ]
    }
   ],
   "source": [
    "for i in np.nditer(var_3):#,flags = ['buffered'],op_dtypes = [\"S\"]\n",
    "    print(i,end=\" \")"
   ]
  },
  {
   "cell_type": "code",
   "execution_count": 7,
   "id": "5da6d760",
   "metadata": {},
   "outputs": [
    {
     "name": "stdout",
     "output_type": "stream",
     "text": [
      "(0, 0, 0) 1\n",
      "(0, 0, 1) 2\n",
      "(0, 0, 2) 3\n",
      "(0, 0, 3) 4\n",
      "(0, 1, 0) 5\n",
      "(0, 1, 1) 6\n",
      "(0, 1, 2) 7\n",
      "(0, 1, 3) 8\n"
     ]
    }
   ],
   "source": [
    "for i,d in np.ndenumerate(var_3):\n",
    "    print(i,d)"
   ]
  },
  {
   "cell_type": "markdown",
   "id": "4ae2403c",
   "metadata": {},
   "source": [
    "# Copy Vs View"
   ]
  },
  {
   "cell_type": "code",
   "execution_count": 188,
   "id": "cf9b4baf",
   "metadata": {},
   "outputs": [
    {
     "name": "stdout",
     "output_type": "stream",
     "text": [
      "[1 2 0 4]\n",
      "[1 2 3 4]\n"
     ]
    }
   ],
   "source": [
    "var = np.array([1,2,3,4])\n",
    "\n",
    "co = var.copy()\n",
    "\n",
    "var[2] = 0\n",
    "\n",
    "print(var)\n",
    "print(co)"
   ]
  },
  {
   "cell_type": "code",
   "execution_count": 186,
   "id": "bb8cf7d0",
   "metadata": {},
   "outputs": [
    {
     "name": "stdout",
     "output_type": "stream",
     "text": [
      "[9 8 4 6 5]\n",
      "[9 8 4 6 5]\n"
     ]
    }
   ],
   "source": [
    "x = np.array([9,8,7,6,5])\n",
    "\n",
    "vi = x.view()\n",
    "\n",
    "x[2] = 4\n",
    "\n",
    "print(x)\n",
    "print(vi)"
   ]
  },
  {
   "cell_type": "markdown",
   "id": "31523a94",
   "metadata": {},
   "source": [
    "# Join and Split Function"
   ]
  },
  {
   "cell_type": "code",
   "execution_count": 194,
   "id": "32f2c010",
   "metadata": {},
   "outputs": [
    {
     "name": "stdout",
     "output_type": "stream",
     "text": [
      "[1 2 3 4 5 6 7 8]\n"
     ]
    }
   ],
   "source": [
    "a1 = np.array([1,2,3,4])\n",
    "a2 = np.array([5,6,7,8])\n",
    "\n",
    "a3 = np.concatenate((a1,a2))\n",
    "print(a3)"
   ]
  },
  {
   "cell_type": "code",
   "execution_count": 199,
   "id": "391cc7c8",
   "metadata": {},
   "outputs": [
    {
     "name": "stdout",
     "output_type": "stream",
     "text": [
      "[[1 2 3 4 5 6 7 8]\n",
      " [0 0 0 0 0 0 0 0]]\n",
      "\n",
      "[[1 2 3 4]\n",
      " [0 0 0 0]\n",
      " [5 6 7 8]\n",
      " [0 0 0 0]]\n"
     ]
    }
   ],
   "source": [
    "b1 = np.array([[1,2,3,4],[0,0,0,0]])\n",
    "b2 = np.array([[5,6,7,8],[0,0,0,0]])\n",
    "\n",
    "b3 = np.concatenate((b1,b2),axis = 1)\n",
    "print(b3)\n",
    "\n",
    "print()\n",
    "\n",
    "b4 = np.concatenate((b1,b2),axis = 0)\n",
    "print(b4)"
   ]
  },
  {
   "cell_type": "code",
   "execution_count": 208,
   "id": "cc7592b1",
   "metadata": {},
   "outputs": [
    {
     "name": "stdout",
     "output_type": "stream",
     "text": [
      "[[1 5]\n",
      " [2 6]\n",
      " [3 7]\n",
      " [4 8]]\n",
      "\n",
      "[[1 2 3 4]\n",
      " [5 6 7 8]]\n",
      "\n",
      "[1 2 3 4 5 6 7 8]\n",
      "\n",
      "[[1 2 3 4]\n",
      " [5 6 7 8]]\n",
      "\n",
      "[[[1 5]\n",
      "  [2 6]\n",
      "  [3 7]\n",
      "  [4 8]]]\n"
     ]
    }
   ],
   "source": [
    "b1 = np.array([1,2,3,4])\n",
    "b2 = np.array([5,6,7,8])\n",
    "\n",
    "b3 = np.stack((b1,b2),axis = 1)\n",
    "print(b3)\n",
    "\n",
    "print()\n",
    "\n",
    "b4 = np.stack((b1,b2),axis = 0)\n",
    "print(b4)\n",
    "\n",
    "print() \n",
    "b5 = np.hstack((b1,b2)) # row\n",
    "print(b5)\n",
    "\n",
    "print()\n",
    "\n",
    "b6 = np.vstack((b1,b2))#columns\n",
    "print(b6)\n",
    "\n",
    "print() \n",
    "\n",
    "b7 = np.dstack((b1,b2))#height\n",
    "print(b7)"
   ]
  },
  {
   "cell_type": "markdown",
   "id": "f1cd4d52",
   "metadata": {},
   "source": [
    "### Split"
   ]
  },
  {
   "cell_type": "code",
   "execution_count": 216,
   "id": "8136b33f",
   "metadata": {},
   "outputs": [
    {
     "name": "stdout",
     "output_type": "stream",
     "text": [
      "[1 2 3 4 5 4 2 4 5]\n",
      "\n",
      "[array([1, 2, 3]), array([4, 5]), array([4, 2]), array([4, 5])]\n",
      "\n",
      "[1 2 3]\n"
     ]
    }
   ],
   "source": [
    "s1 = np.array([1,2,3,4,5,4,2,4,5])\n",
    "print(s1)\n",
    "\n",
    "ar = np.array_split(s1,4)\n",
    "print() \n",
    "print(ar)\n",
    "\n",
    "\n",
    "print()\n",
    "print(ar[0])"
   ]
  },
  {
   "cell_type": "code",
   "execution_count": 220,
   "id": "584fbab1",
   "metadata": {},
   "outputs": [
    {
     "name": "stdout",
     "output_type": "stream",
     "text": [
      "[[1 2 3 4]\n",
      " [5 4 2 5]]\n",
      "\n",
      "[array([[1, 2, 3, 4]]), array([[5, 4, 2, 5]])]\n",
      "\n",
      "[[1 2 3 4]]\n"
     ]
    }
   ],
   "source": [
    "s2 = np.array([[1,2,3,4],[5,4,2,5]])\n",
    "print(s2)\n",
    "\n",
    "ar1 = np.array_split(s2,2)\n",
    "print() \n",
    "print(ar1)\n",
    "\n",
    "\n",
    "print()\n",
    "print(ar1[0])"
   ]
  },
  {
   "cell_type": "code",
   "execution_count": 223,
   "id": "fdd8d6b1",
   "metadata": {},
   "outputs": [
    {
     "name": "stdout",
     "output_type": "stream",
     "text": [
      "[array([[1],\n",
      "       [5]]), array([[2],\n",
      "       [4]]), array([[3],\n",
      "       [2]]), array([[4],\n",
      "       [5]])]\n"
     ]
    }
   ],
   "source": [
    "# split along axis\n",
    "\n",
    "ar2 = np.array_split(s2,4,axis =1)\n",
    "print(ar2)"
   ]
  },
  {
   "cell_type": "markdown",
   "id": "f3f96444",
   "metadata": {},
   "source": [
    "# Search"
   ]
  },
  {
   "cell_type": "code",
   "execution_count": 227,
   "id": "6794a443",
   "metadata": {},
   "outputs": [
    {
     "name": "stdout",
     "output_type": "stream",
     "text": [
      "(array([1, 3, 5, 7, 8]),)\n"
     ]
    }
   ],
   "source": [
    "a = np.array([1,2,3,4,5,6,7,2,6,7])\n",
    "\n",
    "b = np.where( a%2 == 0)\n",
    "\n",
    "print(b)"
   ]
  },
  {
   "cell_type": "markdown",
   "id": "c1f482a3",
   "metadata": {},
   "source": [
    "# SEARCH SORTED ARRAY"
   ]
  },
  {
   "cell_type": "code",
   "execution_count": 233,
   "id": "ac17818a",
   "metadata": {},
   "outputs": [
    {
     "name": "stdout",
     "output_type": "stream",
     "text": [
      "[5 6 8]\n",
      "[ 1  2  3  4  5  6  7  7  9 10 11]\n"
     ]
    }
   ],
   "source": [
    "a1 = np.array([1,2,3,4,5,6,7,7,9,10,11]) #ARRAY SHOULD BE SORTED\n",
    "#              0,1,2,3,4,5,6,7\n",
    "\n",
    "b1 = np.searchsorted( a1, [5,6,7] , side  = \"right\")\n",
    "\n",
    "print(b1)\n",
    "print(a1)"
   ]
  },
  {
   "cell_type": "markdown",
   "id": "9e0ca90a",
   "metadata": {},
   "source": [
    "# Sort Array"
   ]
  },
  {
   "cell_type": "code",
   "execution_count": 240,
   "id": "57dc077b",
   "metadata": {},
   "outputs": [
    {
     "name": "stdout",
     "output_type": "stream",
     "text": [
      "[ 2  4  5  6  7 12 31]\n"
     ]
    }
   ],
   "source": [
    "c = np.array([4,2,31,12,5,6,7])\n",
    "\n",
    "c =  np.sort(c)\n",
    "\n",
    "print(c)"
   ]
  },
  {
   "cell_type": "code",
   "execution_count": 241,
   "id": "fd6748cd",
   "metadata": {},
   "outputs": [
    {
     "name": "stdout",
     "output_type": "stream",
     "text": [
      "['A' 'D' 'G' 'a' 'd' 's']\n"
     ]
    }
   ],
   "source": [
    "d = np.array([\"a\",\"A\",\"s\",\"d\",\"D\",\"G\"])\n",
    "\n",
    "d =  np.sort(d)\n",
    "\n",
    "print(d)"
   ]
  },
  {
   "cell_type": "code",
   "execution_count": 243,
   "id": "61bba0c9",
   "metadata": {},
   "outputs": [
    {
     "name": "stdout",
     "output_type": "stream",
     "text": [
      "[[ 2  4 31]\n",
      " [ 7 12 56]]\n"
     ]
    }
   ],
   "source": [
    "e = np.array([[4,2,31],[12,56,7]])\n",
    "print(np.sort(e))"
   ]
  },
  {
   "cell_type": "markdown",
   "id": "85db6e1c",
   "metadata": {},
   "source": [
    "# Filter Function"
   ]
  },
  {
   "cell_type": "code",
   "execution_count": 245,
   "id": "d83826d8",
   "metadata": {},
   "outputs": [
    {
     "name": "stdout",
     "output_type": "stream",
     "text": [
      "['a' 'f']\n"
     ]
    }
   ],
   "source": [
    "f = np.array([\"a\",\"s\",\"d\",\"f\"])\n",
    "\n",
    "f1 = [True,False,False,True]\n",
    "\n",
    "f2 = f[f1]\n",
    "\n",
    "print(f2)"
   ]
  },
  {
   "cell_type": "markdown",
   "id": "62dbf6de",
   "metadata": {},
   "source": [
    "# Shuffle()"
   ]
  },
  {
   "cell_type": "code",
   "execution_count": 251,
   "id": "f78ec6a8",
   "metadata": {},
   "outputs": [
    {
     "name": "stdout",
     "output_type": "stream",
     "text": [
      "[2 4 1 3 5]\n"
     ]
    }
   ],
   "source": [
    "S = np.array([1,2,3,4,5])\n",
    "\n",
    "np.random.shuffle(S)\n",
    "\n",
    "print(S)"
   ]
  },
  {
   "cell_type": "markdown",
   "id": "5665c09a",
   "metadata": {},
   "source": [
    "# Unique()"
   ]
  },
  {
   "cell_type": "code",
   "execution_count": 256,
   "id": "02208c62",
   "metadata": {},
   "outputs": [
    {
     "name": "stdout",
     "output_type": "stream",
     "text": [
      "(array([1, 2, 3, 4]), array([0, 1, 2, 3]), array([4, 4, 4, 1]))\n"
     ]
    }
   ],
   "source": [
    "U = np.array([1,2,3,4,1,2,3,1,2,3,1,2,3])\n",
    "\n",
    "U1 = np.unique(U,return_index = True, return_counts = True)\n",
    "\n",
    "print(U1)"
   ]
  },
  {
   "cell_type": "markdown",
   "id": "9c983bb4",
   "metadata": {},
   "source": [
    "# Resize()"
   ]
  },
  {
   "cell_type": "code",
   "execution_count": 259,
   "id": "21bc3c76",
   "metadata": {},
   "outputs": [
    {
     "name": "stdout",
     "output_type": "stream",
     "text": [
      "[[1 2 3]\n",
      " [4 5 6]]\n",
      "[[1 2 3]\n",
      " [4 5 6]]\n"
     ]
    }
   ],
   "source": [
    "R = np.array([1,2,3,4,5,6])\n",
    "\n",
    "R1 = np.resize(R,(2,3))\n",
    "\n",
    "print(R1)\n",
    "print()\n",
    "\n",
    "R2 = R.reshape(2,3)\n",
    "print(R2)"
   ]
  },
  {
   "cell_type": "code",
   "execution_count": 260,
   "id": "b896ab92",
   "metadata": {},
   "outputs": [
    {
     "name": "stdout",
     "output_type": "stream",
     "text": [
      "[[1 2]\n",
      " [3 4]\n",
      " [5 6]]\n",
      "\n"
     ]
    }
   ],
   "source": [
    "R1 = np.resize(R,(3,2))\n",
    "\n",
    "print(R1)"
   ]
  },
  {
   "cell_type": "markdown",
   "id": "1bc1ae47",
   "metadata": {},
   "source": [
    "# Flatten()"
   ]
  },
  {
   "cell_type": "code",
   "execution_count": 264,
   "id": "f3b52b3c",
   "metadata": {},
   "outputs": [
    {
     "name": "stdout",
     "output_type": "stream",
     "text": [
      "[1 2 3 4 5 6]\n",
      "[1 2 3 4 5 6]\n",
      "[1 3 5 2 4 6]\n",
      "[1 2 3 4 5 6]\n"
     ]
    }
   ],
   "source": [
    "R3 = R1.flatten(order = \"A\")\n",
    "\n",
    "print(R3)\n",
    "\n",
    "R3 = R1.flatten(order = \"C\")\n",
    "\n",
    "print(R3)\n",
    "\n",
    "R3 = R1.flatten(order = \"F\")\n",
    "\n",
    "print(R3)\n",
    "\n",
    "R3 = R1.flatten(order = \"K\")\n",
    "\n",
    "print(R3)\n"
   ]
  },
  {
   "cell_type": "markdown",
   "id": "9ca596c1",
   "metadata": {},
   "source": [
    "# Ravel ()"
   ]
  },
  {
   "cell_type": "code",
   "execution_count": 267,
   "id": "fda3cb6b",
   "metadata": {},
   "outputs": [
    {
     "name": "stdout",
     "output_type": "stream",
     "text": [
      "[1 2 3 4 5 6]\n"
     ]
    }
   ],
   "source": [
    "print(np.ravel(R1, order = \"A\"))"
   ]
  },
  {
   "cell_type": "markdown",
   "id": "1422e796",
   "metadata": {},
   "source": [
    "# Insert and Delete"
   ]
  },
  {
   "cell_type": "code",
   "execution_count": 276,
   "id": "ef7c11c5",
   "metadata": {},
   "outputs": [
    {
     "name": "stdout",
     "output_type": "stream",
     "text": [
      "[1 2 3 4 5 6 7 8]\n",
      "<class 'numpy.ndarray'>\n",
      "[ 1  2  3  4  5  6  7  8  9 10]\n"
     ]
    }
   ],
   "source": [
    "i = np.array([1,2,3,4,5,6,7,8])\n",
    "\n",
    "print(i)\n",
    "print(type(i))\n",
    "\n",
    "i1 = np.insert(i , 8 , [9,10])\n",
    "\n",
    "print(i1)"
   ]
  },
  {
   "cell_type": "code",
   "execution_count": 282,
   "id": "acfba601",
   "metadata": {},
   "outputs": [
    {
     "name": "stdout",
     "output_type": "stream",
     "text": [
      "[[1 2 6 3]\n",
      " [1 2 6 3]]\n",
      "\n",
      "[[1 2 3]\n",
      " [1 2 3]\n",
      " [6 6 6]]\n"
     ]
    }
   ],
   "source": [
    "var1 = np.array([[1,2,3],[1,2,3]])\n",
    "\n",
    "v1 = np.insert(var1 , 2 , 6,axis = 1)\n",
    "\n",
    "print(v1)\n",
    "\n",
    "print()\n",
    "\n",
    "v1 = np.insert(var1 , 2 , 6,axis = 0)\n",
    "\n",
    "print(v1)"
   ]
  },
  {
   "cell_type": "code",
   "execution_count": 284,
   "id": "fa2bb1b5",
   "metadata": {},
   "outputs": [
    {
     "name": "stdout",
     "output_type": "stream",
     "text": [
      "[1 2 3 4 5 6 7 8]\n",
      "<class 'numpy.ndarray'>\n",
      "[1.  2.  3.  4.  5.  6.  7.  8.  6.5]\n"
     ]
    }
   ],
   "source": [
    "i = np.array([1,2,3,4,5,6,7,8])\n",
    "\n",
    "print(i)\n",
    "print(type(i))\n",
    "\n",
    "i1 = np.append(i,6.5)\n",
    "\n",
    "print(i1)"
   ]
  },
  {
   "cell_type": "code",
   "execution_count": 298,
   "id": "48a5b3ba",
   "metadata": {},
   "outputs": [
    {
     "name": "stdout",
     "output_type": "stream",
     "text": [
      "\n",
      "[[1 2 3]\n",
      " [1 2 3]\n",
      " [0 0 0]]\n"
     ]
    }
   ],
   "source": [
    "var2 = np.array([[1,2,3],[1,2,3]])\n",
    "\n",
    "# v1 = np.append(var2,[[0,0]],axis = 1)\n",
    "\n",
    "# print(v1)\n",
    "\n",
    "print()\n",
    "\n",
    "v1 = np.append(var2,[[0,0,0]],axis = 0)\n",
    "\n",
    "print(v1)"
   ]
  },
  {
   "cell_type": "code",
   "execution_count": 299,
   "id": "4233a83e",
   "metadata": {},
   "outputs": [
    {
     "name": "stdout",
     "output_type": "stream",
     "text": [
      "[1 2 3 4 5 6 7 8]\n",
      "<class 'numpy.ndarray'>\n",
      "[1 2 4 5 6 7 8]\n"
     ]
    }
   ],
   "source": [
    "d = np.array([1,2,3,4,5,6,7,8])\n",
    "\n",
    "print(d)\n",
    "print(type(d))\n",
    "\n",
    "d1 = np.delete(d , 2 )\n",
    "\n",
    "print(d1)"
   ]
  },
  {
   "cell_type": "markdown",
   "id": "b8d2e467",
   "metadata": {},
   "source": [
    "# Matrix in Numpy Array"
   ]
  },
  {
   "cell_type": "code",
   "execution_count": 301,
   "id": "f90d4d3f",
   "metadata": {},
   "outputs": [
    {
     "name": "stdout",
     "output_type": "stream",
     "text": [
      "[[1 2 3]\n",
      " [1 2 3]]\n",
      "<class 'numpy.matrix'>\n",
      "\n",
      "[[1 2 3]\n",
      " [1 2 3]]\n",
      "<class 'numpy.ndarray'>\n"
     ]
    }
   ],
   "source": [
    "var1 = np.matrix([[1,2,3],[1,2,3]])\n",
    "print(var1)\n",
    "print(type(var1))\n",
    "\n",
    "print()\n",
    "\n",
    "arr =  np.array([[1,2,3],[1,2,3]])\n",
    "print(arr)\n",
    "print(type(arr))"
   ]
  },
  {
   "cell_type": "code",
   "execution_count": 307,
   "id": "d530209e",
   "metadata": {},
   "outputs": [
    {
     "ename": "ValueError",
     "evalue": "shapes (2,3) and (2,3) not aligned: 3 (dim 1) != 2 (dim 0)",
     "output_type": "error",
     "traceback": [
      "\u001b[0;31m---------------------------------------------------------------------------\u001b[0m",
      "\u001b[0;31mValueError\u001b[0m                                Traceback (most recent call last)",
      "Input \u001b[0;32mIn [307]\u001b[0m, in \u001b[0;36m<cell line: 3>\u001b[0;34m()\u001b[0m\n\u001b[1;32m      1\u001b[0m m1 \u001b[38;5;241m=\u001b[39m np\u001b[38;5;241m.\u001b[39mmatrix([[\u001b[38;5;241m1\u001b[39m,\u001b[38;5;241m2\u001b[39m,\u001b[38;5;241m3\u001b[39m],[\u001b[38;5;241m1\u001b[39m,\u001b[38;5;241m2\u001b[39m,\u001b[38;5;241m3\u001b[39m]])\n\u001b[1;32m      2\u001b[0m m2 \u001b[38;5;241m=\u001b[39m np\u001b[38;5;241m.\u001b[39mmatrix([[\u001b[38;5;241m1\u001b[39m,\u001b[38;5;241m2\u001b[39m,\u001b[38;5;241m3\u001b[39m],[\u001b[38;5;241m1\u001b[39m,\u001b[38;5;241m2\u001b[39m,\u001b[38;5;241m3\u001b[39m]])\n\u001b[0;32m----> 3\u001b[0m \u001b[38;5;28mprint\u001b[39m(\u001b[43mm1\u001b[49m\u001b[38;5;241;43m.\u001b[39;49m\u001b[43mdot\u001b[49m\u001b[43m(\u001b[49m\u001b[43mm2\u001b[49m\u001b[43m)\u001b[49m)\n",
      "\u001b[0;31mValueError\u001b[0m: shapes (2,3) and (2,3) not aligned: 3 (dim 1) != 2 (dim 0)"
     ]
    }
   ],
   "source": [
    "m1 = np.matrix([[1,2,3],[1,2,3]])\n",
    "m2 = np.matrix([[1,2,3],[1,2,3]])\n",
    "print(m1.dot(m2))"
   ]
  },
  {
   "cell_type": "markdown",
   "id": "80a7d15b",
   "metadata": {},
   "source": [
    "# Matrix Function"
   ]
  },
  {
   "cell_type": "markdown",
   "id": "c72a4bfd",
   "metadata": {},
   "source": [
    "# Transpose()"
   ]
  },
  {
   "cell_type": "code",
   "execution_count": 314,
   "id": "7a7b5d75",
   "metadata": {},
   "outputs": [
    {
     "name": "stdout",
     "output_type": "stream",
     "text": [
      "[[1 2 3]\n",
      " [4 5 6]]\n",
      "\n",
      "[[1 4]\n",
      " [2 5]\n",
      " [3 6]]\n",
      "\n",
      "[[1 4]\n",
      " [2 5]\n",
      " [3 6]]\n"
     ]
    }
   ],
   "source": [
    "T = np.matrix([[1,2,3],[4,5,6]])\n",
    "\n",
    "print(T)\n",
    "\n",
    "print()\n",
    "\n",
    "print(np.transpose(T))\n",
    "\n",
    "print()\n",
    "\n",
    "print(T.T)"
   ]
  },
  {
   "cell_type": "markdown",
   "id": "cf85702f",
   "metadata": {},
   "source": [
    "# Swapaxes()"
   ]
  },
  {
   "cell_type": "code",
   "execution_count": 317,
   "id": "e0bcac2d",
   "metadata": {},
   "outputs": [
    {
     "name": "stdout",
     "output_type": "stream",
     "text": [
      "[[1 4 7]\n",
      " [2 5 8]\n",
      " [3 6 9]]\n",
      "\n",
      "[[1 4 7]\n",
      " [2 5 8]\n",
      " [3 6 9]]\n"
     ]
    }
   ],
   "source": [
    "S = np.matrix([[1,2,3],[4,5,6],[7,8,9]])\n",
    "\n",
    "print(np.swapaxes(S, 0 ,1))\n",
    "\n",
    "print()\n",
    "\n",
    "print(np.swapaxes(S, 1 ,0))"
   ]
  },
  {
   "cell_type": "markdown",
   "id": "6fec2927",
   "metadata": {},
   "source": [
    "# Inverse()"
   ]
  },
  {
   "cell_type": "code",
   "execution_count": 320,
   "id": "19e2e51d",
   "metadata": {},
   "outputs": [
    {
     "name": "stdout",
     "output_type": "stream",
     "text": [
      "[[-2.   1. ]\n",
      " [ 1.5 -0.5]]\n"
     ]
    }
   ],
   "source": [
    "I = np.matrix([[1,2],[3,4]])\n",
    "print(np.linalg.inv(I))"
   ]
  },
  {
   "cell_type": "markdown",
   "id": "c01d4bff",
   "metadata": {},
   "source": [
    "# Power()"
   ]
  },
  {
   "cell_type": "code",
   "execution_count": 326,
   "id": "d9276c74",
   "metadata": {},
   "outputs": [
    {
     "name": "stdout",
     "output_type": "stream",
     "text": [
      "[[ 7 10]\n",
      " [15 22]]\n"
     ]
    }
   ],
   "source": [
    "I = np.matrix([[1,2],[3,4]])\n",
    "print(np.linalg.matrix_power(I,2))"
   ]
  },
  {
   "cell_type": "markdown",
   "id": "f7799e20",
   "metadata": {},
   "source": [
    "# Determinate()"
   ]
  },
  {
   "cell_type": "code",
   "execution_count": 329,
   "id": "a05ebc55",
   "metadata": {},
   "outputs": [
    {
     "name": "stdout",
     "output_type": "stream",
     "text": [
      "0.0\n"
     ]
    }
   ],
   "source": [
    "d = np.matrix([[1,2,3],[3,4,3],[1,2,3]])\n",
    "print(np.linalg.det(d))"
   ]
  },
  {
   "cell_type": "code",
   "execution_count": 5,
   "id": "9a53f0b1",
   "metadata": {},
   "outputs": [],
   "source": [
    "aar = np.array([[10.5,22.,np.nan],[41,52.5,np.nan]])"
   ]
  },
  {
   "cell_type": "code",
   "execution_count": 6,
   "id": "a8d49df2",
   "metadata": {},
   "outputs": [
    {
     "data": {
      "text/plain": [
       "array([[10.5, 22. ,  nan],\n",
       "       [41. , 52.5,  nan]])"
      ]
     },
     "execution_count": 6,
     "metadata": {},
     "output_type": "execute_result"
    }
   ],
   "source": [
    "aar\n"
   ]
  },
  {
   "cell_type": "code",
   "execution_count": 8,
   "id": "4902c5f2",
   "metadata": {},
   "outputs": [],
   "source": [
    "remove = aar[~np.isnan(aar)]"
   ]
  },
  {
   "cell_type": "code",
   "execution_count": 9,
   "id": "67bdeec8",
   "metadata": {},
   "outputs": [
    {
     "data": {
      "text/plain": [
       "array([[10.5, 22. ,  nan],\n",
       "       [41. , 52.5,  nan]])"
      ]
     },
     "execution_count": 9,
     "metadata": {},
     "output_type": "execute_result"
    }
   ],
   "source": [
    "aar"
   ]
  },
  {
   "cell_type": "code",
   "execution_count": 10,
   "id": "d3f35e34",
   "metadata": {},
   "outputs": [
    {
     "data": {
      "text/plain": [
       "array([10.5, 22. , 41. , 52.5])"
      ]
     },
     "execution_count": 10,
     "metadata": {},
     "output_type": "execute_result"
    }
   ],
   "source": [
    "remove"
   ]
  },
  {
   "cell_type": "code",
   "execution_count": null,
   "id": "b59207f1",
   "metadata": {},
   "outputs": [],
   "source": []
  }
 ],
 "metadata": {
  "kernelspec": {
   "display_name": "Python 3 (ipykernel)",
   "language": "python",
   "name": "python3"
  },
  "language_info": {
   "codemirror_mode": {
    "name": "ipython",
    "version": 3
   },
   "file_extension": ".py",
   "mimetype": "text/x-python",
   "name": "python",
   "nbconvert_exporter": "python",
   "pygments_lexer": "ipython3",
   "version": "3.9.12"
  }
 },
 "nbformat": 4,
 "nbformat_minor": 5
}
