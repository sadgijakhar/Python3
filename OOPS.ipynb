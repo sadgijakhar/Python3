{
 "cells": [
  {
   "cell_type": "code",
   "execution_count": 9,
   "id": "13e39dd0",
   "metadata": {},
   "outputs": [
    {
     "name": "stdout",
     "output_type": "stream",
     "text": [
      "15 , 16gb , 1TB\n",
      "15 , 16gb , 1TB\n",
      "15 , 16gb , 1TB\n",
      "15 , 16gb , 1TB\n"
     ]
    }
   ],
   "source": [
    "class computer:\n",
    "    \n",
    "    def config(self):\n",
    "        print(\"15, 16gb, 1TB\")\n",
    "        \n",
    "\n",
    "\n",
    "compl = computer()\n",
    "com2 = computer()\n",
    "\n",
    "computer.config(compl)\n",
    "computer.config(com2)\n",
    "\n",
    "compl.config()\n",
    "com2.config()"
   ]
  },
  {
   "cell_type": "code",
   "execution_count": 11,
   "id": "c5e4f48a",
   "metadata": {},
   "outputs": [
    {
     "name": "stdout",
     "output_type": "stream",
     "text": [
      "in init\n",
      "in init\n",
      "15, 16gb, 1TB\n",
      "15, 16gb, 1TB\n"
     ]
    }
   ],
   "source": [
    "#    __init__ function\n",
    "\n",
    "class computer1:\n",
    "    \n",
    "    def __init__(self):#constructor\n",
    "        print(\"in init\")\n",
    "        \n",
    "    def config(self):\n",
    "        print(\"15, 16gb, 1TB\")\n",
    "        \n",
    "compl = computer1()\n",
    "com2 = computer1()\n",
    "\n",
    "computer1.config(compl)\n",
    "computer1.config(com2)\n",
    "    \n",
    "# special variable __name__"
   ]
  },
  {
   "cell_type": "code",
   "execution_count": 14,
   "id": "47e1008c",
   "metadata": {},
   "outputs": [
    {
     "name": "stdout",
     "output_type": "stream",
     "text": [
      "15, 16gb, 1TB Rzyen 3 8\n",
      "15, 16gb, 1TB i5 16\n"
     ]
    }
   ],
   "source": [
    "class computer2:\n",
    "    \n",
    "    def __init__(self,cpu,ram):#constructor\n",
    "        self.cpu =cpu\n",
    "        self.ram = ram\n",
    "        \n",
    "    def config(self):\n",
    "        print(\"15, 16gb, 1TB\",self.cpu, self.ram)\n",
    "        \n",
    "compl = computer2('Rzyen 3',8)\n",
    "com2 = computer2('i5',16)\n",
    "\n",
    "compl.config()\n",
    "com2.config()"
   ]
  },
  {
   "cell_type": "markdown",
   "id": "b6766e05",
   "metadata": {},
   "source": [
    "# Constructor, Self"
   ]
  },
  {
   "cell_type": "code",
   "execution_count": 19,
   "id": "80cd8f18",
   "metadata": {},
   "outputs": [
    {
     "name": "stdout",
     "output_type": "stream",
     "text": [
      "140419150689136\n",
      "140419153099648\n"
     ]
    }
   ],
   "source": [
    "class computer3:\n",
    "    pass\n",
    "    \n",
    "c1 = computer3()\n",
    "c2 = computer3()\n",
    "\n",
    "print(id(c1))\n",
    "print(id(c2))"
   ]
  },
  {
   "cell_type": "code",
   "execution_count": 6,
   "id": "912ecde0",
   "metadata": {},
   "outputs": [
    {
     "name": "stdout",
     "output_type": "stream",
     "text": [
      "Sadgi\n",
      "name\n",
      "30\n",
      "20\n"
     ]
    }
   ],
   "source": [
    "class computer3:\n",
    "    def __init__(self):\n",
    "        self.name = \"name\"\n",
    "        self.age = 12\n",
    "        \n",
    "    def update(self):\n",
    "        self.age = 30\n",
    "    \n",
    "c1 = computer3()\n",
    "c2 = computer3()\n",
    "\n",
    "c1.name = \"Sadgi\"\n",
    "c2.age = 20\n",
    "\n",
    "print(c1.name)\n",
    "c1.update()\n",
    "print(c2.name)\n",
    "print(c1.age)\n",
    "print(c2.age)"
   ]
  },
  {
   "cell_type": "markdown",
   "id": "79d035ea",
   "metadata": {},
   "source": [
    "# Variable"
   ]
  },
  {
   "cell_type": "markdown",
   "id": "a5827a0f",
   "metadata": {},
   "source": [
    "## instance Variable"
   ]
  },
  {
   "cell_type": "code",
   "execution_count": 12,
   "id": "545c4082",
   "metadata": {},
   "outputs": [
    {
     "name": "stdout",
     "output_type": "stream",
     "text": [
      "name 12 4\n",
      "name 10 4\n"
     ]
    }
   ],
   "source": [
    "class car:\n",
    "    #static\n",
    "    \n",
    "    wheels = 4\n",
    "    \n",
    "    #instance\n",
    "    def __init__(self):\n",
    "        self.name = \"name\"\n",
    "        self.count = 10\n",
    "        \n",
    "c1 = car()\n",
    "c2 = car()\n",
    "\n",
    "c1.count = 12\n",
    "\n",
    "print(c1.name , c1.count , c1.wheels)\n",
    "print(c2.name , c2.count, c1.wheels)"
   ]
  },
  {
   "cell_type": "markdown",
   "id": "3014135d",
   "metadata": {},
   "source": [
    "# Methods"
   ]
  },
  {
   "cell_type": "code",
   "execution_count": 19,
   "id": "c64400be",
   "metadata": {},
   "outputs": [
    {
     "name": "stdout",
     "output_type": "stream",
     "text": [
      "22 33 44\n",
      "33.0\n",
      "11 55 67\n",
      "44.333333333333336\n",
      "KV\n",
      "This is a student class\n"
     ]
    }
   ],
   "source": [
    "class Student:\n",
    "    \n",
    "    #static variable\n",
    "    school = \"KV\"\n",
    "    \n",
    "    def __init__(self,m1,m2,m3):\n",
    "        self.m1 = m1\n",
    "        self.m2 = m2\n",
    "        self.m3 = m3\n",
    "    \n",
    "    #instance method\n",
    "    \n",
    "    def avg(self):\n",
    "        return (self.m1+self.m2+self.m3)/3\n",
    "    \n",
    "    @classmethod #decorator\n",
    "    def get_school(cls):\n",
    "        return cls.school\n",
    "        \n",
    "    @staticmethod\n",
    "    def info():\n",
    "        print(\"This is a student class\")\n",
    "        \n",
    "s1 = Student(22,33,44)\n",
    "s2 = Student(11,55,67)\n",
    "\n",
    "\n",
    "print(s1.m1 , s1.m2, s1.m3)\n",
    "print(s1.avg())\n",
    "print(s2.m1 , s2.m2, s2.m3)\n",
    "print(s2.avg())\n",
    "\n",
    "print(Student.get_school())\n",
    "\n",
    "Student.info()"
   ]
  },
  {
   "cell_type": "code",
   "execution_count": 20,
   "id": "53a01c20",
   "metadata": {},
   "outputs": [],
   "source": [
    "#accesser = getter\n",
    "#mutators = setter\n",
    "\n",
    "#MRO = method resolution order used to call super in multiple inheritance"
   ]
  },
  {
   "cell_type": "code",
   "execution_count": 25,
   "id": "282af823",
   "metadata": {},
   "outputs": [
    {
     "name": "stdout",
     "output_type": "stream",
     "text": [
      "Sadgi 20\n",
      "Sadik 30\n",
      "140656157777584\n",
      "140656157773936\n"
     ]
    }
   ],
   "source": [
    "class student:\n",
    "    \n",
    "    def __init__(self,name,rollno):\n",
    "        self.name = name\n",
    "        self.rollno = rollno\n",
    "        self.lap = self.laptop()\n",
    "    \n",
    "    def show(self):\n",
    "        print(self.name , self.rollno)\n",
    "        \n",
    "    class laptop:\n",
    "        \n",
    "        def __init__(self):\n",
    "            self.laptop = \"HP\"\n",
    "            self.cpu = \"i3\"\n",
    "            self.ram = 8\n",
    "        \n",
    "s1 = student(\"Sadgi\" , 20)\n",
    "s2 = student(\"Sadik\" , 30)\n",
    "\n",
    "s1.show()\n",
    "s2.show()\n",
    "\n",
    "lap1 = s1.lap\n",
    "lap2 = s2.lap\n",
    "print(id(lap1))\n",
    "print(id(lap2))"
   ]
  },
  {
   "cell_type": "markdown",
   "id": "8d89c2c5",
   "metadata": {},
   "source": [
    "# INHERITANCE"
   ]
  },
  {
   "cell_type": "markdown",
   "id": "a8d250a4",
   "metadata": {},
   "source": [
    "## single level inhertance"
   ]
  },
  {
   "cell_type": "code",
   "execution_count": 32,
   "id": "07635d59",
   "metadata": {},
   "outputs": [
    {
     "name": "stdout",
     "output_type": "stream",
     "text": [
      "Feature 1 is working\n",
      "Feature 2 is working\n",
      "Feature 3 is working\n",
      "Feature 4 is working\n"
     ]
    }
   ],
   "source": [
    "class A:\n",
    "    def feature1(self):\n",
    "        print(\"Feature 1 is working\")\n",
    "        \n",
    "    def feature2(self):\n",
    "        print(\"Feature 2 is working\")\n",
    "\n",
    "class B(A):\n",
    "    def feature3(self):\n",
    "        print(\"Feature 3 is working\")\n",
    "        \n",
    "    def feature4(self):\n",
    "        print(\"Feature 4 is working\")\n",
    "        \n",
    "\n",
    "# a1 = A()\n",
    "\n",
    "# a1.feature1()\n",
    "# a1.feature2()\n",
    "\n",
    "b1 = B()\n",
    "\n",
    "b1.feature1()\n",
    "b1.feature2()\n",
    "b1.feature3()\n",
    "b1.feature4()"
   ]
  },
  {
   "cell_type": "markdown",
   "id": "0f9a962e",
   "metadata": {},
   "source": [
    "## multi level inhertance"
   ]
  },
  {
   "cell_type": "code",
   "execution_count": 33,
   "id": "83aa03ca",
   "metadata": {},
   "outputs": [
    {
     "name": "stdout",
     "output_type": "stream",
     "text": [
      "Feature 1 is working\n",
      "Feature 2 is working\n",
      "Feature 3 is working\n",
      "Feature 4 is working\n",
      "Feature 5 is working\n"
     ]
    }
   ],
   "source": [
    "class A:\n",
    "    def feature1(self):\n",
    "        print(\"Feature 1 is working\")\n",
    "        \n",
    "    def feature2(self):\n",
    "        print(\"Feature 2 is working\")\n",
    "\n",
    "class B(A):\n",
    "    def feature3(self):\n",
    "        print(\"Feature 3 is working\")\n",
    "        \n",
    "    def feature4(self):\n",
    "        print(\"Feature 4 is working\")\n",
    "        \n",
    "class C(B):\n",
    "    def feature5(self):\n",
    "        print(\"Feature 5 is working\")\n",
    "    \n",
    "# a1 = A()\n",
    "\n",
    "# a1.feature1()\n",
    "# a1.feature2()\n",
    "\n",
    "b1 = C()\n",
    "\n",
    "b1.feature1()\n",
    "b1.feature2()\n",
    "b1.feature3()\n",
    "b1.feature4()\n",
    "b1.feature5()"
   ]
  },
  {
   "cell_type": "markdown",
   "id": "4a35378f",
   "metadata": {},
   "source": [
    "## multiple inhertance"
   ]
  },
  {
   "cell_type": "code",
   "execution_count": 5,
   "id": "eea0647d",
   "metadata": {},
   "outputs": [
    {
     "name": "stdout",
     "output_type": "stream",
     "text": [
      "Sadgi\n",
      "Sadgi\n",
      "Feature 5 is working\n"
     ]
    }
   ],
   "source": [
    "class A:\n",
    "    def __init__(self):\n",
    "        print(\"Sadgi\")\n",
    "    def feature1(self):\n",
    "        print(\"Feature 1 is working\")\n",
    "        \n",
    "    def feature2(self):\n",
    "        print(\"Feature 2 is working\")\n",
    "\n",
    "class B:\n",
    "    def __init__(self):\n",
    "        print(\"Sadik\")\n",
    "    def feature3(self):\n",
    "        print(\"Feature 3 is working\")\n",
    "        \n",
    "    def feature4(self):\n",
    "        print(\"Feature 4 is working\")\n",
    "        \n",
    "class C(A,B):\n",
    "    def __init__(self):\n",
    "        super().__init__()\n",
    "        super().__init__()\n",
    "        print(\"Feature 5 is working\")\n",
    "    def feature5(self):\n",
    "        print(\"Feature 5 is working\")\n",
    "        \n",
    "    \n",
    "# a1 = A()\n",
    "\n",
    "# a1.feature1()\n",
    "# a1.feature2()\n",
    "\n",
    "b1 = C()\n",
    "\n",
    "# b1.feature1()\n",
    "# b1.feature2()\n",
    "# b1.feature3()\n",
    "# b1.feature4()\n",
    "# b1.feature5()"
   ]
  },
  {
   "cell_type": "code",
   "execution_count": 43,
   "id": "a77c1209",
   "metadata": {},
   "outputs": [
    {
     "name": "stdout",
     "output_type": "stream",
     "text": [
      "in a init\n",
      "in B init\n",
      "Feature 1 is working\n",
      "Feature 2 is working\n"
     ]
    }
   ],
   "source": [
    "class A:\n",
    "    \n",
    "    def __init__(self):\n",
    "        print(\"in a init\")\n",
    "        \n",
    "    def feature1(self):\n",
    "        print(\"Feature 1 is working\")\n",
    "        \n",
    "    def feature2(self):\n",
    "        print(\"Feature 2 is working\")\n",
    "\n",
    "class B(A):\n",
    "    \n",
    "    def __init__(self):\n",
    "        super().__init__()\n",
    "        print(\"in B init\")\n",
    "        \n",
    "    def feature3(self):\n",
    "        print(\"Feature 3 is working\")\n",
    "        \n",
    "    def feature4(self):\n",
    "        print(\"Feature 4 is working\")\n",
    "    \n",
    "    #call function using super class\n",
    "    def feat(self):\n",
    "        super().feature1()\n",
    "        \n",
    "    \n",
    "a1 = B()\n",
    "\n",
    "a1.feat()\n",
    "a1.feature2()"
   ]
  },
  {
   "cell_type": "markdown",
   "id": "c2d6c256",
   "metadata": {},
   "source": [
    "# Polymorphism"
   ]
  },
  {
   "cell_type": "code",
   "execution_count": 51,
   "id": "cd09597b",
   "metadata": {},
   "outputs": [
    {
     "name": "stdout",
     "output_type": "stream",
     "text": [
      "first\n",
      "that's it\n",
      "<__main__.Third object at 0x7fece86c3370>\n"
     ]
    }
   ],
   "source": [
    "class First(object):\n",
    "    def __init__(self):\n",
    "        print (\"first\")\n",
    "\n",
    "class Second(object):\n",
    "    def __init__(self):\n",
    "        print (\"second\")\n",
    "\n",
    "class Third(First, Second):\n",
    "    def __init__(self):\n",
    "        super(Third, self).__init__()\n",
    "        print (\"that's it\")\n",
    "        \n",
    "t = Third()\n",
    "print(t)"
   ]
  },
  {
   "cell_type": "markdown",
   "id": "bc07021c",
   "metadata": {},
   "source": [
    "# Lambda"
   ]
  },
  {
   "cell_type": "code",
   "execution_count": 53,
   "id": "f4119ee1",
   "metadata": {},
   "outputs": [
    {
     "name": "stdout",
     "output_type": "stream",
     "text": [
      "20\n"
     ]
    }
   ],
   "source": [
    "s = lambda a: a+a\n",
    "print(s(10))"
   ]
  },
  {
   "cell_type": "code",
   "execution_count": null,
   "id": "d25a828a",
   "metadata": {},
   "outputs": [],
   "source": []
  }
 ],
 "metadata": {
  "kernelspec": {
   "display_name": "Python 3 (ipykernel)",
   "language": "python",
   "name": "python3"
  },
  "language_info": {
   "codemirror_mode": {
    "name": "ipython",
    "version": 3
   },
   "file_extension": ".py",
   "mimetype": "text/x-python",
   "name": "python",
   "nbconvert_exporter": "python",
   "pygments_lexer": "ipython3",
   "version": "3.9.12"
  }
 },
 "nbformat": 4,
 "nbformat_minor": 5
}
