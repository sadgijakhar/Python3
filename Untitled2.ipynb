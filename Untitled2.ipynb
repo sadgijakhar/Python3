{
 "cells": [
  {
   "cell_type": "code",
   "execution_count": null,
   "id": "ee33ee44",
   "metadata": {},
   "outputs": [],
   "source": [
    "import numpy as np"
   ]
  },
  {
   "cell_type": "code",
   "execution_count": null,
   "id": "0920339b",
   "metadata": {},
   "outputs": [],
   "source": [
    "a = np.array([[[0,1,2,3],[4,5,6,7],[8,9,10,11],[12,13,14,15]],[[16,17,18,19],[20,21,22,23],[24,25,26,27],[28,29,30,31]],[[32,33,34,35],[36,37,38,39],[40,41,42,43],[44,45,46,47]]])\n",
    "\n",
    "print(a)\n",
    "\n",
    "b = np.diag(a[0])\n",
    "c = np.diag(a[1])\n",
    "d = np.diag(a[2])\n",
    "e = np.array([b,c,d])\n",
    "print()\n",
    "print(\"Output: \")\n",
    "print()\n",
    "print(e)"
   ]
  },
  {
   "cell_type": "code",
   "execution_count": null,
   "id": "78487602",
   "metadata": {},
   "outputs": [],
   "source": [
    "m = np.array([[1, 2, 3], [4, 5, 6], [7, 8, 9]])\n",
    "count = 1\n",
    "for i in m:\n",
    "    print(\"Mean of Row \",count,\" is \", np.mean(i))\n",
    "    count += 1\n",
    "m = m.T\n",
    "count = 1\n",
    "for i in m:\n",
    "    print(\"Mean of column \",count,\" is \", np.mean(i))\n",
    "    count += 1"
   ]
  },
  {
   "cell_type": "code",
   "execution_count": null,
   "id": "3582dd2a",
   "metadata": {},
   "outputs": [],
   "source": [
    "l = input().split(\"_\")\n",
    "print(l[1])\n",
    "print(l[0])\n",
    "print(l[-1])"
   ]
  },
  {
   "cell_type": "code",
   "execution_count": null,
   "id": "d30689f2",
   "metadata": {},
   "outputs": [],
   "source": [
    "dic ={'Jack Dorsey' : 'Twitter' , 'Tim Cook' : 'Apple', 'Jeff Bezos' : 'Amazon' , 'Mukesh Ambani' : 'RJIO'}\n",
    "l = []\n",
    "for i,j in dic.items():\n",
    "    l.append(j)\n",
    "\n",
    "l.sort(reverse = True)\n",
    "\n",
    "dict = {}\n",
    "for j in l:\n",
    "    for  i in dic:\n",
    "        if dic[i] == j:\n",
    "            dict[i] = j\n",
    "\n",
    "print(dict)\n"
   ]
  },
  {
   "cell_type": "code",
   "execution_count": null,
   "id": "ada6ca62",
   "metadata": {},
   "outputs": [],
   "source": [
    "input_list=[\"wood\", \"old\",\"apple\", \"big\", \"item\", \"euphoria\"] \n",
    "vowel = [\"a\",\"e\",\"i\",\"o\",\"u\"]\n",
    "l = [i for i in input_list if i[0] not in vowel]\n",
    "print(l)"
   ]
  },
  {
   "cell_type": "code",
   "execution_count": null,
   "id": "be3808d5",
   "metadata": {},
   "outputs": [],
   "source": [
    "from functools import reduce\n",
    "\n",
    "input_list = ['I','Love','Python']\n",
    "\n",
    "def Split():\n",
    "    st = \"\"\n",
    "    for i in input_list :\n",
    "       st += i +\" \"\n",
    "    return st\n",
    "\n",
    "lost = list(reduce(Split(), input_list))\n",
    "print(lost)"
   ]
  },
  {
   "cell_type": "code",
   "execution_count": null,
   "id": "7e02d79f",
   "metadata": {},
   "outputs": [],
   "source": [
    "x,y = input(\"Enter: \").split(\",\")\n",
    "l =[]\n",
    "t = 0\n",
    "while(t<int(x)):\n",
    "    if(t == 0 or t== int(x)-1):\n",
    "        for i in range(0,int(y)):\n",
    "            l.append(1)\n",
    "        t += 1\n",
    "        print(l)\n",
    "        l.clear()\n",
    "    else:\n",
    "        l.append(1)\n",
    "        for i in range(1,int(y)-1):\n",
    "            l.append(0)\n",
    "        t += 1\n",
    "        l.append(1)\n",
    "        print(l)\n",
    "        l.clear()\n",
    "        "
   ]
  },
  {
   "cell_type": "code",
   "execution_count": null,
   "id": "7f34c335",
   "metadata": {},
   "outputs": [],
   "source": [
    "arr = np.array([[11,12,13,14],[21,22,23,24],[31,32,33,34]])\n",
    "arr.shape"
   ]
  },
  {
   "cell_type": "code",
   "execution_count": null,
   "id": "4c966664",
   "metadata": {},
   "outputs": [],
   "source": [
    "l = []\n",
    "l1=[]\n",
    "for i in range(0,3):\n",
    "    l.append(arr[i][0])\n",
    "    l1.append(arr[i][3])\n",
    "print(np.array(l))\n",
    "print(arr[0])\n",
    "print(np.array(l1))\n",
    "print(arr[2])"
   ]
  },
  {
   "cell_type": "code",
   "execution_count": null,
   "id": "4c46cee7",
   "metadata": {},
   "outputs": [],
   "source": [
    "a = np.array([[4, 3, 1] ,[5, 7, 0], [9, 9, 3],[8, 2, 4]])\n",
    "m = int(input())\n",
    "n = int(input())\n",
    "\n",
    "list2 = a[m]\n",
    "a[m],a[n] = a[n],list2\n",
    "\n",
    "\n",
    "\n",
    "\n",
    "print(a)"
   ]
  },
  {
   "cell_type": "code",
   "execution_count": null,
   "id": "4b6f4c80",
   "metadata": {},
   "outputs": [],
   "source": [
    "n = int(input(\"Enter the size of data: \"))\n",
    "list_1 = []\n",
    "for i in range(0,n):\n",
    "    list_1.append(int(input()))\n",
    "list1 = []\n",
    "list1.append(list_1)\n",
    "list1.append(int(input(\"Enter check\")))\n",
    "sum = 0\n",
    "\n",
    "for i in list1[0]:\n",
    "    sum+=i\n",
    "    \n",
    "average = (sum/n)\n",
    "\n",
    "if(list1[1] > average):\n",
    "    print(True)\n",
    "else:\n",
    "    print(False)"
   ]
  },
  {
   "cell_type": "code",
   "execution_count": null,
   "id": "beb20fe0",
   "metadata": {},
   "outputs": [],
   "source": [
    "list1 = []\n",
    "n = int(input(\"Enter the total no. of old recruiters: \"))\n",
    "for i in range(0,n):\n",
    "    list1.append(int(input()))\n",
    "    \n",
    "list2 = []\n",
    "m = int(input(\"Enter the total no. of new recruiters: \"))\n",
    "for i in range(0,m):\n",
    "    list2.append(int(input()))\n",
    "    \n",
    "sum = 0\n",
    "for i in list1:\n",
    "    sum+=i  \n",
    "    \n",
    "average = (sum/n)\n",
    "print(average)\n",
    "for i in list2:\n",
    "    average1 = (sum+i)/(n+1)\n",
    "    if average1 > average:\n",
    "        list1.append(i)\n",
    "        average = average1\n",
    "        \n",
    "print(list1)"
   ]
  },
  {
   "cell_type": "code",
   "execution_count": null,
   "id": "cc55be5f",
   "metadata": {},
   "outputs": [],
   "source": [
    "average"
   ]
  },
  {
   "cell_type": "code",
   "execution_count": null,
   "id": "d4ab3c12",
   "metadata": {},
   "outputs": [],
   "source": [
    "str_1 = input()\n",
    "str_2 = input()\n",
    "if(len(str_1) > len(str_2)):\n",
    "    for i in str_1:\n",
    "        if i not in str_2:\n",
    "            print(i)\n",
    "            break\n",
    "else:\n",
    "    for i in str_2:\n",
    "        if i not in str_1:\n",
    "            print(i)\n",
    "            break"
   ]
  },
  {
   "cell_type": "code",
   "execution_count": null,
   "id": "4e2ccc8e",
   "metadata": {},
   "outputs": [],
   "source": [
    "str_1 = input()\n",
    "list=[]\n",
    "for i in str_1:\n",
    "    list.append(i)\n",
    "    \n",
    "str_2 = input()\n",
    "\n",
    "list_1=[]\n",
    "for i in str_2:\n",
    "    list_1.append(i)\n",
    "    \n",
    "list.sort()\n",
    "list_1.sort()\n",
    "\n",
    "if(list == list_1):\n",
    "    print(True)\n",
    "else:\n",
    "    print(False)"
   ]
  },
  {
   "cell_type": "code",
   "execution_count": null,
   "id": "28c26b1c",
   "metadata": {},
   "outputs": [],
   "source": [
    "str_1 = input()\n",
    "l = []\n",
    "for i in str_1:\n",
    "    l.append(i)\n",
    "\n",
    "vowel = [\"a\",\"e\",\"i\",\"o\",\"u\"]\n",
    "list_1 =[]\n",
    "list_2 = []\n",
    "for i in l:\n",
    "    if i in vowel:\n",
    "        list_1.append(i)\n",
    "    else:\n",
    "        list_2.append(i)\n",
    "        \n",
    "str = \"\"\n",
    "list_1 = list_1 + list_2\n",
    "for i in list_1:\n",
    "    str += i\n",
    "print(str)"
   ]
  },
  {
   "cell_type": "code",
   "execution_count": null,
   "id": "9afe4e57",
   "metadata": {},
   "outputs": [],
   "source": [
    "str_1 = input().split()\n",
    "str_1.reverse()\n",
    "str = \"\"\n",
    "for i in str_1:\n",
    "    str+=i+\" \"\n",
    "print(str)"
   ]
  },
  {
   "cell_type": "code",
   "execution_count": null,
   "id": "c089dcd1",
   "metadata": {},
   "outputs": [],
   "source": [
    "list_1= [7, 2, 0, 9, -1, 8]\n",
    "s = set(list_1)\n",
    "a = max(s)\n",
    "s.remove(a)\n",
    "if(len(s) == 0):\n",
    "    print(\"not present\")\n",
    "else:\n",
    "    print(max(s))\n"
   ]
  },
  {
   "cell_type": "code",
   "execution_count": 18,
   "id": "2360de24",
   "metadata": {},
   "outputs": [
    {
     "name": "stdout",
     "output_type": "stream",
     "text": [
      "10\n",
      "[1, 9, 36, 84, 126, 126, 84, 36, 9, 1]\n"
     ]
    }
   ],
   "source": [
    "n = int(input())\n",
    "lis = []\n",
    "if n == 1:\n",
    "    lis.append(1)\n",
    "else:\n",
    "    lis.extend([1,1])\n",
    "\n",
    "t = 3\n",
    "\n",
    "while(n>=t):\n",
    "    list_1 = []\n",
    "    for i in range(0,t):\n",
    "        list_1.append(1)\n",
    "    for i in range(1,t-1):\n",
    "        list_1[i]= lis[i-1]+lis[i]\n",
    "    lis = list_1\n",
    "    t+=1\n",
    "    \n",
    "\n",
    "print(lis)\n"
   ]
  },
  {
   "cell_type": "code",
   "execution_count": 27,
   "id": "8fea1601",
   "metadata": {},
   "outputs": [
    {
     "name": "stdout",
     "output_type": "stream",
     "text": [
      "Fruit\n",
      "1\n"
     ]
    },
    {
     "ename": "TypeError",
     "evalue": "isinstance() arg 2 must be a type or tuple of types",
     "output_type": "error",
     "traceback": [
      "\u001b[0;31m---------------------------------------------------------------------------\u001b[0m",
      "\u001b[0;31mTypeError\u001b[0m                                 Traceback (most recent call last)",
      "Input \u001b[0;32mIn [27]\u001b[0m, in \u001b[0;36m<cell line: 2>\u001b[0;34m()\u001b[0m\n\u001b[1;32m      3\u001b[0m \u001b[38;5;28mprint\u001b[39m(i)\n\u001b[1;32m      4\u001b[0m \u001b[38;5;28mprint\u001b[39m(j)\n\u001b[0;32m----> 5\u001b[0m \u001b[38;5;28;01mif\u001b[39;00m \u001b[38;5;28;43misinstance\u001b[39;49m\u001b[43m(\u001b[49m\u001b[43mj\u001b[49m\u001b[43m \u001b[49m\u001b[43m,\u001b[49m\u001b[43m \u001b[49m\u001b[38;5;28;43mdict\u001b[39;49m\u001b[43m)\u001b[49m:\n\u001b[1;32m      6\u001b[0m     \u001b[38;5;28mprint\u001b[39m(\u001b[38;5;241m1\u001b[39m)\n",
      "\u001b[0;31mTypeError\u001b[0m: isinstance() arg 2 must be a type or tuple of types"
     ]
    }
   ],
   "source": [
    "dict = {'Fruit': 1, 'Vegetable': {'Cabbage': 2, 'Cauliflower': 3}, 'Spices': 4}\n",
    "for i,j in dict.items():\n",
    "    print(i)\n",
    "    print(j)\n",
    "    if isinstance(j , dict):\n",
    "        print(1)\n",
    "#         for k,l in dict[i].items():\n",
    "#             print(k)\n",
    "#             print(l)"
   ]
  },
  {
   "cell_type": "code",
   "execution_count": 26,
   "id": "3ff46d79",
   "metadata": {},
   "outputs": [
    {
     "name": "stdout",
     "output_type": "stream",
     "text": [
      "Fruit\n",
      "1\n"
     ]
    },
    {
     "ename": "TypeError",
     "evalue": "isinstance() arg 2 must be a type or tuple of types",
     "output_type": "error",
     "traceback": [
      "\u001b[0;31m---------------------------------------------------------------------------\u001b[0m",
      "\u001b[0;31mTypeError\u001b[0m                                 Traceback (most recent call last)",
      "Input \u001b[0;32mIn [26]\u001b[0m, in \u001b[0;36m<cell line: 15>\u001b[0;34m()\u001b[0m\n\u001b[1;32m     16\u001b[0m \u001b[38;5;28mprint\u001b[39m(i)\n\u001b[1;32m     17\u001b[0m \u001b[38;5;28mprint\u001b[39m(j)\n\u001b[0;32m---> 19\u001b[0m \u001b[38;5;28;01mif\u001b[39;00m \u001b[38;5;28;43misinstance\u001b[39;49m\u001b[43m(\u001b[49m\u001b[43m \u001b[49m\u001b[43mj\u001b[49m\u001b[43m \u001b[49m\u001b[43m,\u001b[49m\u001b[43m \u001b[49m\u001b[38;5;28;43mdict\u001b[39;49m\u001b[43m \u001b[49m\u001b[43m)\u001b[49m:\n\u001b[1;32m     20\u001b[0m     \u001b[38;5;28mprint\u001b[39m(\u001b[38;5;28;01mTrue\u001b[39;00m)\n\u001b[1;32m     21\u001b[0m \u001b[38;5;28;01melse\u001b[39;00m:\n",
      "\u001b[0;31mTypeError\u001b[0m: isinstance() arg 2 must be a type or tuple of types"
     ]
    }
   ],
   "source": [
    "input_dict = {\"Fruit\": 1, \"Vegetable\": {\"Cabbage\": 2, \"Cauliflower\": 3}, \"Spices\": 4}\n",
    "\n",
    "# def flatten_dict(d):\n",
    "#     def expand(key, value):\n",
    "#         if isinstance(value, dict):\n",
    "#             return [ (key + '_' + k, v) for k, v in flatten_dict(value).items() ]\n",
    "#         else:\n",
    "#             return [ (key, value) ]\n",
    "\n",
    "#     items = [ item for k, v in d.items() for item in expand(k, v) ]\n",
    "#     return dict(items)\n",
    "\n",
    "# print (\"flatten dictionary\", flatten_dict(input_dict))\n",
    "def check(input):\n",
    "    for i,j in input.items():\n",
    "        return j\n",
    "    \n",
    "    if isinstance( j , dict ):\n",
    "        print(True)\n",
    "    else:\n",
    "        print(False)"
   ]
  },
  {
   "cell_type": "code",
   "execution_count": 28,
   "id": "3806c4f8",
   "metadata": {},
   "outputs": [
    {
     "name": "stdout",
     "output_type": "stream",
     "text": [
      "initial_dictionary {'geeks': {'Geeks': {'for': 7}}, 'for': {'geeks': {'Geeks': 3}}, 'Geeks': {'for': {'for': 1, 'geeks': 4}}}\n"
     ]
    },
    {
     "ename": "TypeError",
     "evalue": "isinstance() arg 2 must be a type or tuple of types",
     "output_type": "error",
     "traceback": [
      "\u001b[0;31m---------------------------------------------------------------------------\u001b[0m",
      "\u001b[0;31mTypeError\u001b[0m                                 Traceback (most recent call last)",
      "Input \u001b[0;32mIn [28]\u001b[0m, in \u001b[0;36m<cell line: 23>\u001b[0;34m()\u001b[0m\n\u001b[1;32m     19\u001b[0m \u001b[38;5;28mprint\u001b[39m (\u001b[38;5;124m\"\u001b[39m\u001b[38;5;124minitial_dictionary\u001b[39m\u001b[38;5;124m\"\u001b[39m, \u001b[38;5;28mstr\u001b[39m(ini_dict))\n\u001b[1;32m     22\u001b[0m \u001b[38;5;66;03m# printing final dictionary\u001b[39;00m\n\u001b[0;32m---> 23\u001b[0m \u001b[38;5;28mprint\u001b[39m (\u001b[38;5;124m\"\u001b[39m\u001b[38;5;124mfinal_dictionary\u001b[39m\u001b[38;5;124m\"\u001b[39m, \u001b[38;5;28mstr\u001b[39m(\u001b[43mflatten_dict\u001b[49m\u001b[43m(\u001b[49m\u001b[43mini_dict\u001b[49m\u001b[43m)\u001b[49m))\n",
      "Input \u001b[0;32mIn [28]\u001b[0m, in \u001b[0;36mflatten_dict\u001b[0;34m(dd, separator, prefix)\u001b[0m\n\u001b[1;32m      7\u001b[0m \u001b[38;5;28;01mdef\u001b[39;00m \u001b[38;5;21mflatten_dict\u001b[39m(dd, separator \u001b[38;5;241m=\u001b[39m\u001b[38;5;124m'\u001b[39m\u001b[38;5;124m_\u001b[39m\u001b[38;5;124m'\u001b[39m, prefix \u001b[38;5;241m=\u001b[39m\u001b[38;5;124m'\u001b[39m\u001b[38;5;124m'\u001b[39m):\n\u001b[1;32m      8\u001b[0m \t\u001b[38;5;28;01mreturn\u001b[39;00m { prefix \u001b[38;5;241m+\u001b[39m separator \u001b[38;5;241m+\u001b[39m k \u001b[38;5;28;01mif\u001b[39;00m prefix \u001b[38;5;28;01melse\u001b[39;00m k : v\n\u001b[1;32m      9\u001b[0m \t\t\t\u001b[38;5;28;01mfor\u001b[39;00m kk, vv \u001b[38;5;129;01min\u001b[39;00m dd\u001b[38;5;241m.\u001b[39mitems()\n\u001b[1;32m     10\u001b[0m \t\t\t\u001b[38;5;28;01mfor\u001b[39;00m k, v \u001b[38;5;129;01min\u001b[39;00m flatten_dict(vv, separator, kk)\u001b[38;5;241m.\u001b[39mitems()\n\u001b[0;32m---> 11\u001b[0m \t\t\t} \u001b[38;5;28;01mif\u001b[39;00m \u001b[38;5;28;43misinstance\u001b[39;49m\u001b[43m(\u001b[49m\u001b[43mdd\u001b[49m\u001b[43m,\u001b[49m\u001b[43m \u001b[49m\u001b[38;5;28;43mdict\u001b[39;49m\u001b[43m)\u001b[49m \u001b[38;5;28;01melse\u001b[39;00m { prefix : dd }\n",
      "\u001b[0;31mTypeError\u001b[0m: isinstance() arg 2 must be a type or tuple of types"
     ]
    }
   ],
   "source": [
    "# Python code to demonstrate\n",
    "# conversion of nested dictionary\n",
    "# into flattened dictionary\n",
    "\n",
    "# code to convert ini_dict to flattened dictionary\n",
    "# default separator '_'\n",
    "def flatten_dict(dd, separator ='_', prefix =''):\n",
    "\treturn { prefix + separator + k if prefix else k : v\n",
    "\t\t\tfor kk, vv in dd.items()\n",
    "\t\t\tfor k, v in flatten_dict(vv, separator, kk).items()\n",
    "\t\t\t} if isinstance(dd, dict) else { prefix : dd }\n",
    "\t\t\n",
    "# initialising_dictionary\n",
    "ini_dict = {'geeks': {'Geeks': {'for': 7}},\n",
    "\t\t\t'for': {'geeks': {'Geeks': 3}},\n",
    "\t\t\t'Geeks': {'for': {'for': 1, 'geeks': 4}}}\n",
    "\n",
    "# printing initial dictionary\n",
    "print (\"initial_dictionary\", str(ini_dict))\n",
    "\n",
    "\n",
    "# printing final dictionary\n",
    "print (\"final_dictionary\", str(flatten_dict(ini_dict)))\n"
   ]
  },
  {
   "cell_type": "code",
   "execution_count": null,
   "id": "1123d26e",
   "metadata": {},
   "outputs": [],
   "source": []
  }
 ],
 "metadata": {
  "kernelspec": {
   "display_name": "Python 3 (ipykernel)",
   "language": "python",
   "name": "python3"
  },
  "language_info": {
   "codemirror_mode": {
    "name": "ipython",
    "version": 3
   },
   "file_extension": ".py",
   "mimetype": "text/x-python",
   "name": "python",
   "nbconvert_exporter": "python",
   "pygments_lexer": "ipython3",
   "version": "3.9.12"
  }
 },
 "nbformat": 4,
 "nbformat_minor": 5
}
